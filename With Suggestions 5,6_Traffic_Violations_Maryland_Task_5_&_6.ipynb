{
  "nbformat": 4,
  "nbformat_minor": 0,
  "metadata": {
    "colab": {
      "name": "5,6 Traffic Violations Maryland - Task 5 & 6.ipynb",
      "provenance": [],
      "collapsed_sections": [],
      "include_colab_link": true
    },
    "kernelspec": {
      "name": "python3",
      "display_name": "Python 3"
    },
    "language_info": {
      "name": "python"
    }
  },
  "cells": [
    {
      "cell_type": "markdown",
      "metadata": {
        "id": "view-in-github",
        "colab_type": "text"
      },
      "source": [
        "<a href=\"https://colab.research.google.com/github/ImalkaPrasadini/Bigdata_Spark/blob/main/With%20Suggestions%205%2C6_Traffic_Violations_Maryland_Task_5_%26_6.ipynb\" target=\"_parent\"><img src=\"https://colab.research.google.com/assets/colab-badge.svg\" alt=\"Open In Colab\"/></a>"
      ]
    },
    {
      "cell_type": "markdown",
      "metadata": {
        "id": "k9O9vjATJvzd"
      },
      "source": [
        "# **Traffic Violation Analysis**"
      ]
    },
    {
      "cell_type": "markdown",
      "metadata": {
        "id": "YUkU46hgjwzb"
      },
      "source": [
        "# **Download Java**"
      ]
    },
    {
      "cell_type": "code",
      "metadata": {
        "id": "m62q-s5Ijn3y"
      },
      "source": [
        "!apt-get install openjdk-8-jdk-headless -qq > /dev/null"
      ],
      "execution_count": 4,
      "outputs": []
    },
    {
      "cell_type": "markdown",
      "metadata": {
        "id": "ZRCfA50Tj6Np"
      },
      "source": [
        "#  **Install Apache Spark 3.0.1 with Hadoop 2.7**"
      ]
    },
    {
      "cell_type": "code",
      "metadata": {
        "id": "SRNwF-yfkHeH"
      },
      "source": [
        "!wget -q https://www-us.apache.org/dist/spark/spark-3.1.1/spark-3.1.1-bin-hadoop3.2.tgz"
      ],
      "execution_count": 5,
      "outputs": []
    },
    {
      "cell_type": "markdown",
      "metadata": {
        "id": "onDq9E36kWSA"
      },
      "source": [
        "# **Unzip Folder**"
      ]
    },
    {
      "cell_type": "code",
      "metadata": {
        "id": "Zj2wWWZokWzQ"
      },
      "source": [
        "!tar xf spark-3.1.1-bin-hadoop3.2.tgz"
      ],
      "execution_count": 6,
      "outputs": []
    },
    {
      "cell_type": "markdown",
      "metadata": {
        "id": "NQX7PU0RkcTl"
      },
      "source": [
        "# **Install Find Spark**\n",
        "\n",
        "> It will locate Spark on the system and import it as a regular library.\n",
        "\n"
      ]
    },
    {
      "cell_type": "code",
      "metadata": {
        "id": "J6L2qUc8kted"
      },
      "source": [
        "!pip install -q findspark"
      ],
      "execution_count": 7,
      "outputs": []
    },
    {
      "cell_type": "markdown",
      "metadata": {
        "id": "sVEPWRKAkxJu"
      },
      "source": [
        "# **Settin up Envirnmental Variables**\n",
        "\n",
        "\n",
        "> This will enable us to run Pyspark in the Colab environment.\n",
        "\n"
      ]
    },
    {
      "cell_type": "code",
      "metadata": {
        "id": "YXIAHRsNk9-9"
      },
      "source": [
        "import os\n",
        "os.environ[\"JAVA_HOME\"] = \"/usr/lib/jvm/java-8-openjdk-amd64\"\n",
        "os.environ[\"SPARK_HOME\"] = \"/content/spark-3.1.1-bin-hadoop3.2\""
      ],
      "execution_count": 8,
      "outputs": []
    },
    {
      "cell_type": "code",
      "metadata": {
        "id": "ioxD5Lbxlm88"
      },
      "source": [
        "import findspark\n",
        "findspark.init()"
      ],
      "execution_count": 9,
      "outputs": []
    },
    {
      "cell_type": "code",
      "metadata": {
        "colab": {
          "base_uri": "https://localhost:8080/",
          "height": 35
        },
        "id": "_8m98oO-lxYT",
        "outputId": "0bcfa884-5537-4b48-b841-d56a6e25c42d"
      },
      "source": [
        "findspark.find()"
      ],
      "execution_count": 10,
      "outputs": [
        {
          "output_type": "execute_result",
          "data": {
            "application/vnd.google.colaboratory.intrinsic+json": {
              "type": "string"
            },
            "text/plain": [
              "'/content/spark-3.1.1-bin-hadoop3.2'"
            ]
          },
          "metadata": {
            "tags": []
          },
          "execution_count": 10
        }
      ]
    },
    {
      "cell_type": "markdown",
      "metadata": {
        "id": "xOQin2cGI3Zq"
      },
      "source": [
        "# **Import dataset from the Drive**"
      ]
    },
    {
      "cell_type": "code",
      "metadata": {
        "id": "moYj7hf0IsJd"
      },
      "source": [
        "from google.colab import drive\n",
        "drive.mount('/content/MyDrive')"
      ],
      "execution_count": null,
      "outputs": []
    },
    {
      "cell_type": "markdown",
      "metadata": {
        "id": "uxQmsXytmBVK"
      },
      "source": [
        "# **Loading data to PySpark**"
      ]
    },
    {
      "cell_type": "code",
      "metadata": {
        "id": "FfN1YMdznXCc"
      },
      "source": [
        "import pandas as pd\n",
        "import numpy as np\n",
        "import matplotlib.pyplot as plt\n",
        "from pyspark.sql import SparkSession\n",
        "spark = SparkSession.builder.master(\"local[*]\").getOrCreate()\n",
        "import pyspark.sql.functions as f\n",
        "from pyspark.sql.functions import *\n",
        "from pyspark.sql.types import DateType"
      ],
      "execution_count": 11,
      "outputs": []
    },
    {
      "cell_type": "code",
      "metadata": {
        "colab": {
          "base_uri": "https://localhost:8080/"
        },
        "id": "i56vrPa-mIcC",
        "outputId": "993e159f-87c0-41ca-f699-d4ae07d282e9"
      },
      "source": [
        "# Load data to Task 1.\n",
        "data = spark.read.csv('/content/sample_data/DataSet.csv',header=True)\n",
        "data.show()"
      ],
      "execution_count": 12,
      "outputs": [
        {
          "output_type": "stream",
          "text": [
            "+------------+------------+--------------------+--------------------+-----+---------------+---------------+-------+---------------+----+-----------+--------------+-----------------------+\n",
            "|Date Of Stop|Time Of Stop|           SubAgency|            Location|Belts|Personal Injury|Property Damage|Alcohol|    VehicleType| _c9|       Make|Violation Type|Contributed To Accident|\n",
            "+------------+------------+--------------------+--------------------+-----+---------------+---------------+-------+---------------+----+-----------+--------------+-----------------------+\n",
            "|  09/24/2013|    17:11:00|3rd district, Sil...|     8804 FLOWER AVE|   No|             No|             No|     No|02 - Automobile|null|       FORD|      Citation|                     No|\n",
            "|  08/29/2017|    10:19:00|2nd district, Bet...|WISCONSIN AVE@ EL...|   No|             No|             No|     No|02 - Automobile|null|     TOYOTA|      Citation|                     No|\n",
            "|  12/01/2014|    12:52:00|6th district, Gai...|CHRISTOPHER AVE/M...|   No|             No|            Yes|     No|02 - Automobile|null|      HONDA|      Citation|                     No|\n",
            "|  08/29/2017|    09:22:00|3rd district, Sil...|CHERRY HILL RD./C...|   No|             No|            Yes|     No|02 - Automobile|null|       DODG|      Citation|                     No|\n",
            "|  08/28/2017|    23:41:00|6th district, Gai...|355 @ SOUTH WESTL...|   No|             No|             No|     No|02 - Automobile|null|MINI COOPER|      Citation|                     No|\n",
            "|  08/27/2013|    00:55:00|2nd district, Bet...|CONNECTICUT/CHEVY...|   No|             No|             No|     No|02 - Automobile|null|    HYUNDAI|      Citation|                     No|\n",
            "|  10/08/2013|    13:23:00|4th district, Whe...|GEORGIA AVE / BEL...|   No|             No|             No|     No|02 - Automobile|null|       FORD|      Citation|                     No|\n",
            "|  04/24/2015|    00:38:00|1st district, Roc...|EB MONTROSE PKWY/...|   No|             No|             No|     No|02 - Automobile|null|      DODGE|      Citation|                     No|\n",
            "|  08/28/2017|    23:41:00|6th district, Gai...|355 @ SOUTH WESTL...|   No|             No|             No|     No|02 - Automobile|null|MINI COOPER|      Citation|                     No|\n",
            "|  08/28/2017|    23:41:00|6th district, Gai...|355 @ SOUTH WESTL...|   No|             No|             No|     No|02 - Automobile|null|MINI COOPER|      Citation|                     No|\n",
            "|  02/14/2014|    20:10:00|1st district, Roc...|GATEWAY CENTER DR...|   No|             No|             No|     No|02 - Automobile|null|       CADI|      Citation|                     No|\n",
            "|  03/19/2012|    16:10:00|2nd district, Bet...|CLARENDON RD @ EL...|   No|             No|             No|     No|02 - Automobile|null|      HONDA|      Citation|                     No|\n",
            "|  06/09/2012|    21:19:00|3rd district, Sil...|2068 HARLEQUIN TE...|   No|             No|             No|     No|02 - Automobile|null|  CHEVROLET|      Citation|                     No|\n",
            "|  12/20/2012|    00:41:00|2nd district, Bet...|NORFOLK AVE /  ST...|   No|             No|             No|     No|02 - Automobile|null|       AUDI|      Citation|                     No|\n",
            "|  07/20/2012|    23:12:00|5th district, Ger...|WISTERIA DR @ WAR...|   No|             No|             No|     No|02 - Automobile|null|       TOYT|      Citation|                     No|\n",
            "|  09/11/2012|    21:47:00|4th district, Whe...|TWIG RD AT GOOD H...|  Yes|             No|             No|     No|02 - Automobile|null|      DODGE|      Citation|                     No|\n",
            "|  07/23/2013|    23:15:00|4th district, Whe...|108 / OLD BALTIMO...|   No|             No|             No|     No|02 - Automobile|null|     SATURN|      Citation|                     No|\n",
            "|  10/28/2013|    17:41:00|6th district, Gai...|EMORY GROVE RD @ ...|   No|             No|             No|     No|02 - Automobile|null|      HONDA|      Citation|                    Yes|\n",
            "|  08/28/2017|    23:41:00|6th district, Gai...|355 @ SOUTH WESTL...|   No|             No|             No|     No|02 - Automobile|null|MINI COOPER|      Citation|                     No|\n",
            "|  12/17/2015|    13:15:00|5th district, Ger...|19916 CRYSTAL ROC...|   No|             No|             No|     No|02 - Automobile|null|     TOYOTA|      Citation|                     No|\n",
            "+------------+------------+--------------------+--------------------+-----+---------------+---------------+-------+---------------+----+-----------+--------------+-----------------------+\n",
            "only showing top 20 rows\n",
            "\n"
          ],
          "name": "stdout"
        }
      ]
    },
    {
      "cell_type": "markdown",
      "metadata": {
        "id": "UH8Jk68Wa8pC"
      },
      "source": [
        "### **5. The number of accidents which occur due to traffic violations based on vehicle type**"
      ]
    },
    {
      "cell_type": "code",
      "metadata": {
        "colab": {
          "base_uri": "https://localhost:8080/",
          "height": 536
        },
        "id": "AX4K7Or-bA9n",
        "outputId": "131e56a3-55f8-4265-ae39-68fce1649146"
      },
      "source": [
        "# Select relevent columns\n",
        "df_task1 = data.select('VehicleType','Contributed To Accident')\n",
        "# df_task1.show()\n",
        "\n",
        "# Filter the data where accidents occur\n",
        "df_task1 = df_task1.where(df_task1['Contributed to Accident'] == 'Yes')\n",
        "\n",
        "# Group data from Vehicle type.\n",
        "group_data = df_task1.groupby([\"VehicleType\",\"Contributed To Accident\"]).agg(count(\"Contributed To Accident\").alias('Number of Accidents'))\n",
        "group_data = group_data.sort(col('Number of Accidents').desc()).limit(5)\n",
        "\n",
        "# Dipaly Data\n",
        "group_data.show()\n",
        "\n",
        "# convert DataFrame into Pandas\n",
        "df_pandas = group_data.toPandas()\n",
        "df_pandas\n",
        "\n",
        "# Chart\n",
        "plt.bar(df_pandas[\"VehicleType\"],df_pandas[\"Number of Accidents\"])\n",
        "plt.xticks(rotation=90)\n",
        "\n",
        "# visualize chart\n",
        "plt.show()\n"
      ],
      "execution_count": 13,
      "outputs": [
        {
          "output_type": "stream",
          "text": [
            "+--------------------+-----------------------+-------------------+\n",
            "|         VehicleType|Contributed To Accident|Number of Accidents|\n",
            "+--------------------+-----------------------+-------------------+\n",
            "|     02 - Automobile|                    Yes|                566|\n",
            "|05 - Light Duty T...|                    Yes|                 21|\n",
            "|          28 - Other|                    Yes|                  7|\n",
            "|06 - Heavy Duty T...|                    Yes|                  4|\n",
            "|08 - Recreational...|                    Yes|                  2|\n",
            "+--------------------+-----------------------+-------------------+\n",
            "\n"
          ],
          "name": "stdout"
        },
        {
          "output_type": "display_data",
          "data": {
            "image/png": "[encoded data removed]",
            "text/plain": [
              "<Figure size 432x288 with 1 Axes>"
            ]
          },
          "metadata": {
            "tags": [],
            "needs_background": "light"
          }
        }
      ]
    },
    {
      "cell_type": "markdown",
      "metadata": {
        "id": "jyLWnGI4eMKh"
      },
      "source": [
        "### **6. Identify the correlation between accidents and time of the day**"
      ]
    },
    {
      "cell_type": "code",
      "metadata": {
        "colab": {
          "base_uri": "https://localhost:8080/",
          "height": 942
        },
        "id": "Oj9bkcuIeUVW",
        "outputId": "60976611-444a-455b-ea4c-81408ecd25b5"
      },
      "source": [
        "# Select relevent columns\n",
        "df_task15 = data.select('Time Of Stop','Contributed To Accident')\n",
        "\n",
        "# Filter the data where accidents occur\n",
        "df_task15 = df_task15.where(df_task15['Contributed to Accident'] == 'Yes')\n",
        "\n",
        "#Sort above based on time\n",
        "#sorted=group_data.orderBy('Time Of Stop')\n",
        "#sorted.show()\n",
        "\n",
        "# Here contain 24hr clock. To get more simple consider only the hour that accident is happened. \n",
        "#Take the hour for each timestamp\n",
        "sorted = (df_task15.select(\"Time Of Stop\").withColumn(\"hour\", hour(\"Time Of Stop\")))\n",
        "\n",
        "\n",
        "#Join above datafrmaes by outter join.\n",
        "df = df_task15.join(sorted, on=['Time Of Stop'], how='outer')\n",
        "\n",
        "\n",
        "\n",
        "# Group data from Vehicle type.\n",
        "group_data = df.groupby([\"hour\",\"Contributed To Accident\"]).agg(count(\"Contributed To Accident\").alias('Number of Accidents'))\n",
        "group_data=group_data.sort('hour')\n",
        "\n",
        "# Dipaly Data\n",
        "group_data.show()\n",
        "\n",
        "\n",
        "# Chart\n",
        "# convert DataFrame into Pandas\n",
        "df_pandas = group_data.toPandas()\n",
        "df_pandas\n",
        "\n",
        "# Creating dimensions(VehicleType,Contributed To Accident,count)\n",
        "df_pivot = pd.pivot_table(\n",
        "\tdf_pandas,\n",
        "\tvalues=\"Number of Accidents\",\n",
        "\tindex=\"hour\",\n",
        "\tcolumns=\"Contributed To Accident\",\n",
        "\taggfunc=np.sum\n",
        ")\n",
        "\n",
        "# Plot a bar chart using the DF\n",
        "ax=df_pivot.plot(kind=\"bar\")\n",
        "\n",
        "# Get a Matplotlib figure from the axes object for formatting purposes\n",
        "fig = ax.get_figure()\n",
        "\n",
        "# Change the plot dimensions (width, height)\n",
        "fig.set_size_inches(10, 8)\n",
        "\n",
        "# Change the axes labels\n",
        "ax.set_xlabel(\"Hour of Day\")\n",
        "ax.set_ylabel(\"Number of Accidents\")\n",
        "\n",
        "\n",
        "# Visualize the data\n",
        "plt.show()\n"
      ],
      "execution_count": 135,
      "outputs": [
        {
          "output_type": "stream",
          "text": [
            "+----+-----------------------+-------------------+\n",
            "|hour|Contributed To Accident|Number of Accidents|\n",
            "+----+-----------------------+-------------------+\n",
            "|   0|                    Yes|                 62|\n",
            "|   1|                    Yes|                 69|\n",
            "|   2|                    Yes|                 27|\n",
            "|   3|                    Yes|                578|\n",
            "|   4|                    Yes|                146|\n",
            "|   5|                    Yes|                  5|\n",
            "|   6|                    Yes|                169|\n",
            "|   7|                    Yes|                 32|\n",
            "|   8|                    Yes|                 33|\n",
            "|   9|                    Yes|                 61|\n",
            "|  10|                    Yes|                 94|\n",
            "|  11|                    Yes|                 43|\n",
            "|  12|                    Yes|                 77|\n",
            "|  13|                    Yes|                 82|\n",
            "|  14|                    Yes|                106|\n",
            "|  15|                    Yes|                113|\n",
            "|  16|                    Yes|                 79|\n",
            "|  17|                    Yes|                257|\n",
            "|  18|                    Yes|                 98|\n",
            "|  19|                    Yes|                100|\n",
            "+----+-----------------------+-------------------+\n",
            "only showing top 20 rows\n",
            "\n"
          ],
          "name": "stdout"
        },
        {
          "output_type": "display_data",
          "data": {
            "image/png": "[encoded data removed]",
            "text/plain": [
              "<Figure size 720x576 with 1 Axes>"
            ]
          },
          "metadata": {
            "tags": [],
            "needs_background": "light"
          }
        }
      ]
    },
    {
      "cell_type": "markdown",
      "metadata": {
        "id": "EBBK7LpfjXk2"
      },
      "source": [
        "**How change according to the day(Weekend or Weekday)**"
      ]
    },
    {
      "cell_type": "code",
      "metadata": {
        "colab": {
          "base_uri": "https://localhost:8080/"
        },
        "id": "F9aaJqh6j_rM",
        "outputId": "71788573-55a0-44f9-baf9-4c7d9af4b479"
      },
      "source": [
        "from pyspark.sql.functions import unix_timestamp\n",
        "from pyspark.sql.functions import from_unixtime\n",
        "from pyspark.sql.window import Window\n",
        "\n",
        "# Select relevent columns\n",
        "df_task15 = data.select('Date Of Stop','Time Of Stop','Contributed To Accident')\n",
        "\n",
        "# Filter the data where accidents occur\n",
        "df_task15 = df_task15.where(df_task15['Contributed to Accident'] == 'Yes')\n",
        "\n",
        "# Filter the day of week where accidents occur\n",
        "d_day= df_task15.select(hour(\"Time Of Stop\").alias('hour'),from_unixtime(unix_timestamp('Date Of Stop', 'MM/dd/yyyy')).alias('date'),'Contributed To Accident')\n",
        "d_day.withColumn(\"Day\", date_format(col(\"date\"), \"EEEE\")).show()\n",
        "\n",
        "# Group data from Vehicle type.\n",
        "group_data = d_day.groupby([\"hour\",\"Contributed To Accident\"]).agg(count(\"Contributed To Accident\").alias('Number of Accidents'))\n",
        "group_data=group_data.sort('hour').show\n",
        "\n"
      ],
      "execution_count": 175,
      "outputs": [
        {
          "output_type": "stream",
          "text": [
            "+----+---------+-----------------------+\n",
            "|hour|     date|Contributed To Accident|\n",
            "+----+---------+-----------------------+\n",
            "|  17|   Monday|                    Yes|\n",
            "|  14| Thursday|                    Yes|\n",
            "|  14|   Monday|                    Yes|\n",
            "|   9| Saturday|                    Yes|\n",
            "|  18| Thursday|                    Yes|\n",
            "|  15|   Sunday|                    Yes|\n",
            "|  21|   Friday|                    Yes|\n",
            "|   7| Thursday|                    Yes|\n",
            "|  11|  Tuesday|                    Yes|\n",
            "|   3|   Sunday|                    Yes|\n",
            "|  15|   Sunday|                    Yes|\n",
            "|  12|   Friday|                    Yes|\n",
            "|  16|  Tuesday|                    Yes|\n",
            "|  12| Saturday|                    Yes|\n",
            "|  14|   Friday|                    Yes|\n",
            "|  14|   Friday|                    Yes|\n",
            "|   4|   Sunday|                    Yes|\n",
            "|  13|  Tuesday|                    Yes|\n",
            "|  16| Saturday|                    Yes|\n",
            "|  14|Wednesday|                    Yes|\n",
            "+----+---------+-----------------------+\n",
            "only showing top 20 rows\n",
            "\n",
            "+----+-------------------+-----------------------+-------------------+\n",
            "|hour|               date|Contributed To Accident|Number of Accidents|\n",
            "+----+-------------------+-----------------------+-------------------+\n",
            "|   0|2016-11-30 00:00:00|                    Yes|                  1|\n",
            "|   0|2016-12-04 00:00:00|                    Yes|                  3|\n",
            "|   0|2016-12-11 00:00:00|                    Yes|                  6|\n",
            "|   0|2015-08-06 00:00:00|                    Yes|                  4|\n",
            "|   1|2016-12-12 00:00:00|                    Yes|                  8|\n",
            "|   1|2012-09-03 00:00:00|                    Yes|                  1|\n",
            "|   1|2016-11-24 00:00:00|                    Yes|                  2|\n",
            "|   2|2012-09-30 00:00:00|                    Yes|                  1|\n",
            "|   2|2016-12-11 00:00:00|                    Yes|                  1|\n",
            "|   2|2016-12-15 00:00:00|                    Yes|                  5|\n",
            "|   3|2016-12-03 00:00:00|                    Yes|                  7|\n",
            "|   3|2016-12-02 00:00:00|                    Yes|                  1|\n",
            "|   3|2013-12-08 00:00:00|                    Yes|                  2|\n",
            "|   3|2012-06-30 00:00:00|                    Yes|                  2|\n",
            "|   3|2016-12-11 00:00:00|                    Yes|                 28|\n",
            "|   4|2015-08-16 00:00:00|                    Yes|                  5|\n",
            "|   4|2016-12-04 00:00:00|                    Yes|                 11|\n",
            "|   5|2015-07-11 00:00:00|                    Yes|                  2|\n",
            "|   5|2015-07-27 00:00:00|                    Yes|                  1|\n",
            "|   6|2016-12-02 00:00:00|                    Yes|                  1|\n",
            "+----+-------------------+-----------------------+-------------------+\n",
            "only showing top 20 rows\n",
            "\n"
          ],
          "name": "stdout"
        }
      ]
    },
    {
      "cell_type": "code",
      "metadata": {
        "colab": {
          "base_uri": "https://localhost:8080/",
          "height": 1000
        },
        "id": "J1YA-9MWI1d8",
        "outputId": "70b11955-f61c-44a4-9af7-ab13e426a031"
      },
      "source": [
        "from pyspark.sql.functions import unix_timestamp\n",
        "from pyspark.sql.functions import from_unixtime\n",
        "from pyspark.sql.window import Window\n",
        "\n",
        "# Select relevent columns\n",
        "df_task15 = data.select('Date Of Stop','Time Of Stop','Contributed To Accident')\n",
        "\n",
        "# Filter the data where accidents occur\n",
        "df_task15 = df_task15.where(df_task15['Contributed to Accident'] == 'Yes')\n",
        "\n",
        "# Filter the day of week where accidents occur\n",
        "d_day= df_task15.select(hour(\"Time Of Stop\").alias('hour'),from_unixtime(unix_timestamp('Date Of Stop', 'MM/dd/yyyy')).alias('date'),'Contributed To Accident')\n",
        "d_day = d_day.withColumn(\"date\", date_format(col(\"date\"), \"EEEE\"))\n",
        "d_day.show()\n",
        "d_day = new.sort('hour')\n",
        "# Group data.\n",
        "d_day = d_day.groupby([\"hour\",\"date\"]).agg(count(\"Contributed To Accident\").alias('Number of Accidents'))\n",
        "group_data = d_day.sort('hour')\n",
        "group_data.show()\n",
        "\n",
        "\n",
        "# Chart\n",
        "# convert DataFrame into Pandas\n",
        "df_pandas = group_data.toPandas()\n",
        "df_pandas\n",
        "\n",
        "# Creating dimensions(VehicleType,Contributed To Accident,count)\n",
        "df_pivot = pd.pivot_table(\n",
        "\tdf_pandas,\n",
        "\tvalues=\"Number of Accidents\",\n",
        "\tindex=\"hour\",\n",
        "\tcolumns=\"date\",\n",
        "\taggfunc=np.sum\n",
        ")\n",
        "\n",
        "# Plot a bar chart using the DF\n",
        "ax=df_pivot.plot(kind=\"bar\")\n",
        "\n",
        "# Get a Matplotlib figure from the axes object for formatting purposes\n",
        "fig = ax.get_figure()\n",
        "\n",
        "# Change the plot dimensions (width, height)\n",
        "fig.set_size_inches(10, 8)\n",
        "\n",
        "# Change the axes labels\n",
        "ax.set_xlabel(\"Hour of Day\")\n",
        "ax.set_ylabel(\"Number of Accidents\")\n",
        "\n",
        "\n",
        "# Visualize the data\n",
        "plt.show()\n",
        "\n",
        "#Save\n",
        "plt.savefig(\"output.png\")\n"
      ],
      "execution_count": 209,
      "outputs": [
        {
          "output_type": "stream",
          "text": [
            "+----+---------+-----------------------+\n",
            "|hour|     date|Contributed To Accident|\n",
            "+----+---------+-----------------------+\n",
            "|  17|   Monday|                    Yes|\n",
            "|  14| Thursday|                    Yes|\n",
            "|  14|   Monday|                    Yes|\n",
            "|   9| Saturday|                    Yes|\n",
            "|  18| Thursday|                    Yes|\n",
            "|  15|   Sunday|                    Yes|\n",
            "|  21|   Friday|                    Yes|\n",
            "|   7| Thursday|                    Yes|\n",
            "|  11|  Tuesday|                    Yes|\n",
            "|   3|   Sunday|                    Yes|\n",
            "|  15|   Sunday|                    Yes|\n",
            "|  12|   Friday|                    Yes|\n",
            "|  16|  Tuesday|                    Yes|\n",
            "|  12| Saturday|                    Yes|\n",
            "|  14|   Friday|                    Yes|\n",
            "|  14|   Friday|                    Yes|\n",
            "|   4|   Sunday|                    Yes|\n",
            "|  13|  Tuesday|                    Yes|\n",
            "|  16| Saturday|                    Yes|\n",
            "|  14|Wednesday|                    Yes|\n",
            "+----+---------+-----------------------+\n",
            "only showing top 20 rows\n",
            "\n",
            "+----+---------+-------------------+\n",
            "|hour|     date|Number of Accidents|\n",
            "+----+---------+-------------------+\n",
            "|   0|Wednesday|                  1|\n",
            "|   0| Thursday|                  4|\n",
            "|   0|   Sunday|                  9|\n",
            "|   1| Thursday|                  2|\n",
            "|   1|   Monday|                  9|\n",
            "|   2| Thursday|                  5|\n",
            "|   2|   Sunday|                  2|\n",
            "|   3|   Friday|                  1|\n",
            "|   3| Saturday|                  9|\n",
            "|   3|   Sunday|                 30|\n",
            "|   4|   Sunday|                 16|\n",
            "|   5|   Monday|                  1|\n",
            "|   5| Saturday|                  2|\n",
            "|   6| Saturday|                 10|\n",
            "|   6|   Monday|                  3|\n",
            "|   6| Thursday|                  3|\n",
            "|   6|  Tuesday|                  2|\n",
            "|   6|   Friday|                  4|\n",
            "|   6|Wednesday|                  7|\n",
            "|   7|Wednesday|                  1|\n",
            "+----+---------+-------------------+\n",
            "only showing top 20 rows\n",
            "\n"
          ],
          "name": "stdout"
        },
        {
          "output_type": "display_data",
          "data": {
            "image/png": "[encoded data removed]",
            "text/plain": [
              "<Figure size 720x576 with 1 Axes>"
            ]
          },
          "metadata": {
            "tags": [],
            "needs_background": "light"
          }
        },
        {
          "output_type": "display_data",
          "data": {
            "text/plain": [
              "<Figure size 432x288 with 0 Axes>"
            ]
          },
          "metadata": {
            "tags": []
          }
        }
      ]
    }
  ]
}