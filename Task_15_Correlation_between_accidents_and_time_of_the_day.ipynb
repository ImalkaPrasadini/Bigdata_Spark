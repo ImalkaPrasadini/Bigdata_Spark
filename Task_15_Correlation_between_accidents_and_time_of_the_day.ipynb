{
  "nbformat": 4,
  "nbformat_minor": 0,
  "metadata": {
    "colab": {
      "name": "Task 15-Correlation between accidents and time of the day.ipynb",
      "provenance": []
    },
    "kernelspec": {
      "name": "python3",
      "display_name": "Python 3"
    },
    "language_info": {
      "name": "python"
    }
  },
  "cells": [
    {
      "cell_type": "code",
      "metadata": {
        "id": "VfBW64g6mv1d"
      },
      "source": [
        "# import os,sys\n",
        "# from google.colab import drive\n",
        "# drive.mount('/content/MyDrive')\n",
        "# nb_path = '/content/notebooks'\n",
        "# os.symlink('/content/MyDrive/My Notebooks/Colab Notebooks', nb_path)\n",
        "# sys.path.insert(0,nb_path)"
      ],
      "execution_count": 1,
      "outputs": []
    },
    {
      "cell_type": "code",
      "metadata": {
        "id": "WWivfMZUm2Xf"
      },
      "source": [
        "!apt-get install openjdk-8-jdk-headless -qq > /dev/null"
      ],
      "execution_count": 2,
      "outputs": []
    },
    {
      "cell_type": "code",
      "metadata": {
        "id": "uKKAZDkhm5jb"
      },
      "source": [
        "!wget -q https://www-us.apache.org/dist/spark/spark-3.1.1/spark-3.1.1-bin-hadoop3.2.tgz"
      ],
      "execution_count": 3,
      "outputs": []
    },
    {
      "cell_type": "code",
      "metadata": {
        "id": "RtjkTH3Xm8qj"
      },
      "source": [
        "!tar xf spark-3.1.1-bin-hadoop3.2.tgz"
      ],
      "execution_count": 4,
      "outputs": []
    },
    {
      "cell_type": "code",
      "metadata": {
        "id": "X6jgVxx-m-xp"
      },
      "source": [
        "import os\n",
        "os.environ[\"JAVA_HOME\"] = \"/usr/lib/jvm/java-8-openjdk-amd64\"\n",
        "os.environ[\"SPARK_HOME\"] = \"/content/spark-3.1.1-bin-hadoop3.2\""
      ],
      "execution_count": 5,
      "outputs": []
    },
    {
      "cell_type": "code",
      "metadata": {
        "colab": {
          "base_uri": "https://localhost:8080/"
        },
        "id": "yD_Ex_u8n6cT",
        "outputId": "d72a0736-0a8d-4c94-a0cd-9c176d69fc00"
      },
      "source": [
        "pip install findspark"
      ],
      "execution_count": 7,
      "outputs": [
        {
          "output_type": "stream",
          "text": [
            "Collecting findspark\n",
            "  Downloading https://files.pythonhosted.org/packages/fc/2d/2e39f9a023479ea798eed4351cd66f163ce61e00c717e03c37109f00c0f2/findspark-1.4.2-py2.py3-none-any.whl\n",
            "Installing collected packages: findspark\n",
            "Successfully installed findspark-1.4.2\n"
          ],
          "name": "stdout"
        }
      ]
    },
    {
      "cell_type": "code",
      "metadata": {
        "id": "ymPM7GiAm_dd"
      },
      "source": [
        "import findspark\n",
        "findspark.init()"
      ],
      "execution_count": 8,
      "outputs": []
    },
    {
      "cell_type": "code",
      "metadata": {
        "colab": {
          "base_uri": "https://localhost:8080/",
          "height": 35
        },
        "id": "wBiOGC5PnEJ8",
        "outputId": "5af8c6c9-f37b-48ba-85ae-73cbee95ba66"
      },
      "source": [
        "findspark.find()"
      ],
      "execution_count": 9,
      "outputs": [
        {
          "output_type": "execute_result",
          "data": {
            "application/vnd.google.colaboratory.intrinsic+json": {
              "type": "string"
            },
            "text/plain": [
              "'/content/spark-3.1.1-bin-hadoop3.2'"
            ]
          },
          "metadata": {
            "tags": []
          },
          "execution_count": 9
        }
      ]
    },
    {
      "cell_type": "code",
      "metadata": {
        "id": "Zxj4QGIunGE2"
      },
      "source": [
        "import pandas as pd\n",
        "import numpy as np\n",
        "import matplotlib.pyplot as plt\n",
        "from pyspark.sql import SparkSession\n",
        "spark = SparkSession.builder.master(\"local[*]\").getOrCreate()\n",
        "import pyspark.sql.functions as f"
      ],
      "execution_count": 10,
      "outputs": []
    },
    {
      "cell_type": "code",
      "metadata": {
        "colab": {
          "base_uri": "https://localhost:8080/"
        },
        "id": "ThmoTS-lnHvM",
        "outputId": "a96a2787-df91-4a3c-a5fd-376fa6c56281"
      },
      "source": [
        "# Load data to Task 15.\n",
        "df_task15 = spark.read.csv('/content/sample_data/tf2.csv',header=True)\n",
        "df_task15.show()"
      ],
      "execution_count": 11,
      "outputs": [
        {
          "output_type": "stream",
          "text": [
            "+------------+------------+------+--------------------+--------------------+--------------------+-----------+------------+--------+-----+---------------+---------------+-----+------------------+------+------------------+-------+---------+-----+--------------------+----+--------+----------+----------+--------------+-----------+--------------------+-----------------------+--------+------+------------------+------------+--------+-----------------+--------------------+\n",
            "|Date Of Stop|Time Of Stop|Agency|           SubAgency|         Description|            Location|   Latitude|   Longitude|Accident|Belts|Personal Injury|Property Damage|Fatal|Commercial License|HAZMAT|Commercial Vehicle|Alcohol|Work Zone|State|         VehicleType|Year|    Make|     Model|     Color|Violation Type|     Charge|             Article|Contributed To Accident|    Race|Gender|       Driver City|Driver State|DL State|      Arrest Type|         Geolocation|\n",
            "+------------+------------+------+--------------------+--------------------+--------------------+-----------+------------+--------+-----+---------------+---------------+-----+------------------+------+------------------+-------+---------+-----+--------------------+----+--------+----------+----------+--------------+-----------+--------------------+-----------------------+--------+------+------------------+------------+--------+-----------------+--------------------+\n",
            "|   5/31/2014|    17:21:00|   MCP|1st district, Roc...|EXCEEDING MAXIMUM...|FREDERICK RD / E ...|39.10923333|-77.16007333|      No|  Yes|             No|             No|   No|                No|    No|                No|     No|       No|   MD|     02 - Automobile|2008|    FORD|        4S|      BLUE|      Citation|   21-801.1|Transportation Ar...|                     No|   BLACK|     F|     SILVER SPRING|          MD|      MD|A - Marked Patrol|(39.1092333333333...|\n",
            "|   6/18/2014|     8:58:00|   MCP|6th district, Gai...|DRIVING VEHICLE O...|WASHINGTON GROVE ...|39.14116333|-77.17823333|      No|   No|             No|             No|   No|                No|    No|                No|     No|       No|   MD|     02 - Automobile|2004|    MITS|        4S|    SILVER|      Citation|  13-401(h)|Transportation Ar...|                     No|HISPANIC|     M|      GAITHERSBURG|          MD|      MD|A - Marked Patrol|(39.1411633333333...|\n",
            "|   6/15/2014|     1:52:00|   MCP|4th district, Whe...|FAILURE OF VEH. O...|REEDIE DR / VEIRS...|   39.03833|-77.05240833|      No|   No|             No|             No|   No|                No|    No|                No|     No|       No|   MD|     01 - Motorcycle|2005|    TOYT|     SCION|    SILVER|      Citation|   22-201.1|Transportation Ar...|                     No|HISPANIC|     M|       HYATTSVILLE|          MD|      MD|A - Marked Patrol|(39.03833, -77.05...|\n",
            "|    3/4/2014|     9:16:00|   MCP|3rd district, Sil...|DRIVING VEHICLE O...|NEW HAMPSHIRE AVE...| 39.0728779|-77.00270557|      No|   No|             No|             No|   No|                No|    No|                No|     No|       No|   MD|     02 - Automobile|2005|     GMC|     YUKON|     BLACK|      Citation|  13-401(h)|Transportation Ar...|                     No|   BLACK|     M|     SILVER SPRING|          MD|      MD|A - Marked Patrol|(39.0728779, -77....|\n",
            "|   4/16/2014|    10:41:00|   MCP|4th district, Whe...|DRIVING VEHICLE O...|UNIVERSITY BLVD W...|       null|        null|      No|   No|             No|             No|   No|                No|    No|                No|     No|       No|   MD|     02 - Automobile|1992|    FORD|    TAURUS|       RED|      Citation|  13-401(h)|Transportation Ar...|                     No|   WHITE|     M|           WHEATON|          MD|      MD|A - Marked Patrol|                null|\n",
            "|   2/17/2014|    12:02:00|   MCP|1st district, Roc...|DRIVING VEHICLE O...|FALLS RD @ W. KERSEY|39.06652667|-77.17427333|      No|   No|             No|             No|   No|                No|    No|                No|     No|       No|   MD|     02 - Automobile|2007|    HOND|      CR-V|    SILVER|      Citation|  13-401(h)|Transportation Ar...|                     No|   ASIAN|     M|MONTGOMERY VILLAGE|          MD|      MD|A - Marked Patrol|(39.0665266666667...|\n",
            "|    6/5/2014|    23:10:00|   MCP|4th district, Whe...|UNAUTHORIZED DISP...|GEORGIA @ OLNEY S...|39.15405167|-77.06816167|      No|   No|             No|             No|   No|                No|    No|                No|     No|       No|   AZ|     02 - Automobile|2001|    FORD|EXPEDITION|     BEIGE|      Citation|  13-703(g)|Transportation Ar...|                     No|   BLACK|     F|             OLNEY|          MD|      MD|A - Marked Patrol|(39.1540516666667...|\n",
            "|    3/4/2014|    20:07:00|   MCP|5th district, Ger...|DRIVING MOTOR VEH...|9809 BETHESDA CHU...|  39.284545|  -77.203975|      No|   No|             No|             No|   No|                No|    No|                No|     No|       No|   MD|     02 - Automobile|2005|    TOYT|        4S|BLUE, DARK|      Citation|  16-101(a)|Transportation Ar...|                     No|HISPANIC|     F|          DAMASCUS|          MD|      MD|A - Marked Patrol|(39.284545, -77.2...|\n",
            "|   6/22/2014|    14:26:00|   MCP|3rd district, Sil...|DRIVING VEHICLE O...|SOUTHAMPTON DR/ B...|       null|        null|      No|   No|             No|             No|   No|                No|    No|                No|     No|       No|   MD|     02 - Automobile|2009|   HONDA|     CIVIC|      GRAY|      Citation|  13-401(h)|Transportation Ar...|                     No|HISPANIC|     M|     SILVER SPRING|          MD|      MD|A - Marked Patrol|                null|\n",
            "|  10/28/2013|    17:41:00|   MCP|6th district, Gai...|DRIVER FAILURE TO...|EMORY GROVE RD @ ...|39.12993477|-77.16705013|      No|   No|             No|             No|   No|                No|    No|                No|     No|       No|   MD|     02 - Automobile|2003|   HONDA|    ACCORD|      GOLD|      Citation|  21-404(b)|Transportation Ar...|                    Yes|   BLACK|     M|      GAITHERSBURG|          MD|      MD|A - Marked Patrol|(39.1299347666667...|\n",
            "|   9/19/2013|    14:12:00|   MCP|3rd district, Sil...|DRIVER FAILURE TO...|COLESVILLE RD @ 1...|    38.9925|-77.03651333|      No|   No|             No|             No|   No|                No|    No|                No|     No|       No|   MD|     02 - Automobile|2008|   BUICK|   ENCLAVE|     WHITE|      Citation|  21-403(d)|Transportation Ar...|                    Yes|   BLACK|     M|         BALTIMORE|          MD|      MD|A - Marked Patrol|(38.9925, -77.036...|\n",
            "|   5/27/2013|    14:13:00|   MCP|6th district, Gai...|EXCEEDING MAXIMUM...|NB 270 / MUDDY BR...|39.09845263| -77.2045743|      No|   No|             No|             No|   No|                No|    No|                No|     No|       No|   MD|08 - Recreational...|2012|    JEEP|       4X4|      GRAY|      Citation|   21-801.1|Transportation Ar...|                    Yes|   WHITE|     F|        NEW MARKET|          MD|      MD|A - Marked Patrol|(39.0984526333333...|\n",
            "|    5/4/2013|     9:26:00|   MCP|6th district, Gai...|DRIVING VEHICLE I...|MUNCASTER MILL RO...|39.15371892| -77.1537621|      No|   No|             No|            Yes|   No|                No|    No|                No|     No|       No|   MD|     02 - Automobile|1997|    HOND|        4S|     BEIGE|      Citation|  21-801(a)|Transportation Ar...|                    Yes|   WHITE|     M|     SILVER SPRING|          MD|      MD|A - Marked Patrol|(39.1537189166667...|\n",
            "|  10/10/2013|    18:34:00|   MCP|3rd district, Sil...|FAILURE TO CONTRO...|SB COLUMBIA PIKE ...|  39.096875|-76.93751833|      No|   No|             No|             No|   No|                No|    No|                No|     No|       No|   MD|     02 - Automobile|2009|   TOYOT|     PRIUS|     BLACK|      Citation|  21-801(b)|Transportation Ar...|                    Yes|   WHITE|     M|          ELKRIDGE|          MD|      MD|A - Marked Patrol|(39.096875, -76.9...|\n",
            "|    9/1/2013|    15:19:00|   MCP|4th district, Whe...|FAILURE TO CONTRO...|GEORGIA  AVE/WIND...|39.03210667|-77.04827667|      No|  Yes|             No|             No|   No|                No|    No|                No|     No|       No|   DC|     02 - Automobile|2005|    FORD| CROWN VIC|     BLACK|      Citation|  21-801(b)|Transportation Ar...|                    Yes|   BLACK|     M|        WASHINGTON|          DC|      DC|A - Marked Patrol|(39.0321066666667...|\n",
            "|    7/3/2015|    21:06:00|   MCP|4th district, Whe...|   NEGLIGENT DRIVING|NEW HAMPSHIRE AVE...|   39.14925|-77.06648833|      No|   No|             No|             No|   No|                No|    No|                No|     No|       No|   MD|     02 - Automobile|2009|   HONDA|       FIT|      BLUE|      Citation|21-901.1(b)|Transportation Ar...|                    Yes|   WHITE|     F|             OLNEY|          MD|      MD|A - Marked Patrol|(39.14925, -77.06...|\n",
            "|   7/11/2013|     7:46:00|   MCP|6th district, Gai...|DRIVER WHEN TURNI...|300 BLK OF MUDDY ...|39.12907225|-77.20789277|      No|   No|            Yes|             No|   No|                No|    No|                No|     No|       No|   MD|     02 - Automobile|1998|    HOND|    ACCORD|     BLACK|      Citation|  21-402(a)|Transportation Ar...|                    Yes|HISPANIC|     M|      GAITHERSBURG|          MD|      MD|A - Marked Patrol|(39.12907225, -77...|\n",
            "|   8/29/2017|    11:41:00|   MCP|2nd district, Bet...|UNSAFE LANE CHANGING|N/B OLD GEORGETOW...|39.01639667| -77.1194315|      No|   No|             No|            Yes|   No|                No|    No|                No|     No|       No|   MD|     02 - Automobile|2004|   HONDA|    ACCORD|     BEIGE|      Citation|  21-309(b)|Transportation Ar...|                    Yes|   WHITE|     F|          BETHESDA|          MD|      MD|A - Marked Patrol|(39.0163966666667...|\n",
            "|   12/8/2013|     3:27:00|   MCP|6th district, Gai...|DRIVING UNDER THE...|WEST DIAMOND AVE ...|39.14012735| -77.2062697|      No|   No|             No|             No|   No|                No|    No|                No|     No|       No|   MD|     02 - Automobile|2006|    CHRY|   SEBRING|    MAROON|      Citation| 21-902(a2)|Transportation Ar...|                    Yes|   WHITE|     M|      GAITHERSBURG|          MD|      MD|A - Marked Patrol|(39.14012735, -77...|\n",
            "|   5/25/2014|    15:33:00|   MCP|6th district, Gai...|FAILURE TO RETURN...|GOSHEN RD / MIDCO...|39.04543833|   -76.99038|      No|   No|             No|            Yes|   No|                No|    No|                No|     No|       No|   MD|     02 - Automobile|1994|CHRYSLER|   LEBARON|     GREEN|      Citation|  20-103(b)|Transportation Ar...|                    Yes|   WHITE|     M|        GERMANTOWN|          MD|      MD|A - Marked Patrol|(39.0454383333333...|\n",
            "+------------+------------+------+--------------------+--------------------+--------------------+-----------+------------+--------+-----+---------------+---------------+-----+------------------+------+------------------+-------+---------+-----+--------------------+----+--------+----------+----------+--------------+-----------+--------------------+-----------------------+--------+------+------------------+------------+--------+-----------------+--------------------+\n",
            "only showing top 20 rows\n",
            "\n"
          ],
          "name": "stdout"
        }
      ]
    },
    {
      "cell_type": "code",
      "metadata": {
        "colab": {
          "base_uri": "https://localhost:8080/"
        },
        "id": "DFcrudr1nJh6",
        "outputId": "145240c2-cfac-45b2-c972-a8a1a5e54169"
      },
      "source": [
        "df_task15.printSchema()"
      ],
      "execution_count": 12,
      "outputs": [
        {
          "output_type": "stream",
          "text": [
            "root\n",
            " |-- Date Of Stop: string (nullable = true)\n",
            " |-- Time Of Stop: string (nullable = true)\n",
            " |-- Agency: string (nullable = true)\n",
            " |-- SubAgency: string (nullable = true)\n",
            " |-- Description: string (nullable = true)\n",
            " |-- Location: string (nullable = true)\n",
            " |-- Latitude: string (nullable = true)\n",
            " |-- Longitude: string (nullable = true)\n",
            " |-- Accident: string (nullable = true)\n",
            " |-- Belts: string (nullable = true)\n",
            " |-- Personal Injury: string (nullable = true)\n",
            " |-- Property Damage: string (nullable = true)\n",
            " |-- Fatal: string (nullable = true)\n",
            " |-- Commercial License: string (nullable = true)\n",
            " |-- HAZMAT: string (nullable = true)\n",
            " |-- Commercial Vehicle: string (nullable = true)\n",
            " |-- Alcohol: string (nullable = true)\n",
            " |-- Work Zone: string (nullable = true)\n",
            " |-- State: string (nullable = true)\n",
            " |-- VehicleType: string (nullable = true)\n",
            " |-- Year: string (nullable = true)\n",
            " |-- Make: string (nullable = true)\n",
            " |-- Model: string (nullable = true)\n",
            " |-- Color: string (nullable = true)\n",
            " |-- Violation Type: string (nullable = true)\n",
            " |-- Charge: string (nullable = true)\n",
            " |-- Article: string (nullable = true)\n",
            " |-- Contributed To Accident: string (nullable = true)\n",
            " |-- Race: string (nullable = true)\n",
            " |-- Gender: string (nullable = true)\n",
            " |-- Driver City: string (nullable = true)\n",
            " |-- Driver State: string (nullable = true)\n",
            " |-- DL State: string (nullable = true)\n",
            " |-- Arrest Type: string (nullable = true)\n",
            " |-- Geolocation: string (nullable = true)\n",
            "\n"
          ],
          "name": "stdout"
        }
      ]
    },
    {
      "cell_type": "code",
      "metadata": {
        "colab": {
          "base_uri": "https://localhost:8080/"
        },
        "id": "99qQo7LUnLds",
        "outputId": "8de45ecc-195e-4936-a9b2-a44360239ed3"
      },
      "source": [
        "df_task15.describe().show()"
      ],
      "execution_count": 13,
      "outputs": [
        {
          "output_type": "stream",
          "text": [
            "+-------+------------+------------+------+--------------------+--------------------+--------------------+-------------------+-------------------+--------+-----+---------------+---------------+-----+------------------+------+------------------+-------+---------+-----+-------------------+------------------+------+-----+------+--------------+---------+--------------------+-----------------------+-----+------+------------+------------+--------+-----------------+--------------------+\n",
            "|summary|Date Of Stop|Time Of Stop|Agency|           SubAgency|         Description|            Location|           Latitude|          Longitude|Accident|Belts|Personal Injury|Property Damage|Fatal|Commercial License|HAZMAT|Commercial Vehicle|Alcohol|Work Zone|State|        VehicleType|              Year|  Make|Model| Color|Violation Type|   Charge|             Article|Contributed To Accident| Race|Gender| Driver City|Driver State|DL State|      Arrest Type|         Geolocation|\n",
            "+-------+------------+------------+------+--------------------+--------------------+--------------------+-------------------+-------------------+--------+-----+---------------+---------------+-----+------------------+------+------------------+-------+---------+-----+-------------------+------------------+------+-----+------+--------------+---------+--------------------+-----------------------+-----+------+------------+------------+--------+-----------------+--------------------+\n",
            "|  count|          60|          60|    60|                  60|                  60|                  60|                 54|                 54|      60|   60|             60|             60|   60|                60|    60|                60|     60|       60|   60|                 60|                60|    60|   60|    60|            60|       60|                  60|                     60|   60|    60|          60|          60|      60|               60|                  54|\n",
            "|   mean|        null|        null|  null|                null|                null|                null|  39.08340705185186| -77.10339224611108|    null| null|           null|           null| null|              null|  null|              null|   null|     null| null|               null|1971.7333333333333|2004.0|  3.0|  null|          null|     null|                null|                   null| null|  null|        null|        null|    null|             null|                null|\n",
            "| stddev|        null|        null|  null|                null|                null|                null|0.06587610310257629|0.09846929427316425|    null| null|           null|           null| null|              null|  null|              null|   null|     null| null|               null| 258.9092417821852|   0.0|  0.0|  null|          null|     null|                null|                   null| null|  null|        null|        null|    null|             null|                null|\n",
            "|    min|    1/5/2016|     0:42:00|   MCP|1st district, Roc...|DRIVER CHANGING L...| 11323 SCHUYLKILL RD|        38.94096667|       -76.93459167|      No|   No|             No|             No|   No|                No|    No|                No|     No|       No|   AZ|    01 - Motorcycle|                 0|  2004|    3| BEIGE|      Citation|13-401(b)|Transportation Ar...|                     No|ASIAN|     F|   BALTIMORE|          DC|      DC|A - Marked Patrol|(38.9409666666667...|\n",
            "|    max|    9/6/2014|     9:26:00|   MCP|Headquarters and ...|UNSAFE LANE CHANGING|WOODFIELD RD/AIRP...|          39.284545|         -77.312395|      No|  Yes|            Yes|            Yes|  Yes|               Yes|    No|                No|     No|       No|   VA|20 - Commercial Rig|              2016| VOLVO|YUKON|YELLOW|      Citation| 22-201.1|Transportation Ar...|                    Yes|WHITE|     M|WINTER HAVEN|          MD|      US|A - Marked Patrol|(39.284545, -77.2...|\n",
            "+-------+------------+------------+------+--------------------+--------------------+--------------------+-------------------+-------------------+--------+-----+---------------+---------------+-----+------------------+------+------------------+-------+---------+-----+-------------------+------------------+------+-----+------+--------------+---------+--------------------+-----------------------+-----+------+------------+------------+--------+-----------------+--------------------+\n",
            "\n"
          ],
          "name": "stdout"
        }
      ]
    },
    {
      "cell_type": "code",
      "metadata": {
        "colab": {
          "base_uri": "https://localhost:8080/",
          "height": 942
        },
        "id": "uePjTKkHvcCL",
        "outputId": "5269a0f0-d86b-4eb5-c6a4-d0fe03eab4f1"
      },
      "source": [
        "from pyspark.sql import SparkSession\n",
        "from pyspark.sql.functions import *\n",
        "\n",
        "spark = SparkSession.builder.getOrCreate()\n",
        "sc = spark.sparkContext\n",
        "\n",
        "#Get time and whethere there have accident or not \n",
        "df_task15 = df_task15.select('Time Of Stop','Contributed To Accident')\n",
        "\n",
        "#Sort above based on time\n",
        "#sorted=group_data.orderBy('Time Of Stop')\n",
        "#sorted.show()\n",
        "\n",
        "# Here contain 24hr clock. To get more simple consider only the hour that accident is happened. \n",
        "#Take the hour for each timestamp\n",
        "sorted = (sorted\n",
        "    .select(\"Time Of Stop\")\n",
        "    .withColumn(\"hour\", hour(\"Time Of Stop\")))\n",
        "#sorted.show()\n",
        "\n",
        "#Join above datafrmaes by outter join.\n",
        "df = df_task15.join(sorted, on=['Time Of Stop'], how='outer')\n",
        "#df.show()\n",
        "\n",
        "\n",
        "# Group data from Vehicle type.\n",
        "group_data = df.groupby([\"hour\",\"Contributed To Accident\"]).agg({\"Contributed To Accident\":\"count\"})\n",
        "group_data = group_data.withColumnRenamed(\"count(Contributed To Accident)\",\"Number of Accidents\")\n",
        "\n",
        "group_data=group_data.orderBy('hour')\n",
        "\n",
        "# Dipaly Data\n",
        "group_data.show()\n",
        "\n",
        "\n",
        "### To Plot the Data in Chart\n",
        "\n",
        "\n",
        "# convert DataFrame into Pandas\n",
        "df_pandas = group_data.toPandas()\n",
        "df_pandas\n",
        "\n",
        "# Creating dimensions(VehicleType,Contributed To Accident,count)\n",
        "df_pivot = pd.pivot_table(\n",
        "\tdf_pandas,\n",
        "\tvalues=\"Number of Accidents\",\n",
        "\tindex=\"hour\",\n",
        "\tcolumns=\"Contributed To Accident\",\n",
        "\taggfunc=np.sum\n",
        ")\n",
        "\n",
        "# Plot a bar chart using the DF\n",
        "ax=df_pivot.plot(kind=\"bar\")\n",
        "\n",
        "# Get a Matplotlib figure from the axes object for formatting purposes\n",
        "fig = ax.get_figure()\n",
        "\n",
        "# Change the plot dimensions (width, height)\n",
        "fig.set_size_inches(10, 8)\n",
        "\n",
        "# Change the axes labels\n",
        "ax.set_xlabel(\"Hour of Day\")\n",
        "ax.set_ylabel(\"Number of Accidents\")\n",
        "#plt.xticks(rotation=90)\n",
        "\n",
        "# Visualize the data\n",
        "plt.show()\n",
        "\n"
      ],
      "execution_count": 62,
      "outputs": [
        {
          "output_type": "stream",
          "text": [
            "+----+-----------------------+-------------------+\n",
            "|hour|Contributed To Accident|Number of Accidents|\n",
            "+----+-----------------------+-------------------+\n",
            "|   0|                    Yes|                  1|\n",
            "|   1|                     No|                  1|\n",
            "|   3|                    Yes|                  1|\n",
            "|   4|                    Yes|                  1|\n",
            "|   5|                    Yes|                  3|\n",
            "|   7|                    Yes|                  1|\n",
            "|   8|                     No|                  1|\n",
            "|   9|                    Yes|                  4|\n",
            "|   9|                     No|                  1|\n",
            "|  10|                     No|                  1|\n",
            "|  10|                    Yes|                  2|\n",
            "|  11|                    Yes|                  2|\n",
            "|  12|                     No|                  1|\n",
            "|  12|                    Yes|                  4|\n",
            "|  13|                    Yes|                  3|\n",
            "|  14|                    Yes|                 10|\n",
            "|  14|                     No|                  1|\n",
            "|  15|                    Yes|                  3|\n",
            "|  16|                    Yes|                  3|\n",
            "|  17|                    Yes|                  3|\n",
            "+----+-----------------------+-------------------+\n",
            "only showing top 20 rows\n",
            "\n"
          ],
          "name": "stdout"
        },
        {
          "output_type": "display_data",
          "data": {
            "image/png": "[encoded data removed]",
            "text/plain": [
              "<Figure size 720x576 with 1 Axes>"
            ]
          },
          "metadata": {
            "tags": [],
            "needs_background": "light"
          }
        }
      ]
    }
  ]
}