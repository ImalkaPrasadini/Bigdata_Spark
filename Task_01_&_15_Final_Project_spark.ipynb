{
  "nbformat": 4,
  "nbformat_minor": 0,
  "metadata": {
    "colab": {
      "name": "Task 01 & 15 Final Project_spark.ipynb",
      "provenance": [],
      "collapsed_sections": [],
      "toc_visible": true,
      "include_colab_link": true
    },
    "kernelspec": {
      "name": "python3",
      "display_name": "Python 3"
    },
    "language_info": {
      "name": "python"
    }
  },
  "cells": [
    {
      "cell_type": "markdown",
      "metadata": {
        "id": "view-in-github",
        "colab_type": "text"
      },
      "source": [
        "<a href=\"https://colab.research.google.com/github/ImalkaPrasadini/Bigdata_Spark/blob/main/Task_01_%26_15_Final_Project_spark.ipynb\" target=\"_parent\"><img src=\"https://colab.research.google.com/assets/colab-badge.svg\" alt=\"Open In Colab\"/></a>"
      ]
    },
    {
      "cell_type": "code",
      "metadata": {
        "id": "Rk2B0-Je9j1a"
      },
      "source": [
        "# import os,sys\n",
        "# from google.colab import drive\n",
        "# drive.mount('/content/MyDrive')\n",
        "# nb_path = '/content/notebooks'\n",
        "# os.symlink('/content/MyDrive/My Notebooks/Colab Notebooks', nb_path)\n",
        "# sys.path.insert(0,nb_path)"
      ],
      "execution_count": null,
      "outputs": []
    },
    {
      "cell_type": "markdown",
      "metadata": {
        "id": "YUkU46hgjwzb"
      },
      "source": [
        "# **Download Java**"
      ]
    },
    {
      "cell_type": "code",
      "metadata": {
        "id": "m62q-s5Ijn3y"
      },
      "source": [
        "!apt-get install openjdk-8-jdk-headless -qq > /dev/null"
      ],
      "execution_count": null,
      "outputs": []
    },
    {
      "cell_type": "markdown",
      "metadata": {
        "id": "ZRCfA50Tj6Np"
      },
      "source": [
        "#  **Install Apache Spark 3.0.1 with Hadoop 2.7**"
      ]
    },
    {
      "cell_type": "code",
      "metadata": {
        "id": "SRNwF-yfkHeH"
      },
      "source": [
        "!wget -q https://www-us.apache.org/dist/spark/spark-3.1.1/spark-3.1.1-bin-hadoop3.2.tgz"
      ],
      "execution_count": null,
      "outputs": []
    },
    {
      "cell_type": "markdown",
      "metadata": {
        "id": "onDq9E36kWSA"
      },
      "source": [
        "# **Unzip Folder**"
      ]
    },
    {
      "cell_type": "code",
      "metadata": {
        "id": "Zj2wWWZokWzQ"
      },
      "source": [
        "!tar xf spark-3.1.1-bin-hadoop3.2.tgz"
      ],
      "execution_count": null,
      "outputs": []
    },
    {
      "cell_type": "markdown",
      "metadata": {
        "id": "NQX7PU0RkcTl"
      },
      "source": [
        "# **Install Find Spark**\n",
        "\n",
        "> It will locate Spark on the system and import it as a regular library.\n",
        "\n"
      ]
    },
    {
      "cell_type": "code",
      "metadata": {
        "id": "J6L2qUc8kted"
      },
      "source": [
        "!pip install -q findspark"
      ],
      "execution_count": null,
      "outputs": []
    },
    {
      "cell_type": "markdown",
      "metadata": {
        "id": "sVEPWRKAkxJu"
      },
      "source": [
        "# **Settin up Envirnmental Variables**\n",
        "\n",
        "\n",
        "> This will enable us to run Pyspark in the Colab environment.\n",
        "\n"
      ]
    },
    {
      "cell_type": "code",
      "metadata": {
        "id": "YXIAHRsNk9-9"
      },
      "source": [
        "import os\n",
        "os.environ[\"JAVA_HOME\"] = \"/usr/lib/jvm/java-8-openjdk-amd64\"\n",
        "os.environ[\"SPARK_HOME\"] = \"/content/spark-3.1.1-bin-hadoop3.2\""
      ],
      "execution_count": null,
      "outputs": []
    },
    {
      "cell_type": "code",
      "metadata": {
        "id": "ioxD5Lbxlm88"
      },
      "source": [
        "import findspark\n",
        "findspark.init()"
      ],
      "execution_count": null,
      "outputs": []
    },
    {
      "cell_type": "code",
      "metadata": {
        "colab": {
          "base_uri": "https://localhost:8080/",
          "height": 35
        },
        "id": "_8m98oO-lxYT",
        "outputId": "0a813bef-6fa1-4b52-8099-5811911c39cf"
      },
      "source": [
        "findspark.find()"
      ],
      "execution_count": null,
      "outputs": [
        {
          "output_type": "execute_result",
          "data": {
            "application/vnd.google.colaboratory.intrinsic+json": {
              "type": "string"
            },
            "text/plain": [
              "'/content/spark-3.1.1-bin-hadoop3.2'"
            ]
          },
          "metadata": {
            "tags": []
          },
          "execution_count": 9
        }
      ]
    },
    {
      "cell_type": "markdown",
      "metadata": {
        "id": "uxQmsXytmBVK"
      },
      "source": [
        "# **Loading data to PySpark**"
      ]
    },
    {
      "cell_type": "code",
      "metadata": {
        "id": "FfN1YMdznXCc"
      },
      "source": [
        "import pandas as pd\n",
        "import numpy as np\n",
        "import matplotlib.pyplot as plt\n",
        "from pyspark.sql import SparkSession\n",
        "spark = SparkSession.builder.master(\"local[*]\").getOrCreate()\n",
        "import pyspark.sql.functions as f"
      ],
      "execution_count": null,
      "outputs": []
    },
    {
      "cell_type": "markdown",
      "metadata": {
        "id": "SBbpq8AXbCuW"
      },
      "source": [
        "**TASK 06 : The number of accidents which occur due to traffic violations based on vehicle type.** "
      ]
    },
    {
      "cell_type": "code",
      "metadata": {
        "id": "i56vrPa-mIcC"
      },
      "source": [
        "# Load data to Task 06.\n",
        "df_task1 = spark.read.csv('/content/sample_data/Traffic_Violations.csv',header=True)\n",
        "#df_task1.show(df_task1.count(),truncate = False)"
      ],
      "execution_count": null,
      "outputs": []
    },
    {
      "cell_type": "markdown",
      "metadata": {
        "id": "rysvNcGc-u1F"
      },
      "source": [
        "**Schema of DataFrame**\n",
        "\n",
        "Shows data type and the nullable conditions for that particular column."
      ]
    },
    {
      "cell_type": "code",
      "metadata": {
        "colab": {
          "base_uri": "https://localhost:8080/"
        },
        "id": "qa0nA0h_-lpo",
        "outputId": "8a7fedf8-f842-4da6-eda8-33a01283459f"
      },
      "source": [
        "df_task1.printSchema()"
      ],
      "execution_count": null,
      "outputs": [
        {
          "output_type": "stream",
          "text": [
            "root\n",
            " |-- Date Of Stop: string (nullable = true)\n",
            " |-- Time Of Stop: string (nullable = true)\n",
            " |-- Agency: string (nullable = true)\n",
            " |-- SubAgency: string (nullable = true)\n",
            " |-- Description: string (nullable = true)\n",
            " |-- Location: string (nullable = true)\n",
            " |-- Latitude: string (nullable = true)\n",
            " |-- Longitude: string (nullable = true)\n",
            " |-- Accident: string (nullable = true)\n",
            " |-- Belts: string (nullable = true)\n",
            " |-- Personal Injury: string (nullable = true)\n",
            " |-- Property Damage: string (nullable = true)\n",
            " |-- Fatal: string (nullable = true)\n",
            " |-- Commercial License: string (nullable = true)\n",
            " |-- HAZMAT: string (nullable = true)\n",
            " |-- Commercial Vehicle: string (nullable = true)\n",
            " |-- Alcohol: string (nullable = true)\n",
            " |-- Work Zone: string (nullable = true)\n",
            " |-- State: string (nullable = true)\n",
            " |-- VehicleType: string (nullable = true)\n",
            " |-- Year: string (nullable = true)\n",
            " |-- Make: string (nullable = true)\n",
            " |-- Model: string (nullable = true)\n",
            " |-- Color: string (nullable = true)\n",
            " |-- Violation Type: string (nullable = true)\n",
            " |-- Charge: string (nullable = true)\n",
            " |-- Article: string (nullable = true)\n",
            " |-- Contributed To Accident: string (nullable = true)\n",
            " |-- Race: string (nullable = true)\n",
            " |-- Gender: string (nullable = true)\n",
            " |-- Driver City: string (nullable = true)\n",
            " |-- Driver State: string (nullable = true)\n",
            " |-- DL State: string (nullable = true)\n",
            " |-- Arrest Type: string (nullable = true)\n",
            " |-- Geolocation: string (nullable = true)\n",
            "\n"
          ],
          "name": "stdout"
        }
      ]
    },
    {
      "cell_type": "markdown",
      "metadata": {
        "id": "JfGtAdFQ_A1P"
      },
      "source": [
        "**Describing a Particular**\n",
        "\n",
        "Summary of any particular column of a DataFrame.Gives statistical summary of the given column, if not specified, it provides the statistical summary of the DataFrame."
      ]
    },
    {
      "cell_type": "code",
      "metadata": {
        "colab": {
          "base_uri": "https://localhost:8080/"
        },
        "id": "thwsDEUz_ws5",
        "outputId": "4cabd573-b9a4-4bfd-961b-11e90715f70d"
      },
      "source": [
        "df_task1.describe().show()\n",
        "#fifa_df.describe('Position').show()"
      ],
      "execution_count": null,
      "outputs": [
        {
          "output_type": "stream",
          "text": [
            "+-------+------------+--------------------+-------------------+--------------------+--------------------+--------------------+--------------------+------------------+-------------------+-------+---------------+---------------+-------+------------------+-------+------------------+------------------+---------+------------------+---------------+------------------+--------+---------+-------+--------------+-----------------+---------+-----------------------+-------+-----------------+--------------------+------------+--------+-----------------+--------------------+\n",
            "|summary|Date Of Stop|        Time Of Stop|             Agency|           SubAgency|         Description|            Location|            Latitude|         Longitude|           Accident|  Belts|Personal Injury|Property Damage|  Fatal|Commercial License| HAZMAT|Commercial Vehicle|           Alcohol|Work Zone|             State|    VehicleType|              Year|    Make|    Model|  Color|Violation Type|           Charge|  Article|Contributed To Accident|   Race|           Gender|         Driver City|Driver State|DL State|      Arrest Type|         Geolocation|\n",
            "+-------+------------+--------------------+-------------------+--------------------+--------------------+--------------------+--------------------+------------------+-------------------+-------+---------------+---------------+-------+------------------+-------+------------------+------------------+---------+------------------+---------------+------------------+--------+---------+-------+--------------+-----------------+---------+-----------------------+-------+-----------------+--------------------+------------+--------+-----------------+--------------------+\n",
            "|  count|     1293487|             1293487|            1293445|             1293435|             1293479|             1292397|             1197100|           1197086|            1292384|1292398|        1292398|        1292398|1292398|           1292398|1292398|           1292398|           1292398|  1292398|           1292339|        1292398|           1285008| 1291713|  1291277|1290652|       1292398|          1292398|  1228317|                1292398|1292398|          1292398|             1292259|     1291299| 1290381|          1291310|             1196012|\n",
            "|   mean|        null|                null| 39.114733095713824|  -77.13726713064057|   52.63636363636363|  46946.642857142855|   39.07432358053577|-77.03742642352968| -77.12153140142364|   null|           null|           null|   null|              null|   null|              null|2001.2123161764705| Infinity| 2605.972222222222|           null|2005.1444600214927|Infinity|      NaN|    0.0|          null|59.79497314279923|     null|                   null|   null|             null|   679.4395604395604|        null|    null|             null|                null|\n",
            "| stddev|        null|                null|0.07734399339551735|  0.0985556395033708|   8.902502201883774|  212631.28554937892|  1.0633544672878976|2.9285609538188946|0.08573421908940364|   null|           null|           null|   null|              null|   null|              null|30.946283325596774|      NaN|1678.9530323748295|           null| 86.85811029557749|     NaN|      NaN|    0.0|          null|5.414243352796821|     null|                   null|   null|             null|   3701.061728173541|        null|    null|             null|                null|\n",
            "|    min|  01/01/2012|            00:00:00|   38.9702583333333|   -76.9228266666667|\"DRIVER FAILURE A...|             SIGNAL\"|   -71.2857083333333|        -120.38467|  -76.9531633333333|     No|             No|             No|     No|                No|     MD|   01 - Motorcycle|              1003|     2009|           1500 TK|01 - Motorcycle|                 0| 'NISSAN|(COMCAST)|     00|         ASIAN|        10-303(a)|21-203(c)|                     DC|     AL|A - Marked Patrol|(38.9702583333333...|          AB|      AB|A - Marked Patrol|(-71.285708333333...|\n",
            "|    max| Wipers (*)\"|WOOTTON PKWY @ RT355|                MCP|Headquarters and ...|windshield NOT SP...|�MIDDLEBROOK RD A...|WISCONSIN/OLD GEO...|               Yes|                 No|    Yes|            Yes|            Yes|    Yes|               Yes|    Yes|               Yes|               Yes|      Yes|          YUKON XL|         YELLOW|             ESERO| `TOYOTA| ~~4DR TL|    Yes|       Warning|          Warning|     YORK|                    Yes|     XX|            WHITE|          `BALTIMORE|     YARDLEY|      XX|               XX|    Q - Marked Laser|\n",
            "+-------+------------+--------------------+-------------------+--------------------+--------------------+--------------------+--------------------+------------------+-------------------+-------+---------------+---------------+-------+------------------+-------+------------------+------------------+---------+------------------+---------------+------------------+--------+---------+-------+--------------+-----------------+---------+-----------------------+-------+-----------------+--------------------+------------+--------+-----------------+--------------------+\n",
            "\n"
          ],
          "name": "stdout"
        }
      ]
    },
    {
      "cell_type": "code",
      "metadata": {
        "colab": {
          "base_uri": "https://localhost:8080/"
        },
        "id": "GxMPwVRsGiWV",
        "outputId": "621f75c7-9e56-46f7-c180-4a2864bad95e"
      },
      "source": [
        "# Remove null values\n",
        "df_task1.dropna(subset=[\"VehicleType\"])\n"
      ],
      "execution_count": null,
      "outputs": [
        {
          "output_type": "execute_result",
          "data": {
            "text/plain": [
              "DataFrame[Date Of Stop: string, Time Of Stop: string, Agency: string, SubAgency: string, Description: string, Location: string, Latitude: string, Longitude: string, Accident: string, Belts: string, Personal Injury: string, Property Damage: string, Fatal: string, Commercial License: string, HAZMAT: string, Commercial Vehicle: string, Alcohol: string, Work Zone: string, State: string, VehicleType: string, Year: string, Make: string, Model: string, Color: string, Violation Type: string, Charge: string, Article: string, Contributed To Accident: string, Race: string, Gender: string, Driver City: string, Driver State: string, DL State: string, Arrest Type: string, Geolocation: string]"
            ]
          },
          "metadata": {
            "tags": []
          },
          "execution_count": 43
        }
      ]
    },
    {
      "cell_type": "code",
      "metadata": {
        "colab": {
          "base_uri": "https://localhost:8080/"
        },
        "id": "rm6M_2GfGxYM",
        "outputId": "6a29dbfe-9d6c-40a4-ec0d-a4c2e767d37e"
      },
      "source": [
        "df_task1.select('VehicleType','Contributed To Accident')"
      ],
      "execution_count": null,
      "outputs": [
        {
          "output_type": "execute_result",
          "data": {
            "text/plain": [
              "DataFrame[VehicleType: string, Contributed To Accident: string]"
            ]
          },
          "metadata": {
            "tags": []
          },
          "execution_count": 45
        }
      ]
    },
    {
      "cell_type": "code",
      "metadata": {
        "colab": {
          "base_uri": "https://localhost:8080/",
          "height": 944
        },
        "id": "SMXq2nnTe_Va",
        "outputId": "7837bcbd-d7c1-42bc-e3f9-865e913d4eeb"
      },
      "source": [
        "# Filter the data where accidents occur\n",
        "df_task1 = df_task1.where(df_task1['Contributed to Accident'] == 'Yes')\n",
        "\n",
        "# Group data from Vehicle type.\n",
        "group_data = df_task1.groupby([\"VehicleType\",\"Contributed To Accident\"]).agg({\"Contributed To Accident\":\"count\"})\n",
        "group_data = group_data.withColumnRenamed(\"count(Contributed To Accident)\",\"Number of Accidents\")\n",
        "\n",
        "# Dipaly Data\n",
        "group_data.show()\n",
        "\n",
        "# convert DataFrame into Pandas\n",
        "df_pandas = group_data.toPandas()\n",
        "df_pandas\n",
        "\n",
        "# Creating dimensions(VehicleType,Contributed To Accident,count)\n",
        "df_pivot = pd.pivot_table(\n",
        "\tdf_pandas,\n",
        "\tvalues=\"Number of Accidents\",\n",
        "\tindex=\"VehicleType\",\n",
        "\tcolumns=\"Contributed To Accident\",\n",
        "\taggfunc=np.sum\n",
        ")\n",
        "\n",
        "# Plot a bar chart using the DF\n",
        "ax=df_pivot.plot(kind=\"bar\")\n",
        "\n",
        "# Get a Matplotlib figure from the axes object for formatting purposes\n",
        "fig = ax.get_figure()\n",
        "\n",
        "# Change the plot dimensions (width, height)\n",
        "fig.set_size_inches(6, 6)\n",
        "\n",
        "# Change the axes labels\n",
        "ax.set_xlabel(\"VehicleType\")\n",
        "ax.set_ylabel(\"Number of Accidents\")\n",
        "figsize=(15, 10)\n",
        "plt.xticks(rotation=90)\n",
        "# Visualize the data\n",
        "plt.show()\n",
        "\n",
        "\n"
      ],
      "execution_count": null,
      "outputs": [
        {
          "output_type": "stream",
          "text": [
            "+--------------------+-----------------------+-------------------+\n",
            "|         VehicleType|Contributed To Accident|Number of Accidents|\n",
            "+--------------------+-----------------------+-------------------+\n",
            "| 27 - Farm Equipment|                    Yes|                 10|\n",
            "|          28 - Other|                    Yes|                645|\n",
            "|     12 - School Bus|                    Yes|                 64|\n",
            "|    22 - Mobile Home|                    Yes|                  1|\n",
            "|     02 - Automobile|                    Yes|              27030|\n",
            "|   09 - Farm Vehicle|                    Yes|                  6|\n",
            "|     01 - Motorcycle|                    Yes|                378|\n",
            "| 21 - Tandem Trailer|                    Yes|                  1|\n",
            "|   26 - Boat Trailer|                    Yes|                  1|\n",
            "| 20 - Commercial Rig|                    Yes|                 35|\n",
            "|          19 - Moped|                    Yes|                 16|\n",
            "|08 - Recreational...|                    Yes|                131|\n",
            "|        29 - Unknown|                    Yes|                 90|\n",
            "|25 - Utility Trailer|                    Yes|                  3|\n",
            "|  03 - Station Wagon|                    Yes|                386|\n",
            "|05 - Light Duty T...|                    Yes|               1581|\n",
            "|    10 - Transit Bus|                    Yes|                107|\n",
            "|07 - Truck/Road T...|                    Yes|                 78|\n",
            "|06 - Heavy Duty T...|                    Yes|                319|\n",
            "|23 - Travel/Home ...|                    Yes|                  5|\n",
            "+--------------------+-----------------------+-------------------+\n",
            "only showing top 20 rows\n",
            "\n"
          ],
          "name": "stdout"
        },
        {
          "output_type": "display_data",
          "data": {
            "image/png": "[encoded data removed]",
            "text/plain": [
              "<Figure size 432x432 with 1 Axes>"
            ]
          },
          "metadata": {
            "tags": [],
            "needs_background": "light"
          }
        }
      ]
    },
    {
      "cell_type": "markdown",
      "metadata": {
        "id": "rXPiEbAN8NCA"
      },
      "source": [
        "**Task 15-Correlation between accidents and time of the day.ipynb**"
      ]
    },
    {
      "cell_type": "code",
      "metadata": {
        "id": "-97l54uU8Y8w"
      },
      "source": [
        "# Load data to Task 15.\n",
        "df_task15 = spark.read.csv('/content/sample_data/Traffic_Violations.csv',header=True)\n",
        "#df_task15.show()"
      ],
      "execution_count": null,
      "outputs": []
    },
    {
      "cell_type": "code",
      "metadata": {
        "colab": {
          "base_uri": "https://localhost:8080/"
        },
        "id": "uda3kHnN9SxP",
        "outputId": "cc4b0a56-ec09-4dc6-e5ac-380660b41687"
      },
      "source": [
        "df_task15.printSchema()"
      ],
      "execution_count": null,
      "outputs": [
        {
          "output_type": "stream",
          "text": [
            "root\n",
            " |-- Date Of Stop: string (nullable = true)\n",
            " |-- Time Of Stop: string (nullable = true)\n",
            " |-- Agency: string (nullable = true)\n",
            " |-- SubAgency: string (nullable = true)\n",
            " |-- Description: string (nullable = true)\n",
            " |-- Location: string (nullable = true)\n",
            " |-- Latitude: string (nullable = true)\n",
            " |-- Longitude: string (nullable = true)\n",
            " |-- Accident: string (nullable = true)\n",
            " |-- Belts: string (nullable = true)\n",
            " |-- Personal Injury: string (nullable = true)\n",
            " |-- Property Damage: string (nullable = true)\n",
            " |-- Fatal: string (nullable = true)\n",
            " |-- Commercial License: string (nullable = true)\n",
            " |-- HAZMAT: string (nullable = true)\n",
            " |-- Commercial Vehicle: string (nullable = true)\n",
            " |-- Alcohol: string (nullable = true)\n",
            " |-- Work Zone: string (nullable = true)\n",
            " |-- State: string (nullable = true)\n",
            " |-- VehicleType: string (nullable = true)\n",
            " |-- Year: string (nullable = true)\n",
            " |-- Make: string (nullable = true)\n",
            " |-- Model: string (nullable = true)\n",
            " |-- Color: string (nullable = true)\n",
            " |-- Violation Type: string (nullable = true)\n",
            " |-- Charge: string (nullable = true)\n",
            " |-- Article: string (nullable = true)\n",
            " |-- Contributed To Accident: string (nullable = true)\n",
            " |-- Race: string (nullable = true)\n",
            " |-- Gender: string (nullable = true)\n",
            " |-- Driver City: string (nullable = true)\n",
            " |-- Driver State: string (nullable = true)\n",
            " |-- DL State: string (nullable = true)\n",
            " |-- Arrest Type: string (nullable = true)\n",
            " |-- Geolocation: string (nullable = true)\n",
            "\n"
          ],
          "name": "stdout"
        }
      ]
    },
    {
      "cell_type": "code",
      "metadata": {
        "colab": {
          "base_uri": "https://localhost:8080/"
        },
        "id": "KLTfDPDT9Vxo",
        "outputId": "fbd4a0bc-381b-4fe9-e45e-e4d1079825cf"
      },
      "source": [
        "df_task15.describe().show()"
      ],
      "execution_count": null,
      "outputs": [
        {
          "output_type": "stream",
          "text": [
            "+-------+------------+--------------------+-------------------+--------------------+--------------------+--------------------+--------------------+------------------+-------------------+-------+---------------+---------------+-------+------------------+-------+------------------+------------------+---------+------------------+---------------+------------------+--------+---------+-------+--------------+-----------------+---------+-----------------------+-------+-----------------+--------------------+------------+--------+-----------------+--------------------+\n",
            "|summary|Date Of Stop|        Time Of Stop|             Agency|           SubAgency|         Description|            Location|            Latitude|         Longitude|           Accident|  Belts|Personal Injury|Property Damage|  Fatal|Commercial License| HAZMAT|Commercial Vehicle|           Alcohol|Work Zone|             State|    VehicleType|              Year|    Make|    Model|  Color|Violation Type|           Charge|  Article|Contributed To Accident|   Race|           Gender|         Driver City|Driver State|DL State|      Arrest Type|         Geolocation|\n",
            "+-------+------------+--------------------+-------------------+--------------------+--------------------+--------------------+--------------------+------------------+-------------------+-------+---------------+---------------+-------+------------------+-------+------------------+------------------+---------+------------------+---------------+------------------+--------+---------+-------+--------------+-----------------+---------+-----------------------+-------+-----------------+--------------------+------------+--------+-----------------+--------------------+\n",
            "|  count|     1293487|             1293487|            1293445|             1293435|             1293479|             1292397|             1197100|           1197086|            1292384|1292398|        1292398|        1292398|1292398|           1292398|1292398|           1292398|           1292398|  1292398|           1292339|        1292398|           1285008| 1291713|  1291277|1290652|       1292398|          1292398|  1228317|                1292398|1292398|          1292398|             1292259|     1291299| 1290381|          1291310|             1196012|\n",
            "|   mean|        null|                null| 39.114733095713824|  -77.13726713064057|   52.63636363636363|  46946.642857142855|   39.07432358053577|-77.03742642352968| -77.12153140142364|   null|           null|           null|   null|              null|   null|              null|2001.2123161764705| Infinity| 2605.972222222222|           null|2005.1444600214927|Infinity|      NaN|    0.0|          null|59.79497314279923|     null|                   null|   null|             null|   679.4395604395604|        null|    null|             null|                null|\n",
            "| stddev|        null|                null|0.07734399339551735|  0.0985556395033708|   8.902502201883774|  212631.28554937892|  1.0633544672878976|2.9285609538188946|0.08573421908940364|   null|           null|           null|   null|              null|   null|              null|30.946283325596774|      NaN|1678.9530323748295|           null| 86.85811029557749|     NaN|      NaN|    0.0|          null|5.414243352796821|     null|                   null|   null|             null|   3701.061728173541|        null|    null|             null|                null|\n",
            "|    min|  01/01/2012|            00:00:00|   38.9702583333333|   -76.9228266666667|\"DRIVER FAILURE A...|             SIGNAL\"|   -71.2857083333333|        -120.38467|  -76.9531633333333|     No|             No|             No|     No|                No|     MD|   01 - Motorcycle|              1003|     2009|           1500 TK|01 - Motorcycle|                 0| 'NISSAN|(COMCAST)|     00|         ASIAN|        10-303(a)|21-203(c)|                     DC|     AL|A - Marked Patrol|(38.9702583333333...|          AB|      AB|A - Marked Patrol|(-71.285708333333...|\n",
            "|    max| Wipers (*)\"|WOOTTON PKWY @ RT355|                MCP|Headquarters and ...|windshield NOT SP...|�MIDDLEBROOK RD A...|WISCONSIN/OLD GEO...|               Yes|                 No|    Yes|            Yes|            Yes|    Yes|               Yes|    Yes|               Yes|               Yes|      Yes|          YUKON XL|         YELLOW|             ESERO| `TOYOTA| ~~4DR TL|    Yes|       Warning|          Warning|     YORK|                    Yes|     XX|            WHITE|          `BALTIMORE|     YARDLEY|      XX|               XX|    Q - Marked Laser|\n",
            "+-------+------------+--------------------+-------------------+--------------------+--------------------+--------------------+--------------------+------------------+-------------------+-------+---------------+---------------+-------+------------------+-------+------------------+------------------+---------+------------------+---------------+------------------+--------+---------+-------+--------------+-----------------+---------+-----------------------+-------+-----------------+--------------------+------------+--------+-----------------+--------------------+\n",
            "\n"
          ],
          "name": "stdout"
        }
      ]
    },
    {
      "cell_type": "code",
      "metadata": {
        "colab": {
          "base_uri": "https://localhost:8080/",
          "height": 942
        },
        "id": "OaU39YbH9ZHJ",
        "outputId": "7412fb49-23e2-440f-a1cb-a04518c830e9"
      },
      "source": [
        "from pyspark.sql import SparkSession\n",
        "from pyspark.sql.functions import *\n",
        "\n",
        "spark = SparkSession.builder.getOrCreate()\n",
        "sc = spark.sparkContext\n",
        "\n",
        "# Filter the data where accidents occur\n",
        "df_task15 = df_task15.where(df_task15['Contributed to Accident'] == 'Yes')\n",
        "\n",
        "#Get time and whethere there have accident or not \n",
        "df_task15 = df_task15.select('Time Of Stop','Contributed To Accident')\n",
        "\n",
        "#Sort above based on time\n",
        "#sorted=group_data.orderBy('Time Of Stop')\n",
        "#sorted.show()\n",
        "\n",
        "# Here contain 24hr clock. To get more simple consider only the hour that accident is happened. \n",
        "#Take the hour for each timestamp\n",
        "sorted = (df_task15.select(\"Time Of Stop\")\n",
        "    .withColumn(\"hour\", hour(\"Time Of Stop\")))\n",
        "#sorted.show()\n",
        "\n",
        "#Join above datafrmaes by outter join.\n",
        "df = df_task15.join(sorted, on=['Time Of Stop'], how='outer')\n",
        "#df.show()\n",
        "\n",
        "\n",
        "# Group data from Vehicle type.\n",
        "group_data = df.groupby([\"hour\",\"Contributed To Accident\"]).agg({\"Contributed To Accident\":\"count\"})\n",
        "group_data = group_data.withColumnRenamed(\"count(Contributed To Accident)\",\"Number of Accidents\")\n",
        "\n",
        "group_data=group_data.orderBy('hour')\n",
        "\n",
        "# Dipaly Data\n",
        "group_data.show()\n",
        "\n",
        "\n",
        "### To Plot the Data in Chart\n",
        "\n",
        "\n",
        "# convert DataFrame into Pandas\n",
        "df_pandas = group_data.toPandas()\n",
        "df_pandas\n",
        "\n",
        "# Creating dimensions(VehicleType,Contributed To Accident,count)\n",
        "df_pivot = pd.pivot_table(\n",
        "\tdf_pandas,\n",
        "\tvalues=\"Number of Accidents\",\n",
        "\tindex=\"hour\",\n",
        "\tcolumns=\"Contributed To Accident\",\n",
        "\taggfunc=np.sum\n",
        ")\n",
        "\n",
        "# Plot a bar chart using the DF\n",
        "ax=df_pivot.plot(kind=\"bar\")\n",
        "\n",
        "# Get a Matplotlib figure from the axes object for formatting purposes\n",
        "fig = ax.get_figure()\n",
        "\n",
        "# Change the plot dimensions (width, height)\n",
        "fig.set_size_inches(10, 8)\n",
        "\n",
        "# Change the axes labels\n",
        "ax.set_xlabel(\"Hour of Day\")\n",
        "ax.set_ylabel(\"Number of Accidents\")\n",
        "#plt.xticks(rotation=90)\n",
        "\n",
        "# Visualize the data\n",
        "plt.show()\n",
        "\n"
      ],
      "execution_count": null,
      "outputs": [
        {
          "output_type": "stream",
          "text": [
            "+----+-----------------------+-------------------+\n",
            "|hour|Contributed To Accident|Number of Accidents|\n",
            "+----+-----------------------+-------------------+\n",
            "|   0|                    Yes|              35335|\n",
            "|   1|                    Yes|              25193|\n",
            "|   2|                    Yes|              23737|\n",
            "|   3|                    Yes|              28978|\n",
            "|   4|                    Yes|              13772|\n",
            "|   5|                    Yes|              10112|\n",
            "|   6|                    Yes|              13849|\n",
            "|   7|                    Yes|              30107|\n",
            "|   8|                    Yes|              44577|\n",
            "|   9|                    Yes|              35228|\n",
            "|  10|                    Yes|              23975|\n",
            "|  11|                    Yes|              28098|\n",
            "|  12|                    Yes|              29411|\n",
            "|  13|                    Yes|              28311|\n",
            "|  14|                    Yes|              34053|\n",
            "|  15|                    Yes|              45608|\n",
            "|  16|                    Yes|              66411|\n",
            "|  17|                    Yes|              79179|\n",
            "|  18|                    Yes|              54870|\n",
            "|  19|                    Yes|              47116|\n",
            "+----+-----------------------+-------------------+\n",
            "only showing top 20 rows\n",
            "\n"
          ],
          "name": "stdout"
        },
        {
          "output_type": "display_data",
          "data": {
            "image/png": "[encoded data removed]",
            "text/plain": [
              "<Figure size 720x576 with 1 Axes>"
            ]
          },
          "metadata": {
            "tags": [],
            "needs_background": "light"
          }
        }
      ]
    },
    {
      "cell_type": "code",
      "metadata": {
        "colab": {
          "base_uri": "https://localhost:8080/",
          "height": 111
        },
        "id": "jmaOGN0Ojo7q",
        "outputId": "eb59cf51-5be4-449d-af34-e50934bda804"
      },
      "source": [
        "# To find the correlation among\n",
        "# the columns using pearson method\n",
        "df_pandas.corr(method ='pearson')"
      ],
      "execution_count": null,
      "outputs": [
        {
          "output_type": "execute_result",
          "data": {
            "text/html": [
              "<div>\n",
              "<style scoped>\n",
              "    .dataframe tbody tr th:only-of-type {\n",
              "        vertical-align: middle;\n",
              "    }\n",
              "\n",
              "    .dataframe tbody tr th {\n",
              "        vertical-align: top;\n",
              "    }\n",
              "\n",
              "    .dataframe thead th {\n",
              "        text-align: right;\n",
              "    }\n",
              "</style>\n",
              "<table border=\"1\" class=\"dataframe\">\n",
              "  <thead>\n",
              "    <tr style=\"text-align: right;\">\n",
              "      <th></th>\n",
              "      <th>hour</th>\n",
              "      <th>Number of Accidents</th>\n",
              "    </tr>\n",
              "  </thead>\n",
              "  <tbody>\n",
              "    <tr>\n",
              "      <th>hour</th>\n",
              "      <td>1.000000</td>\n",
              "      <td>0.644183</td>\n",
              "    </tr>\n",
              "    <tr>\n",
              "      <th>Number of Accidents</th>\n",
              "      <td>0.644183</td>\n",
              "      <td>1.000000</td>\n",
              "    </tr>\n",
              "  </tbody>\n",
              "</table>\n",
              "</div>"
            ],
            "text/plain": [
              "                         hour  Number of Accidents\n",
              "hour                 1.000000             0.644183\n",
              "Number of Accidents  0.644183             1.000000"
            ]
          },
          "metadata": {
            "tags": []
          },
          "execution_count": 54
        }
      ]
    },
    {
      "cell_type": "code",
      "metadata": {
        "colab": {
          "base_uri": "https://localhost:8080/",
          "height": 282
        },
        "id": "AEgkgJMeneDn",
        "outputId": "d7ab8a88-c356-43e8-fb1f-1f15ee8691a8"
      },
      "source": [
        "# import required libraries\n",
        "import pandas as pd\n",
        "import seaborn as sns \n",
        "import matplotlib.pyplot as plt\n",
        "import numpy as np\n",
        "\n",
        "# convert DataFrame into Pandas\n",
        "df_pandas = group_data.toPandas()\n",
        "df_pandas\n",
        "\n",
        "# importing libraries\n",
        "  \n",
        "df_pandas.plot.scatter(x ='hour', y ='Number of Accidents')\n",
        "plt.xticks(rotation=90)\n",
        "plt.show()\n",
        "\n",
        "#ax2 = df_pandas.plot.scatter(x='hour',\n",
        "#                      y='Number of Accidents',\n",
        "                     # c='Contributed To Accident',\n",
        " #                     colormap='viridis')"
      ],
      "execution_count": null,
      "outputs": [
        {
          "output_type": "display_data",
          "data": {
            "image/png": "[encoded data removed]",
            "text/plain": [
              "<Figure size 432x288 with 1 Axes>"
            ]
          },
          "metadata": {
            "tags": [],
            "needs_background": "light"
          }
        }
      ]
    }
  ]
}