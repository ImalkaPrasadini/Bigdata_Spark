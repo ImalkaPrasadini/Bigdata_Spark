{
  "nbformat": 4,
  "nbformat_minor": 0,
  "metadata": {
    "colab": {
      "name": "Task 5 - Probability of accidents which occur when the driver is without seat belts and with alcohol.ipynb",
      "provenance": [],
      "include_colab_link": true
    },
    "kernelspec": {
      "name": "python3",
      "display_name": "Python 3"
    },
    "language_info": {
      "name": "python"
    }
  },
  "cells": [
    {
      "cell_type": "markdown",
      "metadata": {
        "id": "view-in-github",
        "colab_type": "text"
      },
      "source": [
        "<a href=\"https://colab.research.google.com/github/ImalkaPrasadini/Bigdata_Spark/blob/main/Task_5_Probability_of_accidents_which_occur_when_the_driver_is_without_seat_belts_and_with_alcohol.ipynb\" target=\"_parent\"><img src=\"https://colab.research.google.com/assets/colab-badge.svg\" alt=\"Open In Colab\"/></a>"
      ]
    },
    {
      "cell_type": "code",
      "metadata": {
        "id": "DZghpyJl3onB"
      },
      "source": [
        "# import os,sys\n",
        "# from google.colab import drive\n",
        "# drive.mount('/content/MyDrive')\n",
        "# nb_path = '/content/notebooks'\n",
        "# os.symlink('/content/MyDrive/My Notebooks/Colab Notebooks', nb_path)\n",
        "# sys.path.insert(0,nb_path)"
      ],
      "execution_count": 1,
      "outputs": []
    },
    {
      "cell_type": "markdown",
      "metadata": {
        "id": "BrF_MVuNaVyh"
      },
      "source": [
        "**Install java**"
      ]
    },
    {
      "cell_type": "code",
      "metadata": {
        "id": "BTFIi0JHaZ1s"
      },
      "source": [
        "!apt-get install openjdk-8-jdk-headless -qq > /dev/null"
      ],
      "execution_count": 2,
      "outputs": []
    },
    {
      "cell_type": "markdown",
      "metadata": {
        "id": "-EWXMLTBapK_"
      },
      "source": [
        "**Install Apache Spark 3.0.1 with Hadoop 2.7**"
      ]
    },
    {
      "cell_type": "code",
      "metadata": {
        "id": "_-dbJm1xaxNS"
      },
      "source": [
        "!wget -q https://www-us.apache.org/dist/spark/spark-3.1.1/spark-3.1.1-bin-hadoop3.2.tgz"
      ],
      "execution_count": 3,
      "outputs": []
    },
    {
      "cell_type": "markdown",
      "metadata": {
        "id": "NKzltUJ-b9C4"
      },
      "source": [
        "**Unzip Spark file to current folder**"
      ]
    },
    {
      "cell_type": "code",
      "metadata": {
        "id": "CaOxugtWb_So"
      },
      "source": [
        "!tar xf spark-3.1.1-bin-hadoop3.2.tgz"
      ],
      "execution_count": 4,
      "outputs": []
    },
    {
      "cell_type": "markdown",
      "metadata": {
        "id": "dU5-udNZfAhz"
      },
      "source": [
        "**Set Spark folder to system path environment**\n",
        "\n",
        "//This will enable us to run Pyspark in the Colab environment"
      ]
    },
    {
      "cell_type": "code",
      "metadata": {
        "id": "evqSxVIzfJ06"
      },
      "source": [
        "import os\n",
        "os.environ[\"JAVA_HOME\"] = \"/usr/lib/jvm/java-8-openjdk-amd64\"\n",
        "os.environ[\"SPARK_HOME\"] = \"/content/spark-3.1.1-bin-hadoop3.2\""
      ],
      "execution_count": 5,
      "outputs": []
    },
    {
      "cell_type": "markdown",
      "metadata": {
        "id": "g9h5U-0AGDWk"
      },
      "source": [
        "**Install Findspark**\n",
        "\n",
        "//It will locate Spark on the system and import it as a regular library."
      ]
    },
    {
      "cell_type": "code",
      "metadata": {
        "id": "Q9Lx-L4WGJrp"
      },
      "source": [
        "!pip install -q findspark"
      ],
      "execution_count": 6,
      "outputs": []
    },
    {
      "cell_type": "code",
      "metadata": {
        "id": "fiD69la1IAaV"
      },
      "source": [
        "import findspark\n",
        "findspark.init()"
      ],
      "execution_count": 7,
      "outputs": []
    },
    {
      "cell_type": "code",
      "metadata": {
        "colab": {
          "base_uri": "https://localhost:8080/",
          "height": 35
        },
        "id": "-pfL2Udmfos6",
        "outputId": "a73eacbc-faff-4149-da97-165c00c0f3b9"
      },
      "source": [
        "findspark.find()"
      ],
      "execution_count": 8,
      "outputs": [
        {
          "output_type": "execute_result",
          "data": {
            "application/vnd.google.colaboratory.intrinsic+json": {
              "type": "string"
            },
            "text/plain": [
              "'/content/spark-3.1.1-bin-hadoop3.2'"
            ]
          },
          "metadata": {
            "tags": []
          },
          "execution_count": 8
        }
      ]
    },
    {
      "cell_type": "markdown",
      "metadata": {
        "id": "nhjadG91f5VW"
      },
      "source": [
        "**Load data to PySpark**"
      ]
    },
    {
      "cell_type": "code",
      "metadata": {
        "id": "XPVEfkhmgCQf"
      },
      "source": [
        "import pandas as pd\n",
        "import numpy as np\n",
        "import matplotlib.pyplot as plt\n",
        "from pyspark.sql import SparkSession\n",
        "spark = SparkSession.builder.master(\"local[*]\").getOrCreate()\n",
        "import pyspark.sql.functions as f"
      ],
      "execution_count": 9,
      "outputs": []
    },
    {
      "cell_type": "code",
      "metadata": {
        "colab": {
          "base_uri": "https://localhost:8080/"
        },
        "id": "CPXSGp8FvRHC",
        "outputId": "b0596a1a-6b34-4550-e195-9a552b6c702c"
      },
      "source": [
        "# Load data to Task1\n",
        "df_task1 = spark.read.csv('Traffic.csv',header=True)\n",
        "df_task1.show()"
      ],
      "execution_count": 10,
      "outputs": [
        {
          "output_type": "stream",
          "text": [
            "+------------+------------+------+--------------------+--------------------+--------------------+-----------+------------+--------+-----+---------------+---------------+-----+------------------+------+------------------+-------+---------+-----+---------------+----+-----------+--------+------+--------------+-------------+--------------------+-----------------------+--------+------+---------------+------------+--------+-----------------+--------------------+\n",
            "|Date Of Stop|Time Of Stop|Agency|           SubAgency|         Description|            Location|   Latitude|   Longitude|Accident|Belts|Personal Injury|Property Damage|Fatal|Commercial License|HAZMAT|Commercial Vehicle|Alcohol|Work Zone|State|    VehicleType|Year|       Make|   Model| Color|Violation Type|       Charge|             Article|Contributed To Accident|    Race|Gender|    Driver City|Driver State|DL State|      Arrest Type|         Geolocation|\n",
            "+------------+------------+------+--------------------+--------------------+--------------------+-----------+------------+--------+-----+---------------+---------------+-----+------------------+------+------------------+-------+---------+-----+---------------+----+-----------+--------+------+--------------+-------------+--------------------+-----------------------+--------+------+---------------+------------+--------+-----------------+--------------------+\n",
            "|   9/24/2013|    17:11:00|   MCP|3rd district, Sil...|DRIVING VEHICLE O...|     8804 FLOWER AVE|       null|        null|      No|   No|             No|             No|   No|                No|    No|                No|     No|       No|   MD|02 - Automobile|2008|       FORD|      4S| BLACK|      Citation|    13-401(h)|Transportation Ar...|                     No|   BLACK|     M|    TAKOMA PARK|          MD|      MD|A - Marked Patrol|                null|\n",
            "|   8/29/2017|    10:19:00|   MCP|2nd district, Bet...|DRIVER FAILURE TO...|WISCONSIN AVE@ EL...|  38.981725|-77.09275667|      No|   No|             No|             No|   No|                No|    No|                No|     No|       No|   VA|02 - Automobile|2001|     TOYOTA| COROLLA| GREEN|      Citation|   21-201(a1)|Transportation Ar...|                     No|   WHITE|     F|FAIRFAX STATION|          VA|      VA|A - Marked Patrol|(38.981725, -77.0...|\n",
            "|   12/1/2014|    12:52:00|   MCP|6th district, Gai...|FAILURE STOP AND ...|CHRISTOPHER AVE/M...|39.16288833|-77.22908833|      No|   No|             No|            Yes|   No|                No|    No|                No|     No|       No|   MD|02 - Automobile|2001|      HONDA|  ACCORD|SILVER|      Citation|    21-403(b)|Transportation Ar...|                     No|   BLACK|     F| UPPER MARLBORO|          MD|      MD|A - Marked Patrol|(39.1628883333333...|\n",
            "|   8/29/2017|     9:22:00|   MCP|3rd district, Sil...|FAILURE YIELD RIG...|CHERRY HILL RD./C...|  39.056975|-76.95463333|      No|   No|             No|            Yes|   No|                No|    No|                No|    Yes|       No|   MD|02 - Automobile|1998|       DODG|  DAKOTA| WHITE|      Citation|    21-402(b)|Transportation Ar...|                    Yes|   BLACK|     M|FORT WASHINGTON|          MD|      MD|A - Marked Patrol|(39.056975, -76.9...|\n",
            "|   8/28/2017|    23:41:00|   MCP|6th district, Gai...|FAILURE OF DR. TO...|355 @ SOUTH WESTL...|       null|        null|      No|  Yes|             No|             No|   No|                No|    No|                No|    Yes|       No|   MD|02 - Automobile|2015|MINI COOPER|      2S| WHITE|      Citation|   21-405(e1)|Transportation Ar...|                    Yes|   WHITE|     M|   GAITHERSBURG|          MD|      MD|A - Marked Patrol|                null|\n",
            "|   8/27/2013|     0:55:00|   MCP|2nd district, Bet...|NEGLIGENT DRIVING...|CONNECTICUT/CHEVY...|       null|        null|      No|  Yes|             No|             No|   No|                No|    No|                No|    Yes|       No|   MD|02 - Automobile|2013|    HYUNDAI| ELANTRA|  GRAY|      Citation|  21-901.1(b)|Transportation Ar...|                    Yes|   WHITE|     F|  SILVER SPRING|          MD|      MD|A - Marked Patrol|                null|\n",
            "|   10/8/2013|    13:23:00|   MCP|4th district, Whe...|DRIVING VEHICLE O...|GEORGIA AVE / BEL...|39.09338333|-77.07955167|      No|  Yes|             No|             No|   No|                No|    No|                No|     No|       No|   MD|02 - Automobile|1993|       FORD|  PICKUP| BLACK|      Citation|    13-401(h)|Transportation Ar...|                     No|HISPANIC|     M|     BELTSVILLE|          MD|      MD|A - Marked Patrol|(39.0933833333333...|\n",
            "|   4/24/2015|     0:38:00|   MCP|1st district, Roc...|DRIVER FAIL TO ST...|EB MONTROSE PKWY/...|       null|        null|      No|   No|             No|             No|   No|                No|    No|                No|     No|       No|   VA|02 - Automobile|2003|      DODGE|SPRINTER| WHITE|      Citation|    21-204(b)|Transportation Ar...|                     No|HISPANIC|     M|  SILVER SPRING|          MD|      MD|A - Marked Patrol|                null|\n",
            "|   8/28/2017|    23:41:00|   MCP|6th district, Gai...|FAILURE OF INDIVI...|355 @ SOUTH WESTL...|       null|        null|      No|   No|             No|             No|   No|                No|    No|                No|     No|       No|   MD|02 - Automobile|2015|MINI COOPER|      2S| WHITE|      Citation|    16-112(c)|Transportation Ar...|                     No|   WHITE|     M|   GAITHERSBURG|          MD|      MD|A - Marked Patrol|                null|\n",
            "|   8/28/2017|    23:41:00|   MCP|6th district, Gai...|DRIVING VEHICLE O...|355 @ SOUTH WESTL...|       null|        null|      No|   No|             No|             No|   No|                No|    No|                No|     No|       No|   MD|02 - Automobile|2015|MINI COOPER|      2S| WHITE|      Citation|    16-115(g)|Transportation Ar...|                     No|   WHITE|     M|   GAITHERSBURG|          MD|      MD|A - Marked Patrol|                null|\n",
            "|   2/14/2014|    20:10:00|   MCP|1st district, Roc...|FAILURE TO DRIVE ...|GATEWAY CENTER DR...|39.23484343|-77.28153995|      No|   No|             No|             No|   No|                No|    No|                No|     No|       No|   MD|02 - Automobile|2005|       CADI|     STS| BLACK|      Citation|    21-311(1)|Transportation Ar...|                     No|   WHITE|     M|  POINT OF ROCK|          MD|      WV|A - Marked Patrol|(39.2348434333333...|\n",
            "|   3/19/2012|    16:10:00|   MCP|2nd district, Bet...|DRIVER USING HAND...|CLARENDON RD @ EL...|38.98273073|-77.10075517|      No|   No|             No|             No|   No|                No|    No|                No|     No|       No|   VA|02 - Automobile|1996|      HONDA|   CIVIC|SILVER|      Citation|21-1124.2(d2)|Transportation Ar...|                     No|HISPANIC|     M|      ARLINGTON|          VA|      VA|A - Marked Patrol|(38.9827307333333...|\n",
            "|    6/9/2012|    21:19:00|   MCP|3rd district, Sil...|OCCUPANT UNDER 16...|2068 HARLEQUIN TE...|39.06914295|-76.96967807|      No|   No|             No|             No|   No|                No|    No|                No|     No|       No|   MD|02 - Automobile|2004|  CHEVROLET|  IMPALA|SILVER|      Citation|  22-412.3(b)|Transportation Ar...|                     No|   WHITE|     F|  SILVER SPRING|          MD|      MD|A - Marked Patrol|(39.06914295, -76...|\n",
            "|  12/20/2012|     0:41:00|   MCP|2nd district, Bet...|DRIVING WHILE IMP...|NORFOLK AVE /  ST...| 38.9835782|-77.09310515|      No|   No|             No|             No|   No|                No|    No|                No|     No|       No|   MD|02 - Automobile|2005|       AUDI|      4S|  GRAY|      Citation|   21-902(b1)|Transportation Ar...|                     No|   WHITE|     M|        DERWOOD|          MD|      MD|A - Marked Patrol|(38.9835782, -77....|\n",
            "|   7/20/2012|    23:12:00|   MCP|5th district, Ger...|FAILURE TO STOP A...|WISTERIA DR @ WAR...|39.16180982|-77.25358095|      No|   No|             No|             No|   No|                No|    No|                No|     No|       No|   MD|02 - Automobile|2002|       TOYT|      4S|   RED|      Citation|    21-707(a)|Transportation Ar...|                    Yes|   ASIAN|     F|     GERMANTOWN|          MD|      MD|A - Marked Patrol|(39.1618098166667...|\n",
            "|   9/11/2012|    21:47:00|   MCP|4th district, Whe...|PERSON DRIVING MO...|TWIG RD AT GOOD H...|39.09619885|-76.98696215|      No|   No|             No|             No|   No|                No|    No|                No|     No|       No|   MD|02 - Automobile|2009|      DODGE| CHARGER| BLACK|      Citation|    16-303(d)|Transportation Ar...|                     No|   BLACK|     M|  SILVER SPRING|          MD|      MD|A - Marked Patrol|(39.09619885, -76...|\n",
            "|   7/23/2013|    23:15:00|   MCP|4th district, Whe...|FAILURE TO ATTACH...|108 / OLD BALTIMO...|39.15166592| -77.0706278|      No|   No|             No|             No|   No|                No|    No|                No|     No|       No|   MD|02 - Automobile|2000|     SATURN|      LS|SILVER|      Citation|    13-411(a)|Transportation Ar...|                     No|   BLACK|     F|     BELTSVILLE|          MD|      MD|A - Marked Patrol|(39.1516659166667...|\n",
            "|  10/28/2013|    17:41:00|   MCP|6th district, Gai...|DRIVER FAILURE TO...|EMORY GROVE RD @ ...|39.12993477|-77.16705013|      No|   No|             No|             No|   No|                No|    No|                No|     No|       No|   MD|02 - Automobile|2003|      HONDA|  ACCORD|  GOLD|      Citation|    21-404(b)|Transportation Ar...|                     No|   BLACK|     M|   GAITHERSBURG|          MD|      MD|A - Marked Patrol|(39.1299347666667...|\n",
            "|   8/28/2017|    23:41:00|   MCP|6th district, Gai...|PERSON DRIVING MO...|355 @ SOUTH WESTL...|       null|        null|      No|  Yes|             No|             No|   No|                No|    No|                No|    Yes|       No|   MD|02 - Automobile|2015|MINI COOPER|      2S| WHITE|      Citation|    16-303(c)|Transportation Ar...|                     No|   WHITE|     M|   GAITHERSBURG|          MD|      MD|A - Marked Patrol|                null|\n",
            "|  12/17/2015|    13:15:00|   MCP|5th district, Ger...|FAILURE TO RETURN...|19916 CRYSTAL ROC...|39.22279333|   -77.25369|      No|  Yes|             No|             No|   No|                No|    No|                No|    Yes|       No|   MD|02 - Automobile|2005|     TOYOTA|   CAMRY| BLACK|      Citation|    20-103(b)|Transportation Ar...|                     No|   BLACK|     M|      ROCKVILLE|          MD|      MD|A - Marked Patrol|(39.2227933333333...|\n",
            "+------------+------------+------+--------------------+--------------------+--------------------+-----------+------------+--------+-----+---------------+---------------+-----+------------------+------+------------------+-------+---------+-----+---------------+----+-----------+--------+------+--------------+-------------+--------------------+-----------------------+--------+------+---------------+------------+--------+-----------------+--------------------+\n",
            "\n"
          ],
          "name": "stdout"
        }
      ]
    },
    {
      "cell_type": "code",
      "metadata": {
        "colab": {
          "base_uri": "https://localhost:8080/"
        },
        "id": "Om7QTeWCAe0A",
        "outputId": "61cfbd2b-ce93-45a8-a586-a3e25eccf266"
      },
      "source": [
        "# Filter data with seat belt violations\n",
        "df_task2 = df_task1.where(df_task1['Belts'] == 'Yes')\n",
        "\n",
        "count1 = df_task2.agg({\"Belts\":\"count\"})\n",
        "count1 = count1.withColumnRenamed(\"count(Belts)\",\"BeltViolationsCount\")\n",
        "\n",
        "df_task2.show()\n",
        "\n",
        "#counting number of occurrence\n",
        "x1 = df_task2.count()\n",
        "print (x1)\n",
        "\n",
        "#----------------------------------------------------------------------------------\n",
        "\n",
        "# Filter accidents with seat belt violations\n",
        "df_task3 = df_task2.where(df_task2['Contributed to Accident'] == 'Yes')\n",
        "\n",
        "count2 = df_task3.agg({\"Contributed to Accident\":\"count\"})\n",
        "count2 = count2.withColumnRenamed(\"count(Contributed to Accident)\",\"BeltViolationsAccidentsCount\")\n",
        "\n",
        "df_task3.show()\n",
        "\n",
        "#counting number of occurrence\n",
        "y1 = df_task3.count()\n",
        "print (y1)\n",
        "\n",
        "#-----------------------------------------------------------------------------------\n",
        "\n",
        "# Filter data related to alcohol\n",
        "df_task4 = df_task1.where(df_task2['Alcohol'] == 'Yes')\n",
        "\n",
        "count3 = df_task4.agg({\"Alcohol\":\"count\"})\n",
        "count3 = count3.withColumnRenamed(\"count(Alcohol)\",\"WithAlcoholCount\")\n",
        "\n",
        "df_task4.show()\n",
        "\n",
        "#counting number of occurrence\n",
        "x2 = df_task4.count()\n",
        "print (x2)\n",
        "\n",
        "\n",
        "#------------------------------------------------------------------------------------\n",
        "\n",
        "# Filter accidents with alcohol\n",
        "df_task5 = df_task4.where(df_task4['Contributed to Accident'] == 'Yes')\n",
        "\n",
        "count4 = df_task5.agg({\"Contributed to Accident\":\"count\"})\n",
        "count4 = count4.withColumnRenamed(\"count(Contributed to Accident)\",\"WithAlcoholAccidentsCount\")\n",
        "\n",
        "df_task5.show()\n",
        "\n",
        "#counting number of occurrence\n",
        "y2 = df_task5.count()\n",
        "print (y2)"
      ],
      "execution_count": 11,
      "outputs": [
        {
          "output_type": "stream",
          "text": [
            "+------------+------------+------+--------------------+--------------------+--------------------+-----------+------------+--------+-----+---------------+---------------+-----+------------------+------+------------------+-------+---------+-----+---------------+----+-----------+-------+-----+--------------+-----------+--------------------+-----------------------+--------+------+-------------+------------+--------+-----------------+--------------------+\n",
            "|Date Of Stop|Time Of Stop|Agency|           SubAgency|         Description|            Location|   Latitude|   Longitude|Accident|Belts|Personal Injury|Property Damage|Fatal|Commercial License|HAZMAT|Commercial Vehicle|Alcohol|Work Zone|State|    VehicleType|Year|       Make|  Model|Color|Violation Type|     Charge|             Article|Contributed To Accident|    Race|Gender|  Driver City|Driver State|DL State|      Arrest Type|         Geolocation|\n",
            "+------------+------------+------+--------------------+--------------------+--------------------+-----------+------------+--------+-----+---------------+---------------+-----+------------------+------+------------------+-------+---------+-----+---------------+----+-----------+-------+-----+--------------+-----------+--------------------+-----------------------+--------+------+-------------+------------+--------+-----------------+--------------------+\n",
            "|   8/28/2017|    23:41:00|   MCP|6th district, Gai...|FAILURE OF DR. TO...|355 @ SOUTH WESTL...|       null|        null|      No|  Yes|             No|             No|   No|                No|    No|                No|    Yes|       No|   MD|02 - Automobile|2015|MINI COOPER|     2S|WHITE|      Citation| 21-405(e1)|Transportation Ar...|                    Yes|   WHITE|     M| GAITHERSBURG|          MD|      MD|A - Marked Patrol|                null|\n",
            "|   8/27/2013|     0:55:00|   MCP|2nd district, Bet...|NEGLIGENT DRIVING...|CONNECTICUT/CHEVY...|       null|        null|      No|  Yes|             No|             No|   No|                No|    No|                No|    Yes|       No|   MD|02 - Automobile|2013|    HYUNDAI|ELANTRA| GRAY|      Citation|21-901.1(b)|Transportation Ar...|                    Yes|   WHITE|     F|SILVER SPRING|          MD|      MD|A - Marked Patrol|                null|\n",
            "|   10/8/2013|    13:23:00|   MCP|4th district, Whe...|DRIVING VEHICLE O...|GEORGIA AVE / BEL...|39.09338333|-77.07955167|      No|  Yes|             No|             No|   No|                No|    No|                No|     No|       No|   MD|02 - Automobile|1993|       FORD| PICKUP|BLACK|      Citation|  13-401(h)|Transportation Ar...|                     No|HISPANIC|     M|   BELTSVILLE|          MD|      MD|A - Marked Patrol|(39.0933833333333...|\n",
            "|   8/28/2017|    23:41:00|   MCP|6th district, Gai...|PERSON DRIVING MO...|355 @ SOUTH WESTL...|       null|        null|      No|  Yes|             No|             No|   No|                No|    No|                No|    Yes|       No|   MD|02 - Automobile|2015|MINI COOPER|     2S|WHITE|      Citation|  16-303(c)|Transportation Ar...|                     No|   WHITE|     M| GAITHERSBURG|          MD|      MD|A - Marked Patrol|                null|\n",
            "|  12/17/2015|    13:15:00|   MCP|5th district, Ger...|FAILURE TO RETURN...|19916 CRYSTAL ROC...|39.22279333|   -77.25369|      No|  Yes|             No|             No|   No|                No|    No|                No|    Yes|       No|   MD|02 - Automobile|2005|     TOYOTA|  CAMRY|BLACK|      Citation|  20-103(b)|Transportation Ar...|                     No|   BLACK|     M|    ROCKVILLE|          MD|      MD|A - Marked Patrol|(39.2227933333333...|\n",
            "+------------+------------+------+--------------------+--------------------+--------------------+-----------+------------+--------+-----+---------------+---------------+-----+------------------+------+------------------+-------+---------+-----+---------------+----+-----------+-------+-----+--------------+-----------+--------------------+-----------------------+--------+------+-------------+------------+--------+-----------------+--------------------+\n",
            "\n",
            "5\n",
            "+------------+------------+------+--------------------+--------------------+--------------------+--------+---------+--------+-----+---------------+---------------+-----+------------------+------+------------------+-------+---------+-----+---------------+----+-----------+-------+-----+--------------+-----------+--------------------+-----------------------+-----+------+-------------+------------+--------+-----------------+-----------+\n",
            "|Date Of Stop|Time Of Stop|Agency|           SubAgency|         Description|            Location|Latitude|Longitude|Accident|Belts|Personal Injury|Property Damage|Fatal|Commercial License|HAZMAT|Commercial Vehicle|Alcohol|Work Zone|State|    VehicleType|Year|       Make|  Model|Color|Violation Type|     Charge|             Article|Contributed To Accident| Race|Gender|  Driver City|Driver State|DL State|      Arrest Type|Geolocation|\n",
            "+------------+------------+------+--------------------+--------------------+--------------------+--------+---------+--------+-----+---------------+---------------+-----+------------------+------+------------------+-------+---------+-----+---------------+----+-----------+-------+-----+--------------+-----------+--------------------+-----------------------+-----+------+-------------+------------+--------+-----------------+-----------+\n",
            "|   8/28/2017|    23:41:00|   MCP|6th district, Gai...|FAILURE OF DR. TO...|355 @ SOUTH WESTL...|    null|     null|      No|  Yes|             No|             No|   No|                No|    No|                No|    Yes|       No|   MD|02 - Automobile|2015|MINI COOPER|     2S|WHITE|      Citation| 21-405(e1)|Transportation Ar...|                    Yes|WHITE|     M| GAITHERSBURG|          MD|      MD|A - Marked Patrol|       null|\n",
            "|   8/27/2013|     0:55:00|   MCP|2nd district, Bet...|NEGLIGENT DRIVING...|CONNECTICUT/CHEVY...|    null|     null|      No|  Yes|             No|             No|   No|                No|    No|                No|    Yes|       No|   MD|02 - Automobile|2013|    HYUNDAI|ELANTRA| GRAY|      Citation|21-901.1(b)|Transportation Ar...|                    Yes|WHITE|     F|SILVER SPRING|          MD|      MD|A - Marked Patrol|       null|\n",
            "+------------+------------+------+--------------------+--------------------+--------------------+--------+---------+--------+-----+---------------+---------------+-----+------------------+------+------------------+-------+---------+-----+---------------+----+-----------+-------+-----+--------------+-----------+--------------------+-----------------------+-----+------+-------------+------------+--------+-----------------+-----------+\n",
            "\n",
            "2\n",
            "+------------+------------+------+--------------------+--------------------+--------------------+-----------+------------+--------+-----+---------------+---------------+-----+------------------+------+------------------+-------+---------+-----+---------------+----+-----------+-------+-----+--------------+-----------+--------------------+-----------------------+-----+------+---------------+------------+--------+-----------------+--------------------+\n",
            "|Date Of Stop|Time Of Stop|Agency|           SubAgency|         Description|            Location|   Latitude|   Longitude|Accident|Belts|Personal Injury|Property Damage|Fatal|Commercial License|HAZMAT|Commercial Vehicle|Alcohol|Work Zone|State|    VehicleType|Year|       Make|  Model|Color|Violation Type|     Charge|             Article|Contributed To Accident| Race|Gender|    Driver City|Driver State|DL State|      Arrest Type|         Geolocation|\n",
            "+------------+------------+------+--------------------+--------------------+--------------------+-----------+------------+--------+-----+---------------+---------------+-----+------------------+------+------------------+-------+---------+-----+---------------+----+-----------+-------+-----+--------------+-----------+--------------------+-----------------------+-----+------+---------------+------------+--------+-----------------+--------------------+\n",
            "|   8/29/2017|     9:22:00|   MCP|3rd district, Sil...|FAILURE YIELD RIG...|CHERRY HILL RD./C...|  39.056975|-76.95463333|      No|   No|             No|            Yes|   No|                No|    No|                No|    Yes|       No|   MD|02 - Automobile|1998|       DODG| DAKOTA|WHITE|      Citation|  21-402(b)|Transportation Ar...|                    Yes|BLACK|     M|FORT WASHINGTON|          MD|      MD|A - Marked Patrol|(39.056975, -76.9...|\n",
            "|   8/28/2017|    23:41:00|   MCP|6th district, Gai...|FAILURE OF DR. TO...|355 @ SOUTH WESTL...|       null|        null|      No|  Yes|             No|             No|   No|                No|    No|                No|    Yes|       No|   MD|02 - Automobile|2015|MINI COOPER|     2S|WHITE|      Citation| 21-405(e1)|Transportation Ar...|                    Yes|WHITE|     M|   GAITHERSBURG|          MD|      MD|A - Marked Patrol|                null|\n",
            "|   8/27/2013|     0:55:00|   MCP|2nd district, Bet...|NEGLIGENT DRIVING...|CONNECTICUT/CHEVY...|       null|        null|      No|  Yes|             No|             No|   No|                No|    No|                No|    Yes|       No|   MD|02 - Automobile|2013|    HYUNDAI|ELANTRA| GRAY|      Citation|21-901.1(b)|Transportation Ar...|                    Yes|WHITE|     F|  SILVER SPRING|          MD|      MD|A - Marked Patrol|                null|\n",
            "|   8/28/2017|    23:41:00|   MCP|6th district, Gai...|PERSON DRIVING MO...|355 @ SOUTH WESTL...|       null|        null|      No|  Yes|             No|             No|   No|                No|    No|                No|    Yes|       No|   MD|02 - Automobile|2015|MINI COOPER|     2S|WHITE|      Citation|  16-303(c)|Transportation Ar...|                     No|WHITE|     M|   GAITHERSBURG|          MD|      MD|A - Marked Patrol|                null|\n",
            "|  12/17/2015|    13:15:00|   MCP|5th district, Ger...|FAILURE TO RETURN...|19916 CRYSTAL ROC...|39.22279333|   -77.25369|      No|  Yes|             No|             No|   No|                No|    No|                No|    Yes|       No|   MD|02 - Automobile|2005|     TOYOTA|  CAMRY|BLACK|      Citation|  20-103(b)|Transportation Ar...|                     No|BLACK|     M|      ROCKVILLE|          MD|      MD|A - Marked Patrol|(39.2227933333333...|\n",
            "+------------+------------+------+--------------------+--------------------+--------------------+-----------+------------+--------+-----+---------------+---------------+-----+------------------+------+------------------+-------+---------+-----+---------------+----+-----------+-------+-----+--------------+-----------+--------------------+-----------------------+-----+------+---------------+------------+--------+-----------------+--------------------+\n",
            "\n",
            "5\n",
            "+------------+------------+------+--------------------+--------------------+--------------------+---------+------------+--------+-----+---------------+---------------+-----+------------------+------+------------------+-------+---------+-----+---------------+----+-----------+-------+-----+--------------+-----------+--------------------+-----------------------+-----+------+---------------+------------+--------+-----------------+--------------------+\n",
            "|Date Of Stop|Time Of Stop|Agency|           SubAgency|         Description|            Location| Latitude|   Longitude|Accident|Belts|Personal Injury|Property Damage|Fatal|Commercial License|HAZMAT|Commercial Vehicle|Alcohol|Work Zone|State|    VehicleType|Year|       Make|  Model|Color|Violation Type|     Charge|             Article|Contributed To Accident| Race|Gender|    Driver City|Driver State|DL State|      Arrest Type|         Geolocation|\n",
            "+------------+------------+------+--------------------+--------------------+--------------------+---------+------------+--------+-----+---------------+---------------+-----+------------------+------+------------------+-------+---------+-----+---------------+----+-----------+-------+-----+--------------+-----------+--------------------+-----------------------+-----+------+---------------+------------+--------+-----------------+--------------------+\n",
            "|   8/29/2017|     9:22:00|   MCP|3rd district, Sil...|FAILURE YIELD RIG...|CHERRY HILL RD./C...|39.056975|-76.95463333|      No|   No|             No|            Yes|   No|                No|    No|                No|    Yes|       No|   MD|02 - Automobile|1998|       DODG| DAKOTA|WHITE|      Citation|  21-402(b)|Transportation Ar...|                    Yes|BLACK|     M|FORT WASHINGTON|          MD|      MD|A - Marked Patrol|(39.056975, -76.9...|\n",
            "|   8/28/2017|    23:41:00|   MCP|6th district, Gai...|FAILURE OF DR. TO...|355 @ SOUTH WESTL...|     null|        null|      No|  Yes|             No|             No|   No|                No|    No|                No|    Yes|       No|   MD|02 - Automobile|2015|MINI COOPER|     2S|WHITE|      Citation| 21-405(e1)|Transportation Ar...|                    Yes|WHITE|     M|   GAITHERSBURG|          MD|      MD|A - Marked Patrol|                null|\n",
            "|   8/27/2013|     0:55:00|   MCP|2nd district, Bet...|NEGLIGENT DRIVING...|CONNECTICUT/CHEVY...|     null|        null|      No|  Yes|             No|             No|   No|                No|    No|                No|    Yes|       No|   MD|02 - Automobile|2013|    HYUNDAI|ELANTRA| GRAY|      Citation|21-901.1(b)|Transportation Ar...|                    Yes|WHITE|     F|  SILVER SPRING|          MD|      MD|A - Marked Patrol|                null|\n",
            "+------------+------------+------+--------------------+--------------------+--------------------+---------+------------+--------+-----+---------------+---------------+-----+------------------+------+------------------+-------+---------+-----+---------------+----+-----------+-------+-----+--------------+-----------+--------------------+-----------------------+-----+------+---------------+------------+--------+-----------------+--------------------+\n",
            "\n",
            "3\n"
          ],
          "name": "stdout"
        }
      ]
    },
    {
      "cell_type": "code",
      "metadata": {
        "colab": {
          "base_uri": "https://localhost:8080/"
        },
        "id": "Xmhj8oe6CT55",
        "outputId": "1d548c62-45b3-44ab-f71a-c2bcbdf825eb"
      },
      "source": [
        "#find probabilities\n",
        "\n",
        "#probability of causing accidents with seat belt violations(p1) = count2/count1\n",
        "\n",
        "p1 = (y1/x1)\n",
        "print (\"Probability of causing accidents with seat belt violations = \",p1)\n",
        "\n",
        "#probability of causing accidents with alcohol(p2) = count4/count3\n",
        "\n",
        "p2 = (y2/x2)\n",
        "print (\"Probability of causing accidents with alcohol = \",p2)"
      ],
      "execution_count": 21,
      "outputs": [
        {
          "output_type": "stream",
          "text": [
            "Probability of causing accidents with seat belt violations =  0.4\n",
            "Probability of causing accidents with alcohol =  0.6\n"
          ],
          "name": "stdout"
        }
      ]
    }
  ]
}