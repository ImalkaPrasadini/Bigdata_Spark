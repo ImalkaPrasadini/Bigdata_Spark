{
  "nbformat": 4,
  "nbformat_minor": 0,
  "metadata": {
    "colab": {
      "name": "Project_spark.ipynb",
      "provenance": [],
      "collapsed_sections": [],
      "toc_visible": true,
      "include_colab_link": true
    },
    "kernelspec": {
      "name": "python3",
      "display_name": "Python 3"
    },
    "language_info": {
      "name": "python"
    }
  },
  "cells": [
    {
      "cell_type": "markdown",
      "metadata": {
        "id": "view-in-github",
        "colab_type": "text"
      },
      "source": [
        "<a href=\"https://colab.research.google.com/github/ImalkaPrasadini/Bigdata_Spark/blob/main/Project_spark.ipynb\" target=\"_parent\"><img src=\"https://colab.research.google.com/assets/colab-badge.svg\" alt=\"Open In Colab\"/></a>"
      ]
    },
    {
      "cell_type": "code",
      "metadata": {
        "id": "Rk2B0-Je9j1a"
      },
      "source": [
        "# import os,sys\n",
        "# from google.colab import drive\n",
        "# drive.mount('/content/MyDrive')\n",
        "# nb_path = '/content/notebooks'\n",
        "# os.symlink('/content/MyDrive/My Notebooks/Colab Notebooks', nb_path)\n",
        "# sys.path.insert(0,nb_path)"
      ],
      "execution_count": 1,
      "outputs": []
    },
    {
      "cell_type": "markdown",
      "metadata": {
        "id": "YUkU46hgjwzb"
      },
      "source": [
        "# **Download Java**"
      ]
    },
    {
      "cell_type": "code",
      "metadata": {
        "id": "m62q-s5Ijn3y"
      },
      "source": [
        "!apt-get install openjdk-8-jdk-headless -qq > /dev/null"
      ],
      "execution_count": 2,
      "outputs": []
    },
    {
      "cell_type": "markdown",
      "metadata": {
        "id": "ZRCfA50Tj6Np"
      },
      "source": [
        "#  **Install Apache Spark 3.0.1 with Hadoop 2.7**"
      ]
    },
    {
      "cell_type": "code",
      "metadata": {
        "id": "SRNwF-yfkHeH"
      },
      "source": [
        "!wget -q https://www-us.apache.org/dist/spark/spark-3.1.1/spark-3.1.1-bin-hadoop3.2.tgz"
      ],
      "execution_count": 3,
      "outputs": []
    },
    {
      "cell_type": "markdown",
      "metadata": {
        "id": "onDq9E36kWSA"
      },
      "source": [
        "# **Unzip Folder**"
      ]
    },
    {
      "cell_type": "code",
      "metadata": {
        "id": "Zj2wWWZokWzQ"
      },
      "source": [
        "!tar xf spark-3.1.1-bin-hadoop3.2.tgz"
      ],
      "execution_count": 4,
      "outputs": []
    },
    {
      "cell_type": "markdown",
      "metadata": {
        "id": "NQX7PU0RkcTl"
      },
      "source": [
        "# **Install Find Spark**\n",
        "\n",
        "> It will locate Spark on the system and import it as a regular library.\n",
        "\n"
      ]
    },
    {
      "cell_type": "code",
      "metadata": {
        "id": "J6L2qUc8kted"
      },
      "source": [
        "!pip install -q findspark"
      ],
      "execution_count": 5,
      "outputs": []
    },
    {
      "cell_type": "markdown",
      "metadata": {
        "id": "sVEPWRKAkxJu"
      },
      "source": [
        "# **Settin up Envirnmental Variables**\n",
        "\n",
        "\n",
        "> This will enable us to run Pyspark in the Colab environment.\n",
        "\n"
      ]
    },
    {
      "cell_type": "code",
      "metadata": {
        "id": "YXIAHRsNk9-9"
      },
      "source": [
        "import os\n",
        "os.environ[\"JAVA_HOME\"] = \"/usr/lib/jvm/java-8-openjdk-amd64\"\n",
        "os.environ[\"SPARK_HOME\"] = \"/content/spark-3.1.1-bin-hadoop3.2\""
      ],
      "execution_count": 6,
      "outputs": []
    },
    {
      "cell_type": "code",
      "metadata": {
        "id": "ioxD5Lbxlm88"
      },
      "source": [
        "import findspark\n",
        "findspark.init()"
      ],
      "execution_count": 7,
      "outputs": []
    },
    {
      "cell_type": "code",
      "metadata": {
        "colab": {
          "base_uri": "https://localhost:8080/",
          "height": 35
        },
        "id": "_8m98oO-lxYT",
        "outputId": "0a813bef-6fa1-4b52-8099-5811911c39cf"
      },
      "source": [
        "findspark.find()"
      ],
      "execution_count": 9,
      "outputs": [
        {
          "output_type": "execute_result",
          "data": {
            "application/vnd.google.colaboratory.intrinsic+json": {
              "type": "string"
            },
            "text/plain": [
              "'/content/spark-3.1.1-bin-hadoop3.2'"
            ]
          },
          "metadata": {
            "tags": []
          },
          "execution_count": 9
        }
      ]
    },
    {
      "cell_type": "markdown",
      "metadata": {
        "id": "uxQmsXytmBVK"
      },
      "source": [
        "# **Loading data to PySpark**"
      ]
    },
    {
      "cell_type": "code",
      "metadata": {
        "id": "FfN1YMdznXCc"
      },
      "source": [
        "import pandas as pd\n",
        "import numpy as np\n",
        "import matplotlib.pyplot as plt\n",
        "from pyspark.sql import SparkSession\n",
        "spark = SparkSession.builder.master(\"local[*]\").getOrCreate()\n",
        "import pyspark.sql.functions as f"
      ],
      "execution_count": 10,
      "outputs": []
    },
    {
      "cell_type": "markdown",
      "metadata": {
        "id": "SBbpq8AXbCuW"
      },
      "source": [
        "**TASK 06 : The number of accidents which occur due to traffic violations based on vehicle type.** "
      ]
    },
    {
      "cell_type": "code",
      "metadata": {
        "colab": {
          "base_uri": "https://localhost:8080/"
        },
        "id": "i56vrPa-mIcC",
        "outputId": "134fcec8-30d2-4a8d-ba6d-15ed2177eabe"
      },
      "source": [
        "# Load data to Task 06.\n",
        "df_task1 = spark.read.csv('/content/sample_data/tf.csv',header=True)\n",
        "df_task1.show()"
      ],
      "execution_count": 11,
      "outputs": [
        {
          "output_type": "stream",
          "text": [
            "+------------+------------+------+--------------------+--------------------+--------------------+-----------+------------+--------+-----+---------------+---------------+-----+------------------+------+------------------+-------+---------+-----+--------------------+----+----------+----------+----------+--------------+----------+--------------------+-----------------------+--------+------+------------------+------------+--------+--------------------+--------------------+\n",
            "|Date Of Stop|Time Of Stop|Agency|           SubAgency|         Description|            Location|   Latitude|   Longitude|Accident|Belts|Personal Injury|Property Damage|Fatal|Commercial License|HAZMAT|Commercial Vehicle|Alcohol|Work Zone|State|         VehicleType|Year|      Make|     Model|     Color|Violation Type|    Charge|             Article|Contributed To Accident|    Race|Gender|       Driver City|Driver State|DL State|         Arrest Type|         Geolocation|\n",
            "+------------+------------+------+--------------------+--------------------+--------------------+-----------+------------+--------+-----+---------------+---------------+-----+------------------+------+------------------+-------+---------+-----+--------------------+----+----------+----------+----------+--------------+----------+--------------------+-----------------------+--------+------+------------------+------------+--------+--------------------+--------------------+\n",
            "|   5/27/2013|    14:13:00|   MCP|6th district, Gai...|EXCEEDING MAXIMUM...|NB 270 / MUDDY BR...|39.09845263| -77.2045743|      No|   No|             No|             No|   No|                No|    No|                No|     No|       No|   MD|08 - Recreational...|2012|      JEEP|       4X4|      GRAY|      Citation|  21-801.1|Transportation Ar...|                    Yes|   WHITE|     F|        NEW MARKET|          MD|      MD|   A - Marked Patrol|(39.0984526333333...|\n",
            "|   5/25/2012|    10:39:00|   MCP|3rd district, Sil...|DRIVER FAILURE TO...|SB BROADBIRCH DR/...|39.05591057|-76.95796452|      No|   No|             No|             No|   No|                No|    No|                No|     No|       No|   MD|     02 - Automobile|2008|      FORD|      F150|BLUE, DARK|      Citation| 21-707(a)|Transportation Ar...|                     No|   WHITE|     M|          GLEN ARM|          MD|      MD|   A - Marked Patrol|(39.0559105666667...|\n",
            "|   12/6/2012|    13:07:00|   MCP|4th district, Whe...|FAILURE OF LICENS...|E/B RT 108 AT PRI...|39.14921818|-77.05659182|      No|   No|             No|             No|   No|                No|    No|                No|     No|       No|   MD|     02 - Automobile|2008|      TOYT|     RAV 4|     GREEN|      Citation| 16-116(a)|Transportation Ar...|                     No|   ASIAN|     M|           AMHERST|          NY|      NY|   A - Marked Patrol|(39.1492181833333...|\n",
            "|  11/15/2012|     9:50:00|   MCP|6th district, Gai...|DRIVING VEHICLE O...|SHADY FROVE RD & ...|39.12860635|-77.16914518|      No|   No|             No|             No|   No|                No|    No|                No|     No|       No|   MD|     02 - Automobile|2004|MITSUBISHI|   GALLANT|     WHITE|      Citation| 13-411(d)|Transportation Ar...|                     No|   WHITE|     M|        GERMANTOWN|          MD|      MD|   A - Marked Patrol|(39.12860635, -77...|\n",
            "|   8/28/2017|    23:14:00|   MCP|4th district, Whe...|DISPLAY SUSPENDED...|NEW HAMPSHIRE AVE...|39.06993667|-77.00309167|      No|   No|             No|             No|   No|                No|    No|                No|     No|       No|   MD|     02 - Automobile|2006|  MERCEDEZ|       SUV|     BLACK|      Citation| 16-301(e)|Transportation Ar...|                     No|   BLACK|     M|     SILVER SPRING|          MD|      MD|   A - Marked Patrol|(39.0699366666667...|\n",
            "|   8/29/2017|     5:21:00|   MCP|4th district, Whe...|FAILURE VEH. TO Y...|NEW HAMPSHIRE AVE...|39.13568167|-76.99487833|      No|   No|             No|             No|   No|                No|    No|                No|     No|       No|   MD|     02 - Automobile|2001|      FORD|  EXPLORER|     BLACK|      Citation|    21-401|Transportation Ar...|                     No|HISPANIC|     M|         ROCKVILLE|          MD|      MD|   A - Marked Patrol|(39.1356816666667...|\n",
            "|   8/28/2017|    23:13:00|   MCP|6th district, Gai...|EXCEEDING POSTED ...|LOST KNIFE RD. @ ...|39.15785333|  -77.204095|      No|   No|             No|             No|   No|                No|    No|                No|     No|       No|   MD|     02 - Automobile|2003|      FORD| EXCURSION|      BLUE|      Citation|  21-801.1|Transportation Ar...|                     No|HISPANIC|     F|        GERMANTOWN|          MD|      MD|   A - Marked Patrol|(39.1578533333333...|\n",
            "|   8/28/2017|    22:56:00|   MCP|4th district, Whe...|DRIVER FAILURE TO...|GEORGIA AVE/PLYER...|39.03006167|-77.04812667|      No|   No|             No|             No|   No|                No|    No|                No|     No|       No|   MD|     02 - Automobile|2002|     HONDA|     CIVIC|     BLACK|      Citation|21-201(a1)|Transportation Ar...|                     No|   WHITE|     F|         ROCKVILLE|          MD|      MD|   A - Marked Patrol|(39.0300616666667...|\n",
            "|   10/1/2013|     6:51:00|   MCP|4th district, Whe...|FAILURE TO CONTRO...|GEORGIA AVE/HEWIT...|       null|        null|      No|   No|            Yes|             No|   No|                No|    No|                No|     No|       No|   XX|          19 - Moped|2012|     SUNNY|    NINGBO|       RED|      Citation| 21-801(b)|Transportation Ar...|                     No|HISPANIC|     M|     SILVER SPRING|          MD|      XX|   A - Marked Patrol|                null|\n",
            "|   8/29/2017|     0:27:00|   MCP|3rd district, Sil...|DRIVING VEHICLE W...|NB COLUMBIA PIKE ...|39.08277453|-76.94840312|      No|   No|             No|             No|   No|                No|    No|                No|     No|       No|   MD|     02 - Automobile|2000|      FORD|EXPEDITION|       TAN|      Citation|21-902(a1)|Transportation Ar...|                     No|   BLACK|     F|        ASPEN HILL|          MD|      MD|   A - Marked Patrol|(39.0827745274131...|\n",
            "|   8/29/2017|     0:27:00|   MCP|3rd district, Sil...|DRIVING WHILE IMP...|NB COLUMBIA PIKE ...|39.08277453|-76.94840312|      No|   No|             No|             No|   No|                No|    No|                No|     No|       No|   MD|     02 - Automobile|2000|      FORD|EXPEDITION|       TAN|      Citation|21-902(b1)|Transportation Ar...|                     No|   BLACK|     F|        ASPEN HILL|          MD|      MD|   A - Marked Patrol|(39.0827745274131...|\n",
            "|   2/24/2015|     8:22:00|   MCP|3rd district, Sil...|UNSAFE BACKING OF...|  10009 RENFREW ROAD|39.01976833|-77.02402833|      No|   No|             No|             No|   No|                No|    No|                No|     No|       No|   MD|05 - Light Duty T...|2007|   LINCOLN|   MARK LT|     CREAM|      Citation|21-1102(a)|Transportation Ar...|                     No|   WHITE|     M|     SILVER SPRING|          MD|      MD|   A - Marked Patrol|(39.0197683333333...|\n",
            "|    5/2/2014|    22:43:00|   MCP|Headquarters and ...|FAILURE TO DISPLA...|FLOWER AVE @ DOME...|38.99666667|-77.00316833|      No|   No|             No|             No|   No|                No|    No|                No|     No|       No|   MD|     02 - Automobile|1996|      HOND|     CIVIC|     WHITE|      Citation| 22-226(a)|Transportation Ar...|                     No|HISPANIC|     M|       HYATTSVILLE|          MD|      MD| B - Unmarked Patrol|(38.9966666666667...|\n",
            "|   4/22/2013|    17:03:00|   MCP|6th district, Gai...|DRIVING MOTOR VEH...|MONTGOMERY VILLAG...|39.16554797|-77.20489015|      No|   No|             No|             No|   No|                No|    No|                No|     No|       No|   MD|     02 - Automobile|2001|    TOYOTA|     RAV 4|      BLUE|      Citation| 16-101(a)|Transportation Ar...|                     No|   BLACK|     F|MONTGOMERY VILLAGE|          MD|      MD|   A - Marked Patrol|(39.1655479666667...|\n",
            "|    2/9/2013|    11:59:00|   MCP|4th district, Whe...|DRIVER FAILURE TO...|REEDIE DR/FERN ST...|39.03959352|-77.04856972|      No|   No|             No|             No|   No|                No|    No|                No|     No|       No|   MD|     02 - Automobile|1997|      FORD|  EXPLORER|       RED|      Citation|21-201(a1)|Transportation Ar...|                     No|HISPANIC|     F|     SILVER SPRING|          MD|      MD|   A - Marked Patrol|(39.0395935166667...|\n",
            "|   11/8/2013|    22:44:00|   MCP|6th district, Gai...|PERSON DRIVING MO...|        WISTERIA/118|       null|        null|      No|   No|             No|             No|   No|                No|    No|                No|     No|       No|   MD|     02 - Automobile|2001|      CHRY|   SEBRING|    SILVER|      Citation| 16-303(c)|Transportation Ar...|                     No|   BLACK|     F|      GAITHERSBURG|          MD|      MD|M - Marked (Off-D...|                null|\n",
            "|   6/25/2013|    20:24:00|   MCP|6th district, Gai...|WILLFULLY DISOBEY...|MONTGOMERY VILLAG...|       null|        null|      No|   No|             No|             No|   No|                No|    No|                No|     No|       No|   MD|     02 - Automobile|2002|      INFI|       G35|    SILVER|      Citation| 21-103(a)|Transportation Ar...|                     No|HISPANIC|     F|      GAITHERSBURG|          MD|      MD|   A - Marked Patrol|                null|\n",
            "|   5/24/2012|     0:12:00|   MCP|1st district, Roc...|DRIVING WHILE IMP...|OLD GEORGETOWN RD...|38.99336132|-77.10846417|      No|   No|             No|             No|   No|                No|    No|                No|     No|       No|   MD|     02 - Automobile|2000|    SUBARU|   OUTBACK|     WHITE|      Citation|21-902(b1)|Transportation Ar...|                     No|   WHITE|     M|          BETHESDA|          MD|      MD|    Q - Marked Laser|(38.9933613166667...|\n",
            "|   9/15/2012|    21:56:00|   MCP|5th district, Ger...|DRIVING, MOTOR VE...|FREDERICK RD @ GE...|39.19379768|-77.24335883|      No|   No|             No|             No|   No|                No|    No|                No|     No|       No|   MD|     02 - Automobile|1998|    TOYOTA|     CAMRY|     WHITE|      Citation| 16-101(a)|Transportation Ar...|                     No|   BLACK|     M|        GERMANTOWN|          MD|      MD|   A - Marked Patrol|(39.1937976833333...|\n",
            "|   8/29/2017|     0:27:00|   MCP|3rd district, Sil...|DRIVING WRONG WAY...|NB COLUMBIA PIKE ...|39.08277453|-76.94840312|      No|   No|             No|             No|   No|                No|    No|                No|     No|       No|   MD|     02 - Automobile|2000|      FORD|EXPEDITION|       TAN|      Citation| 21-308(a)|Transportation Ar...|                     No|   BLACK|     F|        ASPEN HILL|          MD|      MD|   A - Marked Patrol|(39.0827745274131...|\n",
            "+------------+------------+------+--------------------+--------------------+--------------------+-----------+------------+--------+-----+---------------+---------------+-----+------------------+------+------------------+-------+---------+-----+--------------------+----+----------+----------+----------+--------------+----------+--------------------+-----------------------+--------+------+------------------+------------+--------+--------------------+--------------------+\n",
            "only showing top 20 rows\n",
            "\n"
          ],
          "name": "stdout"
        }
      ]
    },
    {
      "cell_type": "markdown",
      "metadata": {
        "id": "rysvNcGc-u1F"
      },
      "source": [
        "**Schema of DataFrame**\n",
        "\n",
        "Shows data type and the nullable conditions for that particular column."
      ]
    },
    {
      "cell_type": "code",
      "metadata": {
        "colab": {
          "base_uri": "https://localhost:8080/"
        },
        "id": "qa0nA0h_-lpo",
        "outputId": "19519587-1c34-4e89-d00c-28a37fc40b17"
      },
      "source": [
        "df_task1.printSchema()"
      ],
      "execution_count": 12,
      "outputs": [
        {
          "output_type": "stream",
          "text": [
            "root\n",
            " |-- Date Of Stop: string (nullable = true)\n",
            " |-- Time Of Stop: string (nullable = true)\n",
            " |-- Agency: string (nullable = true)\n",
            " |-- SubAgency: string (nullable = true)\n",
            " |-- Description: string (nullable = true)\n",
            " |-- Location: string (nullable = true)\n",
            " |-- Latitude: string (nullable = true)\n",
            " |-- Longitude: string (nullable = true)\n",
            " |-- Accident: string (nullable = true)\n",
            " |-- Belts: string (nullable = true)\n",
            " |-- Personal Injury: string (nullable = true)\n",
            " |-- Property Damage: string (nullable = true)\n",
            " |-- Fatal: string (nullable = true)\n",
            " |-- Commercial License: string (nullable = true)\n",
            " |-- HAZMAT: string (nullable = true)\n",
            " |-- Commercial Vehicle: string (nullable = true)\n",
            " |-- Alcohol: string (nullable = true)\n",
            " |-- Work Zone: string (nullable = true)\n",
            " |-- State: string (nullable = true)\n",
            " |-- VehicleType: string (nullable = true)\n",
            " |-- Year: string (nullable = true)\n",
            " |-- Make: string (nullable = true)\n",
            " |-- Model: string (nullable = true)\n",
            " |-- Color: string (nullable = true)\n",
            " |-- Violation Type: string (nullable = true)\n",
            " |-- Charge: string (nullable = true)\n",
            " |-- Article: string (nullable = true)\n",
            " |-- Contributed To Accident: string (nullable = true)\n",
            " |-- Race: string (nullable = true)\n",
            " |-- Gender: string (nullable = true)\n",
            " |-- Driver City: string (nullable = true)\n",
            " |-- Driver State: string (nullable = true)\n",
            " |-- DL State: string (nullable = true)\n",
            " |-- Arrest Type: string (nullable = true)\n",
            " |-- Geolocation: string (nullable = true)\n",
            "\n"
          ],
          "name": "stdout"
        }
      ]
    },
    {
      "cell_type": "markdown",
      "metadata": {
        "id": "JfGtAdFQ_A1P"
      },
      "source": [
        "**Describing a Particular**\n",
        "\n",
        "Summary of any particular column of a DataFrame.Gives statistical summary of the given column, if not specified, it provides the statistical summary of the DataFrame."
      ]
    },
    {
      "cell_type": "code",
      "metadata": {
        "colab": {
          "base_uri": "https://localhost:8080/"
        },
        "id": "thwsDEUz_ws5",
        "outputId": "123888ed-fd57-4f6a-fffa-33669d6e0853"
      },
      "source": [
        "df_task1.describe().show()\n",
        "#fifa_df.describe('Position').show()"
      ],
      "execution_count": 13,
      "outputs": [
        {
          "output_type": "stream",
          "text": [
            "+-------+------------+------------+------+--------------------+--------------------+------------------+------------------+------------------+--------+-----+---------------+---------------+-----+------------------+------+------------------+-------+---------+-----+---------------+------------------+----+-----+-----+--------------+---------+--------------------+-----------------------+-----+------+------------+------------+--------+-----------------+--------------------+\n",
            "|summary|Date Of Stop|Time Of Stop|Agency|           SubAgency|         Description|          Location|          Latitude|         Longitude|Accident|Belts|Personal Injury|Property Damage|Fatal|Commercial License|HAZMAT|Commercial Vehicle|Alcohol|Work Zone|State|    VehicleType|              Year|Make|Model|Color|Violation Type|   Charge|             Article|Contributed To Accident| Race|Gender| Driver City|Driver State|DL State|      Arrest Type|         Geolocation|\n",
            "+-------+------------+------------+------+--------------------+--------------------+------------------+------------------+------------------+--------+-----+---------------+---------------+-----+------------------+------+------------------+-------+---------+-----+---------------+------------------+----+-----+-----+--------------+---------+--------------------+-----------------------+-----+------+------------+------------+--------+-----------------+--------------------+\n",
            "|  count|          27|          27|    27|                  27|                  27|                27|                24|                24|      27|   27|             27|             27|   27|                27|    27|                27|     27|       27|   27|             27|                27|  27|   27|   27|            27|       27|                  27|                     27|   27|    27|          27|          27|      27|               27|                  24|\n",
            "|   mean|        null|        null|  null|                null|                null|              null| 39.09381999166667|-77.07366351416665|    null| null|           null|           null| null|              null|  null|              null|   null|     null| null|           null|2003.2592592592594|null|  2.0| null|          null|     null|                null|                   null| null|  null|        null|        null|    null|             null|                null|\n",
            "| stddev|        null|        null|  null|                null|                null|              null|0.0657877812717109|0.1064957202002003|    null| null|           null|           null| null|              null|  null|              null|   null|     null| null|           null| 4.719783181074418|null| null| null|          null|     null|                null|                   null| null|  null|        null|        null|    null|             null|                null|\n",
            "|    min|   10/1/2013|     0:12:00|   MCP|1st district, Roc...|DISPLAY SUSPENDED...|10009 RENFREW ROAD|          38.98998|      -76.94840312|      No|   No|             No|             No|   No|                No|    No|                No|     No|       No|   MD|02 - Automobile|              1996|CHRY|    2|BLACK|      Citation|13-411(d)|Transportation Ar...|                     No|ASIAN|     F|     AMHERST|          MD|      MD|A - Marked Patrol|(38.98998, -77.09...|\n",
            "|    max|   9/18/2015|     9:50:00|   MCP|Headquarters and ...|WILLFULLY DISOBEY...|      WISTERIA/118|       39.25393167|      -77.24335883|      No|   No|            Yes|             No|   No|                No|    No|                No|     No|       No|   XX|     19 - Moped|              2012|TOYT|YUKON|WHITE|      Citation|22-226(a)|Transportation Ar...|                    Yes|WHITE|     M|TEMPLE HILLS|          NY|      XX| Q - Marked Laser|(39.2539316666667...|\n",
            "+-------+------------+------------+------+--------------------+--------------------+------------------+------------------+------------------+--------+-----+---------------+---------------+-----+------------------+------+------------------+-------+---------+-----+---------------+------------------+----+-----+-----+--------------+---------+--------------------+-----------------------+-----+------+------------+------------+--------+-----------------+--------------------+\n",
            "\n"
          ],
          "name": "stdout"
        }
      ]
    },
    {
      "cell_type": "code",
      "metadata": {
        "colab": {
          "base_uri": "https://localhost:8080/"
        },
        "id": "GxMPwVRsGiWV",
        "outputId": "f1c83728-dc38-4430-8463-5b9f4e52c1d3"
      },
      "source": [
        "# Remove null values\n",
        "df_task1.dropna(subset=[\"VehicleType\"])\n",
        "\n",
        "df_task1.show()"
      ],
      "execution_count": 14,
      "outputs": [
        {
          "output_type": "stream",
          "text": [
            "+------------+------------+------+--------------------+--------------------+--------------------+-----------+------------+--------+-----+---------------+---------------+-----+------------------+------+------------------+-------+---------+-----+--------------------+----+----------+----------+----------+--------------+----------+--------------------+-----------------------+--------+------+------------------+------------+--------+--------------------+--------------------+\n",
            "|Date Of Stop|Time Of Stop|Agency|           SubAgency|         Description|            Location|   Latitude|   Longitude|Accident|Belts|Personal Injury|Property Damage|Fatal|Commercial License|HAZMAT|Commercial Vehicle|Alcohol|Work Zone|State|         VehicleType|Year|      Make|     Model|     Color|Violation Type|    Charge|             Article|Contributed To Accident|    Race|Gender|       Driver City|Driver State|DL State|         Arrest Type|         Geolocation|\n",
            "+------------+------------+------+--------------------+--------------------+--------------------+-----------+------------+--------+-----+---------------+---------------+-----+------------------+------+------------------+-------+---------+-----+--------------------+----+----------+----------+----------+--------------+----------+--------------------+-----------------------+--------+------+------------------+------------+--------+--------------------+--------------------+\n",
            "|   5/27/2013|    14:13:00|   MCP|6th district, Gai...|EXCEEDING MAXIMUM...|NB 270 / MUDDY BR...|39.09845263| -77.2045743|      No|   No|             No|             No|   No|                No|    No|                No|     No|       No|   MD|08 - Recreational...|2012|      JEEP|       4X4|      GRAY|      Citation|  21-801.1|Transportation Ar...|                    Yes|   WHITE|     F|        NEW MARKET|          MD|      MD|   A - Marked Patrol|(39.0984526333333...|\n",
            "|   5/25/2012|    10:39:00|   MCP|3rd district, Sil...|DRIVER FAILURE TO...|SB BROADBIRCH DR/...|39.05591057|-76.95796452|      No|   No|             No|             No|   No|                No|    No|                No|     No|       No|   MD|     02 - Automobile|2008|      FORD|      F150|BLUE, DARK|      Citation| 21-707(a)|Transportation Ar...|                     No|   WHITE|     M|          GLEN ARM|          MD|      MD|   A - Marked Patrol|(39.0559105666667...|\n",
            "|   12/6/2012|    13:07:00|   MCP|4th district, Whe...|FAILURE OF LICENS...|E/B RT 108 AT PRI...|39.14921818|-77.05659182|      No|   No|             No|             No|   No|                No|    No|                No|     No|       No|   MD|     02 - Automobile|2008|      TOYT|     RAV 4|     GREEN|      Citation| 16-116(a)|Transportation Ar...|                     No|   ASIAN|     M|           AMHERST|          NY|      NY|   A - Marked Patrol|(39.1492181833333...|\n",
            "|  11/15/2012|     9:50:00|   MCP|6th district, Gai...|DRIVING VEHICLE O...|SHADY FROVE RD & ...|39.12860635|-77.16914518|      No|   No|             No|             No|   No|                No|    No|                No|     No|       No|   MD|     02 - Automobile|2004|MITSUBISHI|   GALLANT|     WHITE|      Citation| 13-411(d)|Transportation Ar...|                     No|   WHITE|     M|        GERMANTOWN|          MD|      MD|   A - Marked Patrol|(39.12860635, -77...|\n",
            "|   8/28/2017|    23:14:00|   MCP|4th district, Whe...|DISPLAY SUSPENDED...|NEW HAMPSHIRE AVE...|39.06993667|-77.00309167|      No|   No|             No|             No|   No|                No|    No|                No|     No|       No|   MD|     02 - Automobile|2006|  MERCEDEZ|       SUV|     BLACK|      Citation| 16-301(e)|Transportation Ar...|                     No|   BLACK|     M|     SILVER SPRING|          MD|      MD|   A - Marked Patrol|(39.0699366666667...|\n",
            "|   8/29/2017|     5:21:00|   MCP|4th district, Whe...|FAILURE VEH. TO Y...|NEW HAMPSHIRE AVE...|39.13568167|-76.99487833|      No|   No|             No|             No|   No|                No|    No|                No|     No|       No|   MD|     02 - Automobile|2001|      FORD|  EXPLORER|     BLACK|      Citation|    21-401|Transportation Ar...|                     No|HISPANIC|     M|         ROCKVILLE|          MD|      MD|   A - Marked Patrol|(39.1356816666667...|\n",
            "|   8/28/2017|    23:13:00|   MCP|6th district, Gai...|EXCEEDING POSTED ...|LOST KNIFE RD. @ ...|39.15785333|  -77.204095|      No|   No|             No|             No|   No|                No|    No|                No|     No|       No|   MD|     02 - Automobile|2003|      FORD| EXCURSION|      BLUE|      Citation|  21-801.1|Transportation Ar...|                     No|HISPANIC|     F|        GERMANTOWN|          MD|      MD|   A - Marked Patrol|(39.1578533333333...|\n",
            "|   8/28/2017|    22:56:00|   MCP|4th district, Whe...|DRIVER FAILURE TO...|GEORGIA AVE/PLYER...|39.03006167|-77.04812667|      No|   No|             No|             No|   No|                No|    No|                No|     No|       No|   MD|     02 - Automobile|2002|     HONDA|     CIVIC|     BLACK|      Citation|21-201(a1)|Transportation Ar...|                     No|   WHITE|     F|         ROCKVILLE|          MD|      MD|   A - Marked Patrol|(39.0300616666667...|\n",
            "|   10/1/2013|     6:51:00|   MCP|4th district, Whe...|FAILURE TO CONTRO...|GEORGIA AVE/HEWIT...|       null|        null|      No|   No|            Yes|             No|   No|                No|    No|                No|     No|       No|   XX|          19 - Moped|2012|     SUNNY|    NINGBO|       RED|      Citation| 21-801(b)|Transportation Ar...|                     No|HISPANIC|     M|     SILVER SPRING|          MD|      XX|   A - Marked Patrol|                null|\n",
            "|   8/29/2017|     0:27:00|   MCP|3rd district, Sil...|DRIVING VEHICLE W...|NB COLUMBIA PIKE ...|39.08277453|-76.94840312|      No|   No|             No|             No|   No|                No|    No|                No|     No|       No|   MD|     02 - Automobile|2000|      FORD|EXPEDITION|       TAN|      Citation|21-902(a1)|Transportation Ar...|                     No|   BLACK|     F|        ASPEN HILL|          MD|      MD|   A - Marked Patrol|(39.0827745274131...|\n",
            "|   8/29/2017|     0:27:00|   MCP|3rd district, Sil...|DRIVING WHILE IMP...|NB COLUMBIA PIKE ...|39.08277453|-76.94840312|      No|   No|             No|             No|   No|                No|    No|                No|     No|       No|   MD|     02 - Automobile|2000|      FORD|EXPEDITION|       TAN|      Citation|21-902(b1)|Transportation Ar...|                     No|   BLACK|     F|        ASPEN HILL|          MD|      MD|   A - Marked Patrol|(39.0827745274131...|\n",
            "|   2/24/2015|     8:22:00|   MCP|3rd district, Sil...|UNSAFE BACKING OF...|  10009 RENFREW ROAD|39.01976833|-77.02402833|      No|   No|             No|             No|   No|                No|    No|                No|     No|       No|   MD|05 - Light Duty T...|2007|   LINCOLN|   MARK LT|     CREAM|      Citation|21-1102(a)|Transportation Ar...|                     No|   WHITE|     M|     SILVER SPRING|          MD|      MD|   A - Marked Patrol|(39.0197683333333...|\n",
            "|    5/2/2014|    22:43:00|   MCP|Headquarters and ...|FAILURE TO DISPLA...|FLOWER AVE @ DOME...|38.99666667|-77.00316833|      No|   No|             No|             No|   No|                No|    No|                No|     No|       No|   MD|     02 - Automobile|1996|      HOND|     CIVIC|     WHITE|      Citation| 22-226(a)|Transportation Ar...|                     No|HISPANIC|     M|       HYATTSVILLE|          MD|      MD| B - Unmarked Patrol|(38.9966666666667...|\n",
            "|   4/22/2013|    17:03:00|   MCP|6th district, Gai...|DRIVING MOTOR VEH...|MONTGOMERY VILLAG...|39.16554797|-77.20489015|      No|   No|             No|             No|   No|                No|    No|                No|     No|       No|   MD|     02 - Automobile|2001|    TOYOTA|     RAV 4|      BLUE|      Citation| 16-101(a)|Transportation Ar...|                     No|   BLACK|     F|MONTGOMERY VILLAGE|          MD|      MD|   A - Marked Patrol|(39.1655479666667...|\n",
            "|    2/9/2013|    11:59:00|   MCP|4th district, Whe...|DRIVER FAILURE TO...|REEDIE DR/FERN ST...|39.03959352|-77.04856972|      No|   No|             No|             No|   No|                No|    No|                No|     No|       No|   MD|     02 - Automobile|1997|      FORD|  EXPLORER|       RED|      Citation|21-201(a1)|Transportation Ar...|                     No|HISPANIC|     F|     SILVER SPRING|          MD|      MD|   A - Marked Patrol|(39.0395935166667...|\n",
            "|   11/8/2013|    22:44:00|   MCP|6th district, Gai...|PERSON DRIVING MO...|        WISTERIA/118|       null|        null|      No|   No|             No|             No|   No|                No|    No|                No|     No|       No|   MD|     02 - Automobile|2001|      CHRY|   SEBRING|    SILVER|      Citation| 16-303(c)|Transportation Ar...|                     No|   BLACK|     F|      GAITHERSBURG|          MD|      MD|M - Marked (Off-D...|                null|\n",
            "|   6/25/2013|    20:24:00|   MCP|6th district, Gai...|WILLFULLY DISOBEY...|MONTGOMERY VILLAG...|       null|        null|      No|   No|             No|             No|   No|                No|    No|                No|     No|       No|   MD|     02 - Automobile|2002|      INFI|       G35|    SILVER|      Citation| 21-103(a)|Transportation Ar...|                     No|HISPANIC|     F|      GAITHERSBURG|          MD|      MD|   A - Marked Patrol|                null|\n",
            "|   5/24/2012|     0:12:00|   MCP|1st district, Roc...|DRIVING WHILE IMP...|OLD GEORGETOWN RD...|38.99336132|-77.10846417|      No|   No|             No|             No|   No|                No|    No|                No|     No|       No|   MD|     02 - Automobile|2000|    SUBARU|   OUTBACK|     WHITE|      Citation|21-902(b1)|Transportation Ar...|                     No|   WHITE|     M|          BETHESDA|          MD|      MD|    Q - Marked Laser|(38.9933613166667...|\n",
            "|   9/15/2012|    21:56:00|   MCP|5th district, Ger...|DRIVING, MOTOR VE...|FREDERICK RD @ GE...|39.19379768|-77.24335883|      No|   No|             No|             No|   No|                No|    No|                No|     No|       No|   MD|     02 - Automobile|1998|    TOYOTA|     CAMRY|     WHITE|      Citation| 16-101(a)|Transportation Ar...|                     No|   BLACK|     M|        GERMANTOWN|          MD|      MD|   A - Marked Patrol|(39.1937976833333...|\n",
            "|   8/29/2017|     0:27:00|   MCP|3rd district, Sil...|DRIVING WRONG WAY...|NB COLUMBIA PIKE ...|39.08277453|-76.94840312|      No|   No|             No|             No|   No|                No|    No|                No|     No|       No|   MD|     02 - Automobile|2000|      FORD|EXPEDITION|       TAN|      Citation| 21-308(a)|Transportation Ar...|                     No|   BLACK|     F|        ASPEN HILL|          MD|      MD|   A - Marked Patrol|(39.0827745274131...|\n",
            "+------------+------------+------+--------------------+--------------------+--------------------+-----------+------------+--------+-----+---------------+---------------+-----+------------------+------+------------------+-------+---------+-----+--------------------+----+----------+----------+----------+--------------+----------+--------------------+-----------------------+--------+------+------------------+------------+--------+--------------------+--------------------+\n",
            "only showing top 20 rows\n",
            "\n"
          ],
          "name": "stdout"
        }
      ]
    },
    {
      "cell_type": "code",
      "metadata": {
        "colab": {
          "base_uri": "https://localhost:8080/"
        },
        "id": "rm6M_2GfGxYM",
        "outputId": "b3f1d879-d205-4a29-87a8-38cc4be6cc60"
      },
      "source": [
        "df_task1.select('VehicleType','Contributed To Accident').show()"
      ],
      "execution_count": 15,
      "outputs": [
        {
          "output_type": "stream",
          "text": [
            "+--------------------+-----------------------+\n",
            "|         VehicleType|Contributed To Accident|\n",
            "+--------------------+-----------------------+\n",
            "|08 - Recreational...|                    Yes|\n",
            "|     02 - Automobile|                     No|\n",
            "|     02 - Automobile|                     No|\n",
            "|     02 - Automobile|                     No|\n",
            "|     02 - Automobile|                     No|\n",
            "|     02 - Automobile|                     No|\n",
            "|     02 - Automobile|                     No|\n",
            "|     02 - Automobile|                     No|\n",
            "|          19 - Moped|                     No|\n",
            "|     02 - Automobile|                     No|\n",
            "|     02 - Automobile|                     No|\n",
            "|05 - Light Duty T...|                     No|\n",
            "|     02 - Automobile|                     No|\n",
            "|     02 - Automobile|                     No|\n",
            "|     02 - Automobile|                     No|\n",
            "|     02 - Automobile|                     No|\n",
            "|     02 - Automobile|                     No|\n",
            "|     02 - Automobile|                     No|\n",
            "|     02 - Automobile|                     No|\n",
            "|     02 - Automobile|                     No|\n",
            "+--------------------+-----------------------+\n",
            "only showing top 20 rows\n",
            "\n"
          ],
          "name": "stdout"
        }
      ]
    },
    {
      "cell_type": "code",
      "metadata": {
        "colab": {
          "base_uri": "https://localhost:8080/",
          "height": 490
        },
        "id": "SMXq2nnTe_Va",
        "outputId": "b5b35c61-47c8-4436-9b85-4d1ab245d49c"
      },
      "source": [
        "# Filter the data where accidents occur\n",
        "df_task1 = df_task1.where(df_task1['Contributed to Accident'] == 'Yes')\n",
        "\n",
        "# Group data from Vehicle type.\n",
        "group_data = df_task1.groupby([\"VehicleType\",\"Contributed To Accident\"]).agg({\"Contributed To Accident\":\"count\"})\n",
        "group_data = group_data.withColumnRenamed(\"count(Contributed To Accident)\",\"Number of Accidents\")\n",
        "\n",
        "# Dipaly Data\n",
        "group_data.show()\n",
        "\n",
        "# convert DataFrame into Pandas\n",
        "df_pandas = group_data.toPandas()\n",
        "df_pandas\n",
        "\n",
        "# Creating dimensions(VehicleType,Contributed To Accident,count)\n",
        "df_pivot = pd.pivot_table(\n",
        "\tdf_pandas,\n",
        "\tvalues=\"Number of Accidents\",\n",
        "\tindex=\"VehicleType\",\n",
        "\tcolumns=\"Contributed To Accident\",\n",
        "\taggfunc=np.sum\n",
        ")\n",
        "\n",
        "# Plot a bar chart using the DF\n",
        "ax=df_pivot.plot(kind=\"bar\")\n",
        "\n",
        "# Get a Matplotlib figure from the axes object for formatting purposes\n",
        "fig = ax.get_figure()\n",
        "\n",
        "# Change the plot dimensions (width, height)\n",
        "fig.set_size_inches(3, 6)\n",
        "\n",
        "# Change the axes labels\n",
        "ax.set_xlabel(\"VehicleType\")\n",
        "ax.set_ylabel(\"Number of Accidents\")\n",
        "plt.xticks(rotation=360)\n",
        "# Visualize the data\n",
        "plt.show()\n",
        "\n",
        "\n"
      ],
      "execution_count": 16,
      "outputs": [
        {
          "output_type": "stream",
          "text": [
            "+--------------------+-----------------------+-------------------+\n",
            "|         VehicleType|Contributed To Accident|Number of Accidents|\n",
            "+--------------------+-----------------------+-------------------+\n",
            "|08 - Recreational...|                    Yes|                  1|\n",
            "+--------------------+-----------------------+-------------------+\n",
            "\n"
          ],
          "name": "stdout"
        },
        {
          "output_type": "display_data",
          "data": {
            "image/png": "[encoded data removed]",
            "text/plain": [
              "<Figure size 216x432 with 1 Axes>"
            ]
          },
          "metadata": {
            "tags": [],
            "needs_background": "light"
          }
        }
      ]
    },
    {
      "cell_type": "markdown",
      "metadata": {
        "id": "rXPiEbAN8NCA"
      },
      "source": [
        "**Task 15-Correlation between accidents and time of the day.ipynb**"
      ]
    },
    {
      "cell_type": "code",
      "metadata": {
        "colab": {
          "base_uri": "https://localhost:8080/"
        },
        "id": "-97l54uU8Y8w",
        "outputId": "1540a010-77be-4911-9992-50f056465f23"
      },
      "source": [
        "# Load data to Task 15.\n",
        "df_task15 = spark.read.csv('/content/sample_data/tf2.csv',header=True)\n",
        "df_task15.show()"
      ],
      "execution_count": 17,
      "outputs": [
        {
          "output_type": "stream",
          "text": [
            "+------------+------------+------+--------------------+--------------------+--------------------+-----------+------------+--------+-----+---------------+---------------+-----+------------------+------+------------------+-------+---------+-----+--------------------+----+--------+----------+----------+--------------+-----------+--------------------+-----------------------+--------+------+------------------+------------+--------+-----------------+--------------------+\n",
            "|Date Of Stop|Time Of Stop|Agency|           SubAgency|         Description|            Location|   Latitude|   Longitude|Accident|Belts|Personal Injury|Property Damage|Fatal|Commercial License|HAZMAT|Commercial Vehicle|Alcohol|Work Zone|State|         VehicleType|Year|    Make|     Model|     Color|Violation Type|     Charge|             Article|Contributed To Accident|    Race|Gender|       Driver City|Driver State|DL State|      Arrest Type|         Geolocation|\n",
            "+------------+------------+------+--------------------+--------------------+--------------------+-----------+------------+--------+-----+---------------+---------------+-----+------------------+------+------------------+-------+---------+-----+--------------------+----+--------+----------+----------+--------------+-----------+--------------------+-----------------------+--------+------+------------------+------------+--------+-----------------+--------------------+\n",
            "|   5/31/2014|    17:21:00|   MCP|1st district, Roc...|EXCEEDING MAXIMUM...|FREDERICK RD / E ...|39.10923333|-77.16007333|      No|  Yes|             No|             No|   No|                No|    No|                No|     No|       No|   MD|     02 - Automobile|2008|    FORD|        4S|      BLUE|      Citation|   21-801.1|Transportation Ar...|                     No|   BLACK|     F|     SILVER SPRING|          MD|      MD|A - Marked Patrol|(39.1092333333333...|\n",
            "|   6/18/2014|     8:58:00|   MCP|6th district, Gai...|DRIVING VEHICLE O...|WASHINGTON GROVE ...|39.14116333|-77.17823333|      No|   No|             No|             No|   No|                No|    No|                No|     No|       No|   MD|     02 - Automobile|2004|    MITS|        4S|    SILVER|      Citation|  13-401(h)|Transportation Ar...|                     No|HISPANIC|     M|      GAITHERSBURG|          MD|      MD|A - Marked Patrol|(39.1411633333333...|\n",
            "|   6/15/2014|     1:52:00|   MCP|4th district, Whe...|FAILURE OF VEH. O...|REEDIE DR / VEIRS...|   39.03833|-77.05240833|      No|   No|             No|             No|   No|                No|    No|                No|     No|       No|   MD|     01 - Motorcycle|2005|    TOYT|     SCION|    SILVER|      Citation|   22-201.1|Transportation Ar...|                     No|HISPANIC|     M|       HYATTSVILLE|          MD|      MD|A - Marked Patrol|(39.03833, -77.05...|\n",
            "|    3/4/2014|     9:16:00|   MCP|3rd district, Sil...|DRIVING VEHICLE O...|NEW HAMPSHIRE AVE...| 39.0728779|-77.00270557|      No|   No|             No|             No|   No|                No|    No|                No|     No|       No|   MD|     02 - Automobile|2005|     GMC|     YUKON|     BLACK|      Citation|  13-401(h)|Transportation Ar...|                     No|   BLACK|     M|     SILVER SPRING|          MD|      MD|A - Marked Patrol|(39.0728779, -77....|\n",
            "|   4/16/2014|    10:41:00|   MCP|4th district, Whe...|DRIVING VEHICLE O...|UNIVERSITY BLVD W...|       null|        null|      No|   No|             No|             No|   No|                No|    No|                No|     No|       No|   MD|     02 - Automobile|1992|    FORD|    TAURUS|       RED|      Citation|  13-401(h)|Transportation Ar...|                     No|   WHITE|     M|           WHEATON|          MD|      MD|A - Marked Patrol|                null|\n",
            "|   2/17/2014|    12:02:00|   MCP|1st district, Roc...|DRIVING VEHICLE O...|FALLS RD @ W. KERSEY|39.06652667|-77.17427333|      No|   No|             No|             No|   No|                No|    No|                No|     No|       No|   MD|     02 - Automobile|2007|    HOND|      CR-V|    SILVER|      Citation|  13-401(h)|Transportation Ar...|                     No|   ASIAN|     M|MONTGOMERY VILLAGE|          MD|      MD|A - Marked Patrol|(39.0665266666667...|\n",
            "|    6/5/2014|    23:10:00|   MCP|4th district, Whe...|UNAUTHORIZED DISP...|GEORGIA @ OLNEY S...|39.15405167|-77.06816167|      No|   No|             No|             No|   No|                No|    No|                No|     No|       No|   AZ|     02 - Automobile|2001|    FORD|EXPEDITION|     BEIGE|      Citation|  13-703(g)|Transportation Ar...|                     No|   BLACK|     F|             OLNEY|          MD|      MD|A - Marked Patrol|(39.1540516666667...|\n",
            "|    3/4/2014|    20:07:00|   MCP|5th district, Ger...|DRIVING MOTOR VEH...|9809 BETHESDA CHU...|  39.284545|  -77.203975|      No|   No|             No|             No|   No|                No|    No|                No|     No|       No|   MD|     02 - Automobile|2005|    TOYT|        4S|BLUE, DARK|      Citation|  16-101(a)|Transportation Ar...|                     No|HISPANIC|     F|          DAMASCUS|          MD|      MD|A - Marked Patrol|(39.284545, -77.2...|\n",
            "|   6/22/2014|    14:26:00|   MCP|3rd district, Sil...|DRIVING VEHICLE O...|SOUTHAMPTON DR/ B...|       null|        null|      No|   No|             No|             No|   No|                No|    No|                No|     No|       No|   MD|     02 - Automobile|2009|   HONDA|     CIVIC|      GRAY|      Citation|  13-401(h)|Transportation Ar...|                     No|HISPANIC|     M|     SILVER SPRING|          MD|      MD|A - Marked Patrol|                null|\n",
            "|  10/28/2013|    17:41:00|   MCP|6th district, Gai...|DRIVER FAILURE TO...|EMORY GROVE RD @ ...|39.12993477|-77.16705013|      No|   No|             No|             No|   No|                No|    No|                No|     No|       No|   MD|     02 - Automobile|2003|   HONDA|    ACCORD|      GOLD|      Citation|  21-404(b)|Transportation Ar...|                    Yes|   BLACK|     M|      GAITHERSBURG|          MD|      MD|A - Marked Patrol|(39.1299347666667...|\n",
            "|   9/19/2013|    14:12:00|   MCP|3rd district, Sil...|DRIVER FAILURE TO...|COLESVILLE RD @ 1...|    38.9925|-77.03651333|      No|   No|             No|             No|   No|                No|    No|                No|     No|       No|   MD|     02 - Automobile|2008|   BUICK|   ENCLAVE|     WHITE|      Citation|  21-403(d)|Transportation Ar...|                    Yes|   BLACK|     M|         BALTIMORE|          MD|      MD|A - Marked Patrol|(38.9925, -77.036...|\n",
            "|   5/27/2013|    14:13:00|   MCP|6th district, Gai...|EXCEEDING MAXIMUM...|NB 270 / MUDDY BR...|39.09845263| -77.2045743|      No|   No|             No|             No|   No|                No|    No|                No|     No|       No|   MD|08 - Recreational...|2012|    JEEP|       4X4|      GRAY|      Citation|   21-801.1|Transportation Ar...|                    Yes|   WHITE|     F|        NEW MARKET|          MD|      MD|A - Marked Patrol|(39.0984526333333...|\n",
            "|    5/4/2013|     9:26:00|   MCP|6th district, Gai...|DRIVING VEHICLE I...|MUNCASTER MILL RO...|39.15371892| -77.1537621|      No|   No|             No|            Yes|   No|                No|    No|                No|     No|       No|   MD|     02 - Automobile|1997|    HOND|        4S|     BEIGE|      Citation|  21-801(a)|Transportation Ar...|                    Yes|   WHITE|     M|     SILVER SPRING|          MD|      MD|A - Marked Patrol|(39.1537189166667...|\n",
            "|  10/10/2013|    18:34:00|   MCP|3rd district, Sil...|FAILURE TO CONTRO...|SB COLUMBIA PIKE ...|  39.096875|-76.93751833|      No|   No|             No|             No|   No|                No|    No|                No|     No|       No|   MD|     02 - Automobile|2009|   TOYOT|     PRIUS|     BLACK|      Citation|  21-801(b)|Transportation Ar...|                    Yes|   WHITE|     M|          ELKRIDGE|          MD|      MD|A - Marked Patrol|(39.096875, -76.9...|\n",
            "|    9/1/2013|    15:19:00|   MCP|4th district, Whe...|FAILURE TO CONTRO...|GEORGIA  AVE/WIND...|39.03210667|-77.04827667|      No|  Yes|             No|             No|   No|                No|    No|                No|     No|       No|   DC|     02 - Automobile|2005|    FORD| CROWN VIC|     BLACK|      Citation|  21-801(b)|Transportation Ar...|                    Yes|   BLACK|     M|        WASHINGTON|          DC|      DC|A - Marked Patrol|(39.0321066666667...|\n",
            "|    7/3/2015|    21:06:00|   MCP|4th district, Whe...|   NEGLIGENT DRIVING|NEW HAMPSHIRE AVE...|   39.14925|-77.06648833|      No|   No|             No|             No|   No|                No|    No|                No|     No|       No|   MD|     02 - Automobile|2009|   HONDA|       FIT|      BLUE|      Citation|21-901.1(b)|Transportation Ar...|                    Yes|   WHITE|     F|             OLNEY|          MD|      MD|A - Marked Patrol|(39.14925, -77.06...|\n",
            "|   7/11/2013|     7:46:00|   MCP|6th district, Gai...|DRIVER WHEN TURNI...|300 BLK OF MUDDY ...|39.12907225|-77.20789277|      No|   No|            Yes|             No|   No|                No|    No|                No|     No|       No|   MD|     02 - Automobile|1998|    HOND|    ACCORD|     BLACK|      Citation|  21-402(a)|Transportation Ar...|                    Yes|HISPANIC|     M|      GAITHERSBURG|          MD|      MD|A - Marked Patrol|(39.12907225, -77...|\n",
            "|   8/29/2017|    11:41:00|   MCP|2nd district, Bet...|UNSAFE LANE CHANGING|N/B OLD GEORGETOW...|39.01639667| -77.1194315|      No|   No|             No|            Yes|   No|                No|    No|                No|     No|       No|   MD|     02 - Automobile|2004|   HONDA|    ACCORD|     BEIGE|      Citation|  21-309(b)|Transportation Ar...|                    Yes|   WHITE|     F|          BETHESDA|          MD|      MD|A - Marked Patrol|(39.0163966666667...|\n",
            "|   12/8/2013|     3:27:00|   MCP|6th district, Gai...|DRIVING UNDER THE...|WEST DIAMOND AVE ...|39.14012735| -77.2062697|      No|   No|             No|             No|   No|                No|    No|                No|     No|       No|   MD|     02 - Automobile|2006|    CHRY|   SEBRING|    MAROON|      Citation| 21-902(a2)|Transportation Ar...|                    Yes|   WHITE|     M|      GAITHERSBURG|          MD|      MD|A - Marked Patrol|(39.14012735, -77...|\n",
            "|   5/25/2014|    15:33:00|   MCP|6th district, Gai...|FAILURE TO RETURN...|GOSHEN RD / MIDCO...|39.04543833|   -76.99038|      No|   No|             No|            Yes|   No|                No|    No|                No|     No|       No|   MD|     02 - Automobile|1994|CHRYSLER|   LEBARON|     GREEN|      Citation|  20-103(b)|Transportation Ar...|                    Yes|   WHITE|     M|        GERMANTOWN|          MD|      MD|A - Marked Patrol|(39.0454383333333...|\n",
            "+------------+------------+------+--------------------+--------------------+--------------------+-----------+------------+--------+-----+---------------+---------------+-----+------------------+------+------------------+-------+---------+-----+--------------------+----+--------+----------+----------+--------------+-----------+--------------------+-----------------------+--------+------+------------------+------------+--------+-----------------+--------------------+\n",
            "only showing top 20 rows\n",
            "\n"
          ],
          "name": "stdout"
        }
      ]
    },
    {
      "cell_type": "code",
      "metadata": {
        "colab": {
          "base_uri": "https://localhost:8080/"
        },
        "id": "uda3kHnN9SxP",
        "outputId": "1440cab8-93ed-424c-e568-b2b47ff746bf"
      },
      "source": [
        "df_task15.printSchema()"
      ],
      "execution_count": 18,
      "outputs": [
        {
          "output_type": "stream",
          "text": [
            "root\n",
            " |-- Date Of Stop: string (nullable = true)\n",
            " |-- Time Of Stop: string (nullable = true)\n",
            " |-- Agency: string (nullable = true)\n",
            " |-- SubAgency: string (nullable = true)\n",
            " |-- Description: string (nullable = true)\n",
            " |-- Location: string (nullable = true)\n",
            " |-- Latitude: string (nullable = true)\n",
            " |-- Longitude: string (nullable = true)\n",
            " |-- Accident: string (nullable = true)\n",
            " |-- Belts: string (nullable = true)\n",
            " |-- Personal Injury: string (nullable = true)\n",
            " |-- Property Damage: string (nullable = true)\n",
            " |-- Fatal: string (nullable = true)\n",
            " |-- Commercial License: string (nullable = true)\n",
            " |-- HAZMAT: string (nullable = true)\n",
            " |-- Commercial Vehicle: string (nullable = true)\n",
            " |-- Alcohol: string (nullable = true)\n",
            " |-- Work Zone: string (nullable = true)\n",
            " |-- State: string (nullable = true)\n",
            " |-- VehicleType: string (nullable = true)\n",
            " |-- Year: string (nullable = true)\n",
            " |-- Make: string (nullable = true)\n",
            " |-- Model: string (nullable = true)\n",
            " |-- Color: string (nullable = true)\n",
            " |-- Violation Type: string (nullable = true)\n",
            " |-- Charge: string (nullable = true)\n",
            " |-- Article: string (nullable = true)\n",
            " |-- Contributed To Accident: string (nullable = true)\n",
            " |-- Race: string (nullable = true)\n",
            " |-- Gender: string (nullable = true)\n",
            " |-- Driver City: string (nullable = true)\n",
            " |-- Driver State: string (nullable = true)\n",
            " |-- DL State: string (nullable = true)\n",
            " |-- Arrest Type: string (nullable = true)\n",
            " |-- Geolocation: string (nullable = true)\n",
            "\n"
          ],
          "name": "stdout"
        }
      ]
    },
    {
      "cell_type": "code",
      "metadata": {
        "colab": {
          "base_uri": "https://localhost:8080/"
        },
        "id": "KLTfDPDT9Vxo",
        "outputId": "5cebf5b3-94ae-48a1-ce9c-0047096493b5"
      },
      "source": [
        "df_task15.describe().show()"
      ],
      "execution_count": 19,
      "outputs": [
        {
          "output_type": "stream",
          "text": [
            "+-------+------------+------------+------+--------------------+--------------------+--------------------+-------------------+-------------------+--------+-----+---------------+---------------+-----+------------------+------+------------------+-------+---------+-----+-------------------+------------------+------+-----+------+--------------+---------+--------------------+-----------------------+-----+------+------------+------------+--------+-----------------+--------------------+\n",
            "|summary|Date Of Stop|Time Of Stop|Agency|           SubAgency|         Description|            Location|           Latitude|          Longitude|Accident|Belts|Personal Injury|Property Damage|Fatal|Commercial License|HAZMAT|Commercial Vehicle|Alcohol|Work Zone|State|        VehicleType|              Year|  Make|Model| Color|Violation Type|   Charge|             Article|Contributed To Accident| Race|Gender| Driver City|Driver State|DL State|      Arrest Type|         Geolocation|\n",
            "+-------+------------+------------+------+--------------------+--------------------+--------------------+-------------------+-------------------+--------+-----+---------------+---------------+-----+------------------+------+------------------+-------+---------+-----+-------------------+------------------+------+-----+------+--------------+---------+--------------------+-----------------------+-----+------+------------+------------+--------+-----------------+--------------------+\n",
            "|  count|          60|          60|    60|                  60|                  60|                  60|                 54|                 54|      60|   60|             60|             60|   60|                60|    60|                60|     60|       60|   60|                 60|                60|    60|   60|    60|            60|       60|                  60|                     60|   60|    60|          60|          60|      60|               60|                  54|\n",
            "|   mean|        null|        null|  null|                null|                null|                null|  39.08340705185186| -77.10339224611108|    null| null|           null|           null| null|              null|  null|              null|   null|     null| null|               null|1971.7333333333333|2004.0|  3.0|  null|          null|     null|                null|                   null| null|  null|        null|        null|    null|             null|                null|\n",
            "| stddev|        null|        null|  null|                null|                null|                null|0.06587610310257629|0.09846929427316425|    null| null|           null|           null| null|              null|  null|              null|   null|     null| null|               null| 258.9092417821852|   0.0|  0.0|  null|          null|     null|                null|                   null| null|  null|        null|        null|    null|             null|                null|\n",
            "|    min|    1/5/2016|     0:42:00|   MCP|1st district, Roc...|DRIVER CHANGING L...| 11323 SCHUYLKILL RD|        38.94096667|       -76.93459167|      No|   No|             No|             No|   No|                No|    No|                No|     No|       No|   AZ|    01 - Motorcycle|                 0|  2004|    3| BEIGE|      Citation|13-401(b)|Transportation Ar...|                     No|ASIAN|     F|   BALTIMORE|          DC|      DC|A - Marked Patrol|(38.9409666666667...|\n",
            "|    max|    9/6/2014|     9:26:00|   MCP|Headquarters and ...|UNSAFE LANE CHANGING|WOODFIELD RD/AIRP...|          39.284545|         -77.312395|      No|  Yes|            Yes|            Yes|  Yes|               Yes|    No|                No|     No|       No|   VA|20 - Commercial Rig|              2016| VOLVO|YUKON|YELLOW|      Citation| 22-201.1|Transportation Ar...|                    Yes|WHITE|     M|WINTER HAVEN|          MD|      US|A - Marked Patrol|(39.284545, -77.2...|\n",
            "+-------+------------+------------+------+--------------------+--------------------+--------------------+-------------------+-------------------+--------+-----+---------------+---------------+-----+------------------+------+------------------+-------+---------+-----+-------------------+------------------+------+-----+------+--------------+---------+--------------------+-----------------------+-----+------+------------+------------+--------+-----------------+--------------------+\n",
            "\n"
          ],
          "name": "stdout"
        }
      ]
    },
    {
      "cell_type": "code",
      "metadata": {
        "colab": {
          "base_uri": "https://localhost:8080/",
          "height": 942
        },
        "id": "OaU39YbH9ZHJ",
        "outputId": "bdec42f8-4bc2-430e-e2f7-d3242c222cbe"
      },
      "source": [
        "from pyspark.sql import SparkSession\n",
        "from pyspark.sql.functions import *\n",
        "\n",
        "spark = SparkSession.builder.getOrCreate()\n",
        "sc = spark.sparkContext\n",
        "\n",
        "#Get time and whethere there have accident or not \n",
        "df_task15 = df_task15.select('Time Of Stop','Contributed To Accident')\n",
        "\n",
        "#Sort above based on time\n",
        "#sorted=group_data.orderBy('Time Of Stop')\n",
        "#sorted.show()\n",
        "\n",
        "# Here contain 24hr clock. To get more simple consider only the hour that accident is happened. \n",
        "#Take the hour for each timestamp\n",
        "sorted = (df_task15.select(\"Time Of Stop\")\n",
        "    .withColumn(\"hour\", hour(\"Time Of Stop\")))\n",
        "#sorted.show()\n",
        "\n",
        "#Join above datafrmaes by outter join.\n",
        "df = df_task15.join(sorted, on=['Time Of Stop'], how='outer')\n",
        "#df.show()\n",
        "\n",
        "\n",
        "# Group data from Vehicle type.\n",
        "group_data = df.groupby([\"hour\",\"Contributed To Accident\"]).agg({\"Contributed To Accident\":\"count\"})\n",
        "group_data = group_data.withColumnRenamed(\"count(Contributed To Accident)\",\"Number of Accidents\")\n",
        "\n",
        "group_data=group_data.orderBy('hour')\n",
        "\n",
        "# Dipaly Data\n",
        "group_data.show()\n",
        "\n",
        "\n",
        "### To Plot the Data in Chart\n",
        "\n",
        "\n",
        "# convert DataFrame into Pandas\n",
        "df_pandas = group_data.toPandas()\n",
        "df_pandas\n",
        "\n",
        "# Creating dimensions(VehicleType,Contributed To Accident,count)\n",
        "df_pivot = pd.pivot_table(\n",
        "\tdf_pandas,\n",
        "\tvalues=\"Number of Accidents\",\n",
        "\tindex=\"hour\",\n",
        "\tcolumns=\"Contributed To Accident\",\n",
        "\taggfunc=np.sum\n",
        ")\n",
        "\n",
        "# Plot a bar chart using the DF\n",
        "ax=df_pivot.plot(kind=\"bar\")\n",
        "\n",
        "# Get a Matplotlib figure from the axes object for formatting purposes\n",
        "fig = ax.get_figure()\n",
        "\n",
        "# Change the plot dimensions (width, height)\n",
        "fig.set_size_inches(10, 8)\n",
        "\n",
        "# Change the axes labels\n",
        "ax.set_xlabel(\"Hour of Day\")\n",
        "ax.set_ylabel(\"Number of Accidents\")\n",
        "#plt.xticks(rotation=90)\n",
        "\n",
        "# Visualize the data\n",
        "plt.show()\n",
        "\n"
      ],
      "execution_count": 21,
      "outputs": [
        {
          "output_type": "stream",
          "text": [
            "+----+-----------------------+-------------------+\n",
            "|hour|Contributed To Accident|Number of Accidents|\n",
            "+----+-----------------------+-------------------+\n",
            "|   0|                    Yes|                  1|\n",
            "|   1|                     No|                  1|\n",
            "|   3|                    Yes|                  1|\n",
            "|   4|                    Yes|                  1|\n",
            "|   5|                    Yes|                  5|\n",
            "|   7|                    Yes|                  1|\n",
            "|   8|                     No|                  1|\n",
            "|   9|                    Yes|                  6|\n",
            "|   9|                     No|                  1|\n",
            "|  10|                    Yes|                  4|\n",
            "|  10|                     No|                  1|\n",
            "|  11|                    Yes|                  2|\n",
            "|  12|                     No|                  1|\n",
            "|  12|                    Yes|                  4|\n",
            "|  13|                    Yes|                  3|\n",
            "|  14|                     No|                  1|\n",
            "|  14|                    Yes|                 14|\n",
            "|  15|                    Yes|                  3|\n",
            "|  16|                    Yes|                  5|\n",
            "|  17|                    Yes|                  3|\n",
            "+----+-----------------------+-------------------+\n",
            "only showing top 20 rows\n",
            "\n"
          ],
          "name": "stdout"
        },
        {
          "output_type": "display_data",
          "data": {
            "image/png": "[encoded data removed]",
            "text/plain": [
              "<Figure size 720x576 with 1 Axes>"
            ]
          },
          "metadata": {
            "tags": [],
            "needs_background": "light"
          }
        }
      ]
    }
  ]
}