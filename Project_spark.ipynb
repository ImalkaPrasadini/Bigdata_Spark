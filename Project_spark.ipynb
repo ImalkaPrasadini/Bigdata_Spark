{
  "nbformat": 4,
  "nbformat_minor": 0,
  "metadata": {
    "colab": {
      "name": "Project_spark.ipynb",
      "provenance": [],
      "collapsed_sections": []
    },
    "kernelspec": {
      "name": "python3",
      "display_name": "Python 3"
    },
    "language_info": {
      "name": "python"
    }
  },
  "cells": [
    {
      "cell_type": "code",
      "metadata": {
        "id": "Rk2B0-Je9j1a"
      },
      "source": [
        "# import os,sys\n",
        "# from google.colab import drive\n",
        "# drive.mount('/content/MyDrive')\n",
        "# nb_path = '/content/notebooks'\n",
        "# os.symlink('/content/MyDrive/My Notebooks/Colab Notebooks', nb_path)\n",
        "# sys.path.insert(0,nb_path)"
      ],
      "execution_count": 5,
      "outputs": []
    },
    {
      "cell_type": "markdown",
      "metadata": {
        "id": "YUkU46hgjwzb"
      },
      "source": [
        "# **Download Java**"
      ]
    },
    {
      "cell_type": "code",
      "metadata": {
        "id": "m62q-s5Ijn3y"
      },
      "source": [
        "!apt-get install openjdk-8-jdk-headless -qq > /dev/null"
      ],
      "execution_count": 6,
      "outputs": []
    },
    {
      "cell_type": "markdown",
      "metadata": {
        "id": "ZRCfA50Tj6Np"
      },
      "source": [
        "#  **Install Apache Spark 3.0.1 with Hadoop 2.7**"
      ]
    },
    {
      "cell_type": "code",
      "metadata": {
        "id": "SRNwF-yfkHeH"
      },
      "source": [
        "!wget -q https://www-us.apache.org/dist/spark/spark-3.1.1/spark-3.1.1-bin-hadoop3.2.tgz"
      ],
      "execution_count": 8,
      "outputs": []
    },
    {
      "cell_type": "markdown",
      "metadata": {
        "id": "onDq9E36kWSA"
      },
      "source": [
        "# **Unzip Folder**"
      ]
    },
    {
      "cell_type": "code",
      "metadata": {
        "id": "Zj2wWWZokWzQ"
      },
      "source": [
        "!tar xf spark-3.1.1-bin-hadoop3.2.tgz"
      ],
      "execution_count": 9,
      "outputs": []
    },
    {
      "cell_type": "markdown",
      "metadata": {
        "id": "NQX7PU0RkcTl"
      },
      "source": [
        "# **Install Find Spark**\n",
        "\n",
        "> It will locate Spark on the system and import it as a regular library.\n",
        "\n"
      ]
    },
    {
      "cell_type": "code",
      "metadata": {
        "id": "J6L2qUc8kted"
      },
      "source": [
        "!pip install -q findspark"
      ],
      "execution_count": 10,
      "outputs": []
    },
    {
      "cell_type": "markdown",
      "metadata": {
        "id": "sVEPWRKAkxJu"
      },
      "source": [
        "# **Settin up Envirnmental Variables**\n",
        "\n",
        "\n",
        "> This will enable us to run Pyspark in the Colab environment.\n",
        "\n"
      ]
    },
    {
      "cell_type": "code",
      "metadata": {
        "id": "YXIAHRsNk9-9"
      },
      "source": [
        "import os\n",
        "os.environ[\"JAVA_HOME\"] = \"/usr/lib/jvm/java-8-openjdk-amd64\"\n",
        "os.environ[\"SPARK_HOME\"] = \"/content/spark-3.1.1-bin-hadoop3.2\""
      ],
      "execution_count": 11,
      "outputs": []
    },
    {
      "cell_type": "code",
      "metadata": {
        "id": "ioxD5Lbxlm88"
      },
      "source": [
        "import findspark\n",
        "findspark.init()"
      ],
      "execution_count": 12,
      "outputs": []
    },
    {
      "cell_type": "code",
      "metadata": {
        "colab": {
          "base_uri": "https://localhost:8080/",
          "height": 35
        },
        "id": "_8m98oO-lxYT",
        "outputId": "d878da89-6271-453b-8684-65f973f77269"
      },
      "source": [
        "findspark.find()"
      ],
      "execution_count": 13,
      "outputs": [
        {
          "output_type": "execute_result",
          "data": {
            "application/vnd.google.colaboratory.intrinsic+json": {
              "type": "string"
            },
            "text/plain": [
              "'/content/spark-3.1.1-bin-hadoop3.2'"
            ]
          },
          "metadata": {
            "tags": []
          },
          "execution_count": 13
        }
      ]
    },
    {
      "cell_type": "markdown",
      "metadata": {
        "id": "uxQmsXytmBVK"
      },
      "source": [
        "# **Loading data to PySpark**"
      ]
    },
    {
      "cell_type": "code",
      "metadata": {
        "id": "FfN1YMdznXCc"
      },
      "source": [
        "import pandas as pd\n",
        "import numpy as np\n",
        "import matplotlib.pyplot as plt\n",
        "from pyspark.sql import SparkSession\n",
        "spark = SparkSession.builder.master(\"local[*]\").getOrCreate()\n",
        "import pyspark.sql.functions as f"
      ],
      "execution_count": 14,
      "outputs": []
    },
    {
      "cell_type": "markdown",
      "metadata": {
        "id": "SBbpq8AXbCuW"
      },
      "source": [
        "**TASK 06 : The number of accidents which occur due to traffic violations based on vehicle type.** "
      ]
    },
    {
      "cell_type": "code",
      "metadata": {
        "colab": {
          "base_uri": "https://localhost:8080/"
        },
        "id": "i56vrPa-mIcC",
        "outputId": "0d73316d-0ef8-42cb-ef11-d383957f2d17"
      },
      "source": [
        "# Load data to Task 06.\n",
        "df_task1 = spark.read.csv('/content/sample_data/tf.csv',header=True)\n",
        "df_task1.show()"
      ],
      "execution_count": 16,
      "outputs": [
        {
          "output_type": "stream",
          "text": [
            "+------------+------------+------+--------------------+--------------------+--------------------+-----------+------------+--------+-----+---------------+---------------+-----+------------------+------+------------------+-------+---------+-----+--------------------+----+----------+----------+----------+--------------+----------+--------------------+-----------------------+--------+------+------------------+------------+--------+--------------------+--------------------+\n",
            "|Date Of Stop|Time Of Stop|Agency|           SubAgency|         Description|            Location|   Latitude|   Longitude|Accident|Belts|Personal Injury|Property Damage|Fatal|Commercial License|HAZMAT|Commercial Vehicle|Alcohol|Work Zone|State|         VehicleType|Year|      Make|     Model|     Color|Violation Type|    Charge|             Article|Contributed To Accident|    Race|Gender|       Driver City|Driver State|DL State|         Arrest Type|         Geolocation|\n",
            "+------------+------------+------+--------------------+--------------------+--------------------+-----------+------------+--------+-----+---------------+---------------+-----+------------------+------+------------------+-------+---------+-----+--------------------+----+----------+----------+----------+--------------+----------+--------------------+-----------------------+--------+------+------------------+------------+--------+--------------------+--------------------+\n",
            "|   5/27/2013|    14:13:00|   MCP|6th district, Gai...|EXCEEDING MAXIMUM...|NB 270 / MUDDY BR...|39.09845263| -77.2045743|      No|   No|             No|             No|   No|                No|    No|                No|     No|       No|   MD|08 - Recreational...|2012|      JEEP|       4X4|      GRAY|      Citation|  21-801.1|Transportation Ar...|                    Yes|   WHITE|     F|        NEW MARKET|          MD|      MD|   A - Marked Patrol|(39.0984526333333...|\n",
            "|   5/25/2012|    10:39:00|   MCP|3rd district, Sil...|DRIVER FAILURE TO...|SB BROADBIRCH DR/...|39.05591057|-76.95796452|      No|   No|             No|             No|   No|                No|    No|                No|     No|       No|   MD|     02 - Automobile|2008|      FORD|      F150|BLUE, DARK|      Citation| 21-707(a)|Transportation Ar...|                     No|   WHITE|     M|          GLEN ARM|          MD|      MD|   A - Marked Patrol|(39.0559105666667...|\n",
            "|   12/6/2012|    13:07:00|   MCP|4th district, Whe...|FAILURE OF LICENS...|E/B RT 108 AT PRI...|39.14921818|-77.05659182|      No|   No|             No|             No|   No|                No|    No|                No|     No|       No|   MD|     02 - Automobile|2008|      TOYT|     RAV 4|     GREEN|      Citation| 16-116(a)|Transportation Ar...|                     No|   ASIAN|     M|           AMHERST|          NY|      NY|   A - Marked Patrol|(39.1492181833333...|\n",
            "|  11/15/2012|     9:50:00|   MCP|6th district, Gai...|DRIVING VEHICLE O...|SHADY FROVE RD & ...|39.12860635|-77.16914518|      No|   No|             No|             No|   No|                No|    No|                No|     No|       No|   MD|     02 - Automobile|2004|MITSUBISHI|   GALLANT|     WHITE|      Citation| 13-411(d)|Transportation Ar...|                     No|   WHITE|     M|        GERMANTOWN|          MD|      MD|   A - Marked Patrol|(39.12860635, -77...|\n",
            "|   8/28/2017|    23:14:00|   MCP|4th district, Whe...|DISPLAY SUSPENDED...|NEW HAMPSHIRE AVE...|39.06993667|-77.00309167|      No|   No|             No|             No|   No|                No|    No|                No|     No|       No|   MD|     02 - Automobile|2006|  MERCEDEZ|       SUV|     BLACK|      Citation| 16-301(e)|Transportation Ar...|                     No|   BLACK|     M|     SILVER SPRING|          MD|      MD|   A - Marked Patrol|(39.0699366666667...|\n",
            "|   8/29/2017|     5:21:00|   MCP|4th district, Whe...|FAILURE VEH. TO Y...|NEW HAMPSHIRE AVE...|39.13568167|-76.99487833|      No|   No|             No|             No|   No|                No|    No|                No|     No|       No|   MD|     02 - Automobile|2001|      FORD|  EXPLORER|     BLACK|      Citation|    21-401|Transportation Ar...|                     No|HISPANIC|     M|         ROCKVILLE|          MD|      MD|   A - Marked Patrol|(39.1356816666667...|\n",
            "|   8/28/2017|    23:13:00|   MCP|6th district, Gai...|EXCEEDING POSTED ...|LOST KNIFE RD. @ ...|39.15785333|  -77.204095|      No|   No|             No|             No|   No|                No|    No|                No|     No|       No|   MD|     02 - Automobile|2003|      FORD| EXCURSION|      BLUE|      Citation|  21-801.1|Transportation Ar...|                     No|HISPANIC|     F|        GERMANTOWN|          MD|      MD|   A - Marked Patrol|(39.1578533333333...|\n",
            "|   8/28/2017|    22:56:00|   MCP|4th district, Whe...|DRIVER FAILURE TO...|GEORGIA AVE/PLYER...|39.03006167|-77.04812667|      No|   No|             No|             No|   No|                No|    No|                No|     No|       No|   MD|     02 - Automobile|2002|     HONDA|     CIVIC|     BLACK|      Citation|21-201(a1)|Transportation Ar...|                     No|   WHITE|     F|         ROCKVILLE|          MD|      MD|   A - Marked Patrol|(39.0300616666667...|\n",
            "|   10/1/2013|     6:51:00|   MCP|4th district, Whe...|FAILURE TO CONTRO...|GEORGIA AVE/HEWIT...|       null|        null|      No|   No|            Yes|             No|   No|                No|    No|                No|     No|       No|   XX|          19 - Moped|2012|     SUNNY|    NINGBO|       RED|      Citation| 21-801(b)|Transportation Ar...|                     No|HISPANIC|     M|     SILVER SPRING|          MD|      XX|   A - Marked Patrol|                null|\n",
            "|   8/29/2017|     0:27:00|   MCP|3rd district, Sil...|DRIVING VEHICLE W...|NB COLUMBIA PIKE ...|39.08277453|-76.94840312|      No|   No|             No|             No|   No|                No|    No|                No|     No|       No|   MD|     02 - Automobile|2000|      FORD|EXPEDITION|       TAN|      Citation|21-902(a1)|Transportation Ar...|                     No|   BLACK|     F|        ASPEN HILL|          MD|      MD|   A - Marked Patrol|(39.0827745274131...|\n",
            "|   8/29/2017|     0:27:00|   MCP|3rd district, Sil...|DRIVING WHILE IMP...|NB COLUMBIA PIKE ...|39.08277453|-76.94840312|      No|   No|             No|             No|   No|                No|    No|                No|     No|       No|   MD|     02 - Automobile|2000|      FORD|EXPEDITION|       TAN|      Citation|21-902(b1)|Transportation Ar...|                     No|   BLACK|     F|        ASPEN HILL|          MD|      MD|   A - Marked Patrol|(39.0827745274131...|\n",
            "|   2/24/2015|     8:22:00|   MCP|3rd district, Sil...|UNSAFE BACKING OF...|  10009 RENFREW ROAD|39.01976833|-77.02402833|      No|   No|             No|             No|   No|                No|    No|                No|     No|       No|   MD|05 - Light Duty T...|2007|   LINCOLN|   MARK LT|     CREAM|      Citation|21-1102(a)|Transportation Ar...|                     No|   WHITE|     M|     SILVER SPRING|          MD|      MD|   A - Marked Patrol|(39.0197683333333...|\n",
            "|    5/2/2014|    22:43:00|   MCP|Headquarters and ...|FAILURE TO DISPLA...|FLOWER AVE @ DOME...|38.99666667|-77.00316833|      No|   No|             No|             No|   No|                No|    No|                No|     No|       No|   MD|     02 - Automobile|1996|      HOND|     CIVIC|     WHITE|      Citation| 22-226(a)|Transportation Ar...|                     No|HISPANIC|     M|       HYATTSVILLE|          MD|      MD| B - Unmarked Patrol|(38.9966666666667...|\n",
            "|   4/22/2013|    17:03:00|   MCP|6th district, Gai...|DRIVING MOTOR VEH...|MONTGOMERY VILLAG...|39.16554797|-77.20489015|      No|   No|             No|             No|   No|                No|    No|                No|     No|       No|   MD|     02 - Automobile|2001|    TOYOTA|     RAV 4|      BLUE|      Citation| 16-101(a)|Transportation Ar...|                     No|   BLACK|     F|MONTGOMERY VILLAGE|          MD|      MD|   A - Marked Patrol|(39.1655479666667...|\n",
            "|    2/9/2013|    11:59:00|   MCP|4th district, Whe...|DRIVER FAILURE TO...|REEDIE DR/FERN ST...|39.03959352|-77.04856972|      No|   No|             No|             No|   No|                No|    No|                No|     No|       No|   MD|     02 - Automobile|1997|      FORD|  EXPLORER|       RED|      Citation|21-201(a1)|Transportation Ar...|                     No|HISPANIC|     F|     SILVER SPRING|          MD|      MD|   A - Marked Patrol|(39.0395935166667...|\n",
            "|   11/8/2013|    22:44:00|   MCP|6th district, Gai...|PERSON DRIVING MO...|        WISTERIA/118|       null|        null|      No|   No|             No|             No|   No|                No|    No|                No|     No|       No|   MD|     02 - Automobile|2001|      CHRY|   SEBRING|    SILVER|      Citation| 16-303(c)|Transportation Ar...|                     No|   BLACK|     F|      GAITHERSBURG|          MD|      MD|M - Marked (Off-D...|                null|\n",
            "|   6/25/2013|    20:24:00|   MCP|6th district, Gai...|WILLFULLY DISOBEY...|MONTGOMERY VILLAG...|       null|        null|      No|   No|             No|             No|   No|                No|    No|                No|     No|       No|   MD|     02 - Automobile|2002|      INFI|       G35|    SILVER|      Citation| 21-103(a)|Transportation Ar...|                     No|HISPANIC|     F|      GAITHERSBURG|          MD|      MD|   A - Marked Patrol|                null|\n",
            "|   5/24/2012|     0:12:00|   MCP|1st district, Roc...|DRIVING WHILE IMP...|OLD GEORGETOWN RD...|38.99336132|-77.10846417|      No|   No|             No|             No|   No|                No|    No|                No|     No|       No|   MD|     02 - Automobile|2000|    SUBARU|   OUTBACK|     WHITE|      Citation|21-902(b1)|Transportation Ar...|                     No|   WHITE|     M|          BETHESDA|          MD|      MD|    Q - Marked Laser|(38.9933613166667...|\n",
            "|   9/15/2012|    21:56:00|   MCP|5th district, Ger...|DRIVING, MOTOR VE...|FREDERICK RD @ GE...|39.19379768|-77.24335883|      No|   No|             No|             No|   No|                No|    No|                No|     No|       No|   MD|     02 - Automobile|1998|    TOYOTA|     CAMRY|     WHITE|      Citation| 16-101(a)|Transportation Ar...|                     No|   BLACK|     M|        GERMANTOWN|          MD|      MD|   A - Marked Patrol|(39.1937976833333...|\n",
            "|   8/29/2017|     0:27:00|   MCP|3rd district, Sil...|DRIVING WRONG WAY...|NB COLUMBIA PIKE ...|39.08277453|-76.94840312|      No|   No|             No|             No|   No|                No|    No|                No|     No|       No|   MD|     02 - Automobile|2000|      FORD|EXPEDITION|       TAN|      Citation| 21-308(a)|Transportation Ar...|                     No|   BLACK|     F|        ASPEN HILL|          MD|      MD|   A - Marked Patrol|(39.0827745274131...|\n",
            "+------------+------------+------+--------------------+--------------------+--------------------+-----------+------------+--------+-----+---------------+---------------+-----+------------------+------+------------------+-------+---------+-----+--------------------+----+----------+----------+----------+--------------+----------+--------------------+-----------------------+--------+------+------------------+------------+--------+--------------------+--------------------+\n",
            "only showing top 20 rows\n",
            "\n"
          ],
          "name": "stdout"
        }
      ]
    },
    {
      "cell_type": "markdown",
      "metadata": {
        "id": "rysvNcGc-u1F"
      },
      "source": [
        "**Schema of DataFrame**\n",
        "\n",
        "Shows data type and the nullable conditions for that particular column."
      ]
    },
    {
      "cell_type": "code",
      "metadata": {
        "colab": {
          "base_uri": "https://localhost:8080/"
        },
        "id": "qa0nA0h_-lpo",
        "outputId": "95ccb91a-985d-41cc-bc89-1465fb7a8f9f"
      },
      "source": [
        "df_task1.printSchema()"
      ],
      "execution_count": 17,
      "outputs": [
        {
          "output_type": "stream",
          "text": [
            "root\n",
            " |-- Date Of Stop: string (nullable = true)\n",
            " |-- Time Of Stop: string (nullable = true)\n",
            " |-- Agency: string (nullable = true)\n",
            " |-- SubAgency: string (nullable = true)\n",
            " |-- Description: string (nullable = true)\n",
            " |-- Location: string (nullable = true)\n",
            " |-- Latitude: string (nullable = true)\n",
            " |-- Longitude: string (nullable = true)\n",
            " |-- Accident: string (nullable = true)\n",
            " |-- Belts: string (nullable = true)\n",
            " |-- Personal Injury: string (nullable = true)\n",
            " |-- Property Damage: string (nullable = true)\n",
            " |-- Fatal: string (nullable = true)\n",
            " |-- Commercial License: string (nullable = true)\n",
            " |-- HAZMAT: string (nullable = true)\n",
            " |-- Commercial Vehicle: string (nullable = true)\n",
            " |-- Alcohol: string (nullable = true)\n",
            " |-- Work Zone: string (nullable = true)\n",
            " |-- State: string (nullable = true)\n",
            " |-- VehicleType: string (nullable = true)\n",
            " |-- Year: string (nullable = true)\n",
            " |-- Make: string (nullable = true)\n",
            " |-- Model: string (nullable = true)\n",
            " |-- Color: string (nullable = true)\n",
            " |-- Violation Type: string (nullable = true)\n",
            " |-- Charge: string (nullable = true)\n",
            " |-- Article: string (nullable = true)\n",
            " |-- Contributed To Accident: string (nullable = true)\n",
            " |-- Race: string (nullable = true)\n",
            " |-- Gender: string (nullable = true)\n",
            " |-- Driver City: string (nullable = true)\n",
            " |-- Driver State: string (nullable = true)\n",
            " |-- DL State: string (nullable = true)\n",
            " |-- Arrest Type: string (nullable = true)\n",
            " |-- Geolocation: string (nullable = true)\n",
            "\n"
          ],
          "name": "stdout"
        }
      ]
    },
    {
      "cell_type": "markdown",
      "metadata": {
        "id": "JfGtAdFQ_A1P"
      },
      "source": [
        "**Describing a Particular**\n",
        "\n",
        "Summary of any particular column of a DataFrame.Gives statistical summary of the given column, if not specified, it provides the statistical summary of the DataFrame."
      ]
    },
    {
      "cell_type": "code",
      "metadata": {
        "colab": {
          "base_uri": "https://localhost:8080/"
        },
        "id": "thwsDEUz_ws5",
        "outputId": "1de90f59-ccb4-46e7-f852-6f97a4f6edf0"
      },
      "source": [
        "df_task1.describe().show()\n",
        "#fifa_df.describe('Position').show()"
      ],
      "execution_count": 18,
      "outputs": [
        {
          "output_type": "stream",
          "text": [
            "+-------+------------+------------+------+--------------------+--------------------+------------------+------------------+------------------+--------+-----+---------------+---------------+-----+------------------+------+------------------+-------+---------+-----+---------------+------------------+----+-----+-----+--------------+---------+--------------------+-----------------------+-----+------+------------+------------+--------+-----------------+--------------------+\n",
            "|summary|Date Of Stop|Time Of Stop|Agency|           SubAgency|         Description|          Location|          Latitude|         Longitude|Accident|Belts|Personal Injury|Property Damage|Fatal|Commercial License|HAZMAT|Commercial Vehicle|Alcohol|Work Zone|State|    VehicleType|              Year|Make|Model|Color|Violation Type|   Charge|             Article|Contributed To Accident| Race|Gender| Driver City|Driver State|DL State|      Arrest Type|         Geolocation|\n",
            "+-------+------------+------------+------+--------------------+--------------------+------------------+------------------+------------------+--------+-----+---------------+---------------+-----+------------------+------+------------------+-------+---------+-----+---------------+------------------+----+-----+-----+--------------+---------+--------------------+-----------------------+-----+------+------------+------------+--------+-----------------+--------------------+\n",
            "|  count|          27|          27|    27|                  27|                  27|                27|                24|                24|      27|   27|             27|             27|   27|                27|    27|                27|     27|       27|   27|             27|                27|  27|   27|   27|            27|       27|                  27|                     27|   27|    27|          27|          27|      27|               27|                  24|\n",
            "|   mean|        null|        null|  null|                null|                null|              null| 39.09381999166667|-77.07366351416665|    null| null|           null|           null| null|              null|  null|              null|   null|     null| null|           null|2003.2592592592594|null|  2.0| null|          null|     null|                null|                   null| null|  null|        null|        null|    null|             null|                null|\n",
            "| stddev|        null|        null|  null|                null|                null|              null|0.0657877812717109|0.1064957202002003|    null| null|           null|           null| null|              null|  null|              null|   null|     null| null|           null| 4.719783181074418|null| null| null|          null|     null|                null|                   null| null|  null|        null|        null|    null|             null|                null|\n",
            "|    min|   10/1/2013|     0:12:00|   MCP|1st district, Roc...|DISPLAY SUSPENDED...|10009 RENFREW ROAD|          38.98998|      -76.94840312|      No|   No|             No|             No|   No|                No|    No|                No|     No|       No|   MD|02 - Automobile|              1996|CHRY|    2|BLACK|      Citation|13-411(d)|Transportation Ar...|                     No|ASIAN|     F|     AMHERST|          MD|      MD|A - Marked Patrol|(38.98998, -77.09...|\n",
            "|    max|   9/18/2015|     9:50:00|   MCP|Headquarters and ...|WILLFULLY DISOBEY...|      WISTERIA/118|       39.25393167|      -77.24335883|      No|   No|            Yes|             No|   No|                No|    No|                No|     No|       No|   XX|     19 - Moped|              2012|TOYT|YUKON|WHITE|      Citation|22-226(a)|Transportation Ar...|                    Yes|WHITE|     M|TEMPLE HILLS|          NY|      XX| Q - Marked Laser|(39.2539316666667...|\n",
            "+-------+------------+------------+------+--------------------+--------------------+------------------+------------------+------------------+--------+-----+---------------+---------------+-----+------------------+------+------------------+-------+---------+-----+---------------+------------------+----+-----+-----+--------------+---------+--------------------+-----------------------+-----+------+------------+------------+--------+-----------------+--------------------+\n",
            "\n"
          ],
          "name": "stdout"
        }
      ]
    },
    {
      "cell_type": "markdown",
      "metadata": {
        "id": "K5w6kJr8ATRX"
      },
      "source": [
        "Selecting Multiple Columns"
      ]
    },
    {
      "cell_type": "code",
      "metadata": {
        "colab": {
          "base_uri": "https://localhost:8080/"
        },
        "id": "GxMPwVRsGiWV",
        "outputId": "1dcd59da-b4bb-45f4-97cd-fce168fbd50c"
      },
      "source": [
        "# Remove null values\n",
        "df_task1.dropna(subset=[\"VehicleType\"])\n",
        "\n",
        "df_task1.show()"
      ],
      "execution_count": 19,
      "outputs": [
        {
          "output_type": "stream",
          "text": [
            "+------------+------------+------+--------------------+--------------------+--------------------+-----------+------------+--------+-----+---------------+---------------+-----+------------------+------+------------------+-------+---------+-----+--------------------+----+----------+----------+----------+--------------+----------+--------------------+-----------------------+--------+------+------------------+------------+--------+--------------------+--------------------+\n",
            "|Date Of Stop|Time Of Stop|Agency|           SubAgency|         Description|            Location|   Latitude|   Longitude|Accident|Belts|Personal Injury|Property Damage|Fatal|Commercial License|HAZMAT|Commercial Vehicle|Alcohol|Work Zone|State|         VehicleType|Year|      Make|     Model|     Color|Violation Type|    Charge|             Article|Contributed To Accident|    Race|Gender|       Driver City|Driver State|DL State|         Arrest Type|         Geolocation|\n",
            "+------------+------------+------+--------------------+--------------------+--------------------+-----------+------------+--------+-----+---------------+---------------+-----+------------------+------+------------------+-------+---------+-----+--------------------+----+----------+----------+----------+--------------+----------+--------------------+-----------------------+--------+------+------------------+------------+--------+--------------------+--------------------+\n",
            "|   5/27/2013|    14:13:00|   MCP|6th district, Gai...|EXCEEDING MAXIMUM...|NB 270 / MUDDY BR...|39.09845263| -77.2045743|      No|   No|             No|             No|   No|                No|    No|                No|     No|       No|   MD|08 - Recreational...|2012|      JEEP|       4X4|      GRAY|      Citation|  21-801.1|Transportation Ar...|                    Yes|   WHITE|     F|        NEW MARKET|          MD|      MD|   A - Marked Patrol|(39.0984526333333...|\n",
            "|   5/25/2012|    10:39:00|   MCP|3rd district, Sil...|DRIVER FAILURE TO...|SB BROADBIRCH DR/...|39.05591057|-76.95796452|      No|   No|             No|             No|   No|                No|    No|                No|     No|       No|   MD|     02 - Automobile|2008|      FORD|      F150|BLUE, DARK|      Citation| 21-707(a)|Transportation Ar...|                     No|   WHITE|     M|          GLEN ARM|          MD|      MD|   A - Marked Patrol|(39.0559105666667...|\n",
            "|   12/6/2012|    13:07:00|   MCP|4th district, Whe...|FAILURE OF LICENS...|E/B RT 108 AT PRI...|39.14921818|-77.05659182|      No|   No|             No|             No|   No|                No|    No|                No|     No|       No|   MD|     02 - Automobile|2008|      TOYT|     RAV 4|     GREEN|      Citation| 16-116(a)|Transportation Ar...|                     No|   ASIAN|     M|           AMHERST|          NY|      NY|   A - Marked Patrol|(39.1492181833333...|\n",
            "|  11/15/2012|     9:50:00|   MCP|6th district, Gai...|DRIVING VEHICLE O...|SHADY FROVE RD & ...|39.12860635|-77.16914518|      No|   No|             No|             No|   No|                No|    No|                No|     No|       No|   MD|     02 - Automobile|2004|MITSUBISHI|   GALLANT|     WHITE|      Citation| 13-411(d)|Transportation Ar...|                     No|   WHITE|     M|        GERMANTOWN|          MD|      MD|   A - Marked Patrol|(39.12860635, -77...|\n",
            "|   8/28/2017|    23:14:00|   MCP|4th district, Whe...|DISPLAY SUSPENDED...|NEW HAMPSHIRE AVE...|39.06993667|-77.00309167|      No|   No|             No|             No|   No|                No|    No|                No|     No|       No|   MD|     02 - Automobile|2006|  MERCEDEZ|       SUV|     BLACK|      Citation| 16-301(e)|Transportation Ar...|                     No|   BLACK|     M|     SILVER SPRING|          MD|      MD|   A - Marked Patrol|(39.0699366666667...|\n",
            "|   8/29/2017|     5:21:00|   MCP|4th district, Whe...|FAILURE VEH. TO Y...|NEW HAMPSHIRE AVE...|39.13568167|-76.99487833|      No|   No|             No|             No|   No|                No|    No|                No|     No|       No|   MD|     02 - Automobile|2001|      FORD|  EXPLORER|     BLACK|      Citation|    21-401|Transportation Ar...|                     No|HISPANIC|     M|         ROCKVILLE|          MD|      MD|   A - Marked Patrol|(39.1356816666667...|\n",
            "|   8/28/2017|    23:13:00|   MCP|6th district, Gai...|EXCEEDING POSTED ...|LOST KNIFE RD. @ ...|39.15785333|  -77.204095|      No|   No|             No|             No|   No|                No|    No|                No|     No|       No|   MD|     02 - Automobile|2003|      FORD| EXCURSION|      BLUE|      Citation|  21-801.1|Transportation Ar...|                     No|HISPANIC|     F|        GERMANTOWN|          MD|      MD|   A - Marked Patrol|(39.1578533333333...|\n",
            "|   8/28/2017|    22:56:00|   MCP|4th district, Whe...|DRIVER FAILURE TO...|GEORGIA AVE/PLYER...|39.03006167|-77.04812667|      No|   No|             No|             No|   No|                No|    No|                No|     No|       No|   MD|     02 - Automobile|2002|     HONDA|     CIVIC|     BLACK|      Citation|21-201(a1)|Transportation Ar...|                     No|   WHITE|     F|         ROCKVILLE|          MD|      MD|   A - Marked Patrol|(39.0300616666667...|\n",
            "|   10/1/2013|     6:51:00|   MCP|4th district, Whe...|FAILURE TO CONTRO...|GEORGIA AVE/HEWIT...|       null|        null|      No|   No|            Yes|             No|   No|                No|    No|                No|     No|       No|   XX|          19 - Moped|2012|     SUNNY|    NINGBO|       RED|      Citation| 21-801(b)|Transportation Ar...|                     No|HISPANIC|     M|     SILVER SPRING|          MD|      XX|   A - Marked Patrol|                null|\n",
            "|   8/29/2017|     0:27:00|   MCP|3rd district, Sil...|DRIVING VEHICLE W...|NB COLUMBIA PIKE ...|39.08277453|-76.94840312|      No|   No|             No|             No|   No|                No|    No|                No|     No|       No|   MD|     02 - Automobile|2000|      FORD|EXPEDITION|       TAN|      Citation|21-902(a1)|Transportation Ar...|                     No|   BLACK|     F|        ASPEN HILL|          MD|      MD|   A - Marked Patrol|(39.0827745274131...|\n",
            "|   8/29/2017|     0:27:00|   MCP|3rd district, Sil...|DRIVING WHILE IMP...|NB COLUMBIA PIKE ...|39.08277453|-76.94840312|      No|   No|             No|             No|   No|                No|    No|                No|     No|       No|   MD|     02 - Automobile|2000|      FORD|EXPEDITION|       TAN|      Citation|21-902(b1)|Transportation Ar...|                     No|   BLACK|     F|        ASPEN HILL|          MD|      MD|   A - Marked Patrol|(39.0827745274131...|\n",
            "|   2/24/2015|     8:22:00|   MCP|3rd district, Sil...|UNSAFE BACKING OF...|  10009 RENFREW ROAD|39.01976833|-77.02402833|      No|   No|             No|             No|   No|                No|    No|                No|     No|       No|   MD|05 - Light Duty T...|2007|   LINCOLN|   MARK LT|     CREAM|      Citation|21-1102(a)|Transportation Ar...|                     No|   WHITE|     M|     SILVER SPRING|          MD|      MD|   A - Marked Patrol|(39.0197683333333...|\n",
            "|    5/2/2014|    22:43:00|   MCP|Headquarters and ...|FAILURE TO DISPLA...|FLOWER AVE @ DOME...|38.99666667|-77.00316833|      No|   No|             No|             No|   No|                No|    No|                No|     No|       No|   MD|     02 - Automobile|1996|      HOND|     CIVIC|     WHITE|      Citation| 22-226(a)|Transportation Ar...|                     No|HISPANIC|     M|       HYATTSVILLE|          MD|      MD| B - Unmarked Patrol|(38.9966666666667...|\n",
            "|   4/22/2013|    17:03:00|   MCP|6th district, Gai...|DRIVING MOTOR VEH...|MONTGOMERY VILLAG...|39.16554797|-77.20489015|      No|   No|             No|             No|   No|                No|    No|                No|     No|       No|   MD|     02 - Automobile|2001|    TOYOTA|     RAV 4|      BLUE|      Citation| 16-101(a)|Transportation Ar...|                     No|   BLACK|     F|MONTGOMERY VILLAGE|          MD|      MD|   A - Marked Patrol|(39.1655479666667...|\n",
            "|    2/9/2013|    11:59:00|   MCP|4th district, Whe...|DRIVER FAILURE TO...|REEDIE DR/FERN ST...|39.03959352|-77.04856972|      No|   No|             No|             No|   No|                No|    No|                No|     No|       No|   MD|     02 - Automobile|1997|      FORD|  EXPLORER|       RED|      Citation|21-201(a1)|Transportation Ar...|                     No|HISPANIC|     F|     SILVER SPRING|          MD|      MD|   A - Marked Patrol|(39.0395935166667...|\n",
            "|   11/8/2013|    22:44:00|   MCP|6th district, Gai...|PERSON DRIVING MO...|        WISTERIA/118|       null|        null|      No|   No|             No|             No|   No|                No|    No|                No|     No|       No|   MD|     02 - Automobile|2001|      CHRY|   SEBRING|    SILVER|      Citation| 16-303(c)|Transportation Ar...|                     No|   BLACK|     F|      GAITHERSBURG|          MD|      MD|M - Marked (Off-D...|                null|\n",
            "|   6/25/2013|    20:24:00|   MCP|6th district, Gai...|WILLFULLY DISOBEY...|MONTGOMERY VILLAG...|       null|        null|      No|   No|             No|             No|   No|                No|    No|                No|     No|       No|   MD|     02 - Automobile|2002|      INFI|       G35|    SILVER|      Citation| 21-103(a)|Transportation Ar...|                     No|HISPANIC|     F|      GAITHERSBURG|          MD|      MD|   A - Marked Patrol|                null|\n",
            "|   5/24/2012|     0:12:00|   MCP|1st district, Roc...|DRIVING WHILE IMP...|OLD GEORGETOWN RD...|38.99336132|-77.10846417|      No|   No|             No|             No|   No|                No|    No|                No|     No|       No|   MD|     02 - Automobile|2000|    SUBARU|   OUTBACK|     WHITE|      Citation|21-902(b1)|Transportation Ar...|                     No|   WHITE|     M|          BETHESDA|          MD|      MD|    Q - Marked Laser|(38.9933613166667...|\n",
            "|   9/15/2012|    21:56:00|   MCP|5th district, Ger...|DRIVING, MOTOR VE...|FREDERICK RD @ GE...|39.19379768|-77.24335883|      No|   No|             No|             No|   No|                No|    No|                No|     No|       No|   MD|     02 - Automobile|1998|    TOYOTA|     CAMRY|     WHITE|      Citation| 16-101(a)|Transportation Ar...|                     No|   BLACK|     M|        GERMANTOWN|          MD|      MD|   A - Marked Patrol|(39.1937976833333...|\n",
            "|   8/29/2017|     0:27:00|   MCP|3rd district, Sil...|DRIVING WRONG WAY...|NB COLUMBIA PIKE ...|39.08277453|-76.94840312|      No|   No|             No|             No|   No|                No|    No|                No|     No|       No|   MD|     02 - Automobile|2000|      FORD|EXPEDITION|       TAN|      Citation| 21-308(a)|Transportation Ar...|                     No|   BLACK|     F|        ASPEN HILL|          MD|      MD|   A - Marked Patrol|(39.0827745274131...|\n",
            "+------------+------------+------+--------------------+--------------------+--------------------+-----------+------------+--------+-----+---------------+---------------+-----+------------------+------+------------------+-------+---------+-----+--------------------+----+----------+----------+----------+--------------+----------+--------------------+-----------------------+--------+------+------------------+------------+--------+--------------------+--------------------+\n",
            "only showing top 20 rows\n",
            "\n"
          ],
          "name": "stdout"
        }
      ]
    },
    {
      "cell_type": "code",
      "metadata": {
        "colab": {
          "base_uri": "https://localhost:8080/"
        },
        "id": "rm6M_2GfGxYM",
        "outputId": "f859ed7b-70fc-4e4e-f21d-081065b751cc"
      },
      "source": [
        "df_task1.select('VehicleType','Contributed To Accident').show()"
      ],
      "execution_count": 20,
      "outputs": [
        {
          "output_type": "stream",
          "text": [
            "+--------------------+-----------------------+\n",
            "|         VehicleType|Contributed To Accident|\n",
            "+--------------------+-----------------------+\n",
            "|08 - Recreational...|                    Yes|\n",
            "|     02 - Automobile|                     No|\n",
            "|     02 - Automobile|                     No|\n",
            "|     02 - Automobile|                     No|\n",
            "|     02 - Automobile|                     No|\n",
            "|     02 - Automobile|                     No|\n",
            "|     02 - Automobile|                     No|\n",
            "|     02 - Automobile|                     No|\n",
            "|          19 - Moped|                     No|\n",
            "|     02 - Automobile|                     No|\n",
            "|     02 - Automobile|                     No|\n",
            "|05 - Light Duty T...|                     No|\n",
            "|     02 - Automobile|                     No|\n",
            "|     02 - Automobile|                     No|\n",
            "|     02 - Automobile|                     No|\n",
            "|     02 - Automobile|                     No|\n",
            "|     02 - Automobile|                     No|\n",
            "|     02 - Automobile|                     No|\n",
            "|     02 - Automobile|                     No|\n",
            "|     02 - Automobile|                     No|\n",
            "+--------------------+-----------------------+\n",
            "only showing top 20 rows\n",
            "\n"
          ],
          "name": "stdout"
        }
      ]
    },
    {
      "cell_type": "code",
      "metadata": {
        "colab": {
          "base_uri": "https://localhost:8080/",
          "height": 656
        },
        "id": "SMXq2nnTe_Va",
        "outputId": "43e0a4b6-91fb-4e3f-a535-b07b9617aae2"
      },
      "source": [
        "# Group data from Vehicle type.\n",
        "group_data = df_task1.groupby([\"VehicleType\",\"Contributed To Accident\"]).agg({\"Contributed To Accident\":\"count\"})\n",
        "group_data = group_data.withColumnRenamed(\"count(Contributed To Accident)\",\"Number of Accidents\")\n",
        "\n",
        "# Dipaly Data\n",
        "group_data.show()\n",
        "\n",
        "# convert DataFrame into Pandas\n",
        "df_pandas = group_data.toPandas()\n",
        "df_pandas\n",
        "\n",
        "# Creating dimensions(VehicleType,Contributed To Accident,count)\n",
        "df_pivot = pd.pivot_table(\n",
        "\tdf_pandas,\n",
        "\tvalues=\"Number of Accidents\",\n",
        "\tindex=\"VehicleType\",\n",
        "\tcolumns=\"Contributed To Accident\",\n",
        "\taggfunc=np.sum\n",
        ")\n",
        "\n",
        "# Plot a bar chart using the DF\n",
        "ax=df_pivot.plot(kind=\"bar\")\n",
        "\n",
        "# Get a Matplotlib figure from the axes object for formatting purposes\n",
        "fig = ax.get_figure()\n",
        "\n",
        "# Change the plot dimensions (width, height)\n",
        "fig.set_size_inches(4, 6)\n",
        "\n",
        "# Change the axes labels\n",
        "ax.set_xlabel(\"VehicleType\")\n",
        "ax.set_ylabel(\"Number of Accidents\")\n",
        "\n",
        "# Visualize the data\n",
        "plt.show()\n",
        "\n",
        "\n"
      ],
      "execution_count": 30,
      "outputs": [
        {
          "output_type": "stream",
          "text": [
            "+--------------------+-----------------------+-------------------+\n",
            "|         VehicleType|Contributed To Accident|Number of Accidents|\n",
            "+--------------------+-----------------------+-------------------+\n",
            "|          19 - Moped|                     No|                  1|\n",
            "|08 - Recreational...|                    Yes|                  1|\n",
            "|     02 - Automobile|                     No|                 24|\n",
            "|05 - Light Duty T...|                     No|                  1|\n",
            "+--------------------+-----------------------+-------------------+\n",
            "\n"
          ],
          "name": "stdout"
        },
        {
          "output_type": "display_data",
          "data": {
            "image/png": "[encoded data removed]",
            "text/plain": [
              "<Figure size 288x432 with 1 Axes>"
            ]
          },
          "metadata": {
            "tags": [],
            "needs_background": "light"
          }
        }
      ]
    },
    {
      "cell_type": "markdown",
      "metadata": {
        "id": "PPKwbBvLbTlJ"
      },
      "source": [
        "**TASK 15 : The correlation between accidents and time of the day.**"
      ]
    },
    {
      "cell_type": "code",
      "metadata": {
        "id": "lRy48RDjbcD6"
      },
      "source": [
        ""
      ],
      "execution_count": null,
      "outputs": []
    }
  ]
}