{
  "nbformat": 4,
  "nbformat_minor": 0,
  "metadata": {
    "colab": {
      "name": "Copy of Traffic Violations Maryland.ipynb",
      "provenance": [],
      "collapsed_sections": [],
      "toc_visible": true,
      "include_colab_link": true
    },
    "kernelspec": {
      "name": "python3",
      "display_name": "Python 3"
    },
    "language_info": {
      "name": "python"
    }
  },
  "cells": [
    {
      "cell_type": "markdown",
      "metadata": {
        "id": "view-in-github",
        "colab_type": "text"
      },
      "source": [
        "<a href=\"https://colab.research.google.com/github/ImalkaPrasadini/Bigdata_Spark/blob/main/Copy_of_Traffic_Violations_Maryland.ipynb\" target=\"_parent\"><img src=\"https://colab.research.google.com/assets/colab-badge.svg\" alt=\"Open In Colab\"/></a>"
      ]
    },
    {
      "cell_type": "markdown",
      "metadata": {
        "id": "k9O9vjATJvzd"
      },
      "source": [
        "# **Traffic Violation Analysis**"
      ]
    },
    {
      "cell_type": "markdown",
      "metadata": {
        "id": "YUkU46hgjwzb"
      },
      "source": [
        "# **Download Java**"
      ]
    },
    {
      "cell_type": "code",
      "metadata": {
        "id": "m62q-s5Ijn3y"
      },
      "source": [
        "!apt-get install openjdk-8-jdk-headless -qq > /dev/null"
      ],
      "execution_count": null,
      "outputs": []
    },
    {
      "cell_type": "markdown",
      "metadata": {
        "id": "ZRCfA50Tj6Np"
      },
      "source": [
        "#  **Install Apache Spark 3.0.1 with Hadoop 2.7**"
      ]
    },
    {
      "cell_type": "code",
      "metadata": {
        "id": "SRNwF-yfkHeH"
      },
      "source": [
        "!wget -q https://www-us.apache.org/dist/spark/spark-3.1.1/spark-3.1.1-bin-hadoop3.2.tgz"
      ],
      "execution_count": null,
      "outputs": []
    },
    {
      "cell_type": "markdown",
      "metadata": {
        "id": "onDq9E36kWSA"
      },
      "source": [
        "# **Unzip Folder**"
      ]
    },
    {
      "cell_type": "code",
      "metadata": {
        "id": "Zj2wWWZokWzQ"
      },
      "source": [
        "!tar xf spark-3.1.1-bin-hadoop3.2.tgz"
      ],
      "execution_count": null,
      "outputs": []
    },
    {
      "cell_type": "markdown",
      "metadata": {
        "id": "NQX7PU0RkcTl"
      },
      "source": [
        "# **Install Find Spark**\n",
        "\n",
        "> It will locate Spark on the system and import it as a regular library.\n",
        "\n"
      ]
    },
    {
      "cell_type": "code",
      "metadata": {
        "id": "J6L2qUc8kted"
      },
      "source": [
        "!pip install -q findspark"
      ],
      "execution_count": null,
      "outputs": []
    },
    {
      "cell_type": "markdown",
      "metadata": {
        "id": "sVEPWRKAkxJu"
      },
      "source": [
        "# **Settin up Envirnmental Variables**\n",
        "\n",
        "\n",
        "> This will enable us to run Pyspark in the Colab environment.\n",
        "\n"
      ]
    },
    {
      "cell_type": "code",
      "metadata": {
        "id": "YXIAHRsNk9-9"
      },
      "source": [
        "import os\n",
        "os.environ[\"JAVA_HOME\"] = \"/usr/lib/jvm/java-8-openjdk-amd64\"\n",
        "os.environ[\"SPARK_HOME\"] = \"/content/spark-3.1.1-bin-hadoop3.2\""
      ],
      "execution_count": null,
      "outputs": []
    },
    {
      "cell_type": "code",
      "metadata": {
        "id": "ioxD5Lbxlm88"
      },
      "source": [
        "import findspark\n",
        "findspark.init()"
      ],
      "execution_count": null,
      "outputs": []
    },
    {
      "cell_type": "code",
      "metadata": {
        "colab": {
          "base_uri": "https://localhost:8080/",
          "height": 35
        },
        "id": "_8m98oO-lxYT",
        "outputId": "ae35519e-4358-4670-ea23-93d13cf72cb8"
      },
      "source": [
        "findspark.find()"
      ],
      "execution_count": null,
      "outputs": [
        {
          "output_type": "execute_result",
          "data": {
            "application/vnd.google.colaboratory.intrinsic+json": {
              "type": "string"
            },
            "text/plain": [
              "'/content/spark-3.1.1-bin-hadoop3.2'"
            ]
          },
          "metadata": {
            "tags": []
          },
          "execution_count": 7
        }
      ]
    },
    {
      "cell_type": "markdown",
      "metadata": {
        "id": "xOQin2cGI3Zq"
      },
      "source": [
        "# **Import dataset from the Drive**"
      ]
    },
    {
      "cell_type": "code",
      "metadata": {
        "id": "moYj7hf0IsJd",
        "colab": {
          "base_uri": "https://localhost:8080/"
        },
        "outputId": "924d2b1d-fe73-49cc-ac14-32440b86627b"
      },
      "source": [
        "from google.colab import drive\n",
        "drive.mount('/content/MyDrive')"
      ],
      "execution_count": null,
      "outputs": [
        {
          "output_type": "stream",
          "text": [
            "Mounted at /content/MyDrive\n"
          ],
          "name": "stdout"
        }
      ]
    },
    {
      "cell_type": "markdown",
      "metadata": {
        "id": "uxQmsXytmBVK"
      },
      "source": [
        "# **Loading data to PySpark**"
      ]
    },
    {
      "cell_type": "code",
      "metadata": {
        "id": "FfN1YMdznXCc"
      },
      "source": [
        "import pandas as pd\n",
        "import numpy as np\n",
        "import matplotlib.pyplot as plt\n",
        "from pyspark.sql import SparkSession\n",
        "spark = SparkSession.builder.master(\"local[*]\").getOrCreate()\n",
        "import pyspark.sql.functions as f\n",
        "from pyspark.sql.functions import *\n",
        "from pyspark.sql.types import DateType"
      ],
      "execution_count": null,
      "outputs": []
    },
    {
      "cell_type": "code",
      "metadata": {
        "colab": {
          "base_uri": "https://localhost:8080/"
        },
        "id": "i56vrPa-mIcC",
        "outputId": "84c3b28d-313a-443b-ffea-640e5ce91653"
      },
      "source": [
        "# Load data to Task 1.\n",
        "data = spark.read.csv('/content/MyDrive/MyDrive/BigData/Dataset/DataSet.csv',header=True)\n",
        "data.show()"
      ],
      "execution_count": null,
      "outputs": [
        {
          "output_type": "stream",
          "text": [
            "+------------+------------+--------------------+--------------------+-----+---------------+---------------+-------+---------------+----+-----------+--------------+-----------------------+\n",
            "|Date Of Stop|Time Of Stop|           SubAgency|            Location|Belts|Personal Injury|Property Damage|Alcohol|    VehicleType| _c9|       Make|Violation Type|Contributed To Accident|\n",
            "+------------+------------+--------------------+--------------------+-----+---------------+---------------+-------+---------------+----+-----------+--------------+-----------------------+\n",
            "|  09/24/2013|    17:11:00|3rd district, Sil...|     8804 FLOWER AVE|   No|             No|             No|     No|02 - Automobile|null|       FORD|      Citation|                     No|\n",
            "|  08/29/2017|    10:19:00|2nd district, Bet...|WISCONSIN AVE@ EL...|   No|             No|             No|     No|02 - Automobile|null|     TOYOTA|      Citation|                     No|\n",
            "|  12/01/2014|    12:52:00|6th district, Gai...|CHRISTOPHER AVE/M...|   No|             No|            Yes|     No|02 - Automobile|null|      HONDA|      Citation|                     No|\n",
            "|  08/29/2017|    09:22:00|3rd district, Sil...|CHERRY HILL RD./C...|   No|             No|            Yes|     No|02 - Automobile|null|       DODG|      Citation|                     No|\n",
            "|  08/28/2017|    23:41:00|6th district, Gai...|355 @ SOUTH WESTL...|   No|             No|             No|     No|02 - Automobile|null|MINI COOPER|      Citation|                     No|\n",
            "|  08/27/2013|    00:55:00|2nd district, Bet...|CONNECTICUT/CHEVY...|   No|             No|             No|     No|02 - Automobile|null|    HYUNDAI|      Citation|                     No|\n",
            "|  10/08/2013|    13:23:00|4th district, Whe...|GEORGIA AVE / BEL...|   No|             No|             No|     No|02 - Automobile|null|       FORD|      Citation|                     No|\n",
            "|  04/24/2015|    00:38:00|1st district, Roc...|EB MONTROSE PKWY/...|   No|             No|             No|     No|02 - Automobile|null|      DODGE|      Citation|                     No|\n",
            "|  08/28/2017|    23:41:00|6th district, Gai...|355 @ SOUTH WESTL...|   No|             No|             No|     No|02 - Automobile|null|MINI COOPER|      Citation|                     No|\n",
            "|  08/28/2017|    23:41:00|6th district, Gai...|355 @ SOUTH WESTL...|   No|             No|             No|     No|02 - Automobile|null|MINI COOPER|      Citation|                     No|\n",
            "|  02/14/2014|    20:10:00|1st district, Roc...|GATEWAY CENTER DR...|   No|             No|             No|     No|02 - Automobile|null|       CADI|      Citation|                     No|\n",
            "|  03/19/2012|    16:10:00|2nd district, Bet...|CLARENDON RD @ EL...|   No|             No|             No|     No|02 - Automobile|null|      HONDA|      Citation|                     No|\n",
            "|  06/09/2012|    21:19:00|3rd district, Sil...|2068 HARLEQUIN TE...|   No|             No|             No|     No|02 - Automobile|null|  CHEVROLET|      Citation|                     No|\n",
            "|  12/20/2012|    00:41:00|2nd district, Bet...|NORFOLK AVE /  ST...|   No|             No|             No|     No|02 - Automobile|null|       AUDI|      Citation|                     No|\n",
            "|  07/20/2012|    23:12:00|5th district, Ger...|WISTERIA DR @ WAR...|   No|             No|             No|     No|02 - Automobile|null|       TOYT|      Citation|                     No|\n",
            "|  09/11/2012|    21:47:00|4th district, Whe...|TWIG RD AT GOOD H...|  Yes|             No|             No|     No|02 - Automobile|null|      DODGE|      Citation|                     No|\n",
            "|  07/23/2013|    23:15:00|4th district, Whe...|108 / OLD BALTIMO...|   No|             No|             No|     No|02 - Automobile|null|     SATURN|      Citation|                     No|\n",
            "|  10/28/2013|    17:41:00|6th district, Gai...|EMORY GROVE RD @ ...|   No|             No|             No|     No|02 - Automobile|null|      HONDA|      Citation|                    Yes|\n",
            "|  08/28/2017|    23:41:00|6th district, Gai...|355 @ SOUTH WESTL...|   No|             No|             No|     No|02 - Automobile|null|MINI COOPER|      Citation|                     No|\n",
            "|  12/17/2015|    13:15:00|5th district, Ger...|19916 CRYSTAL ROC...|   No|             No|             No|     No|02 - Automobile|null|     TOYOTA|      Citation|                     No|\n",
            "+------------+------------+--------------------+--------------------+-----+---------------+---------------+-------+---------------+----+-----------+--------------+-----------------------+\n",
            "only showing top 20 rows\n",
            "\n"
          ],
          "name": "stdout"
        }
      ]
    },
    {
      "cell_type": "markdown",
      "metadata": {
        "id": "TPQnWWMAMFxF"
      },
      "source": [
        "### **1. Identify the probability of accidents which occur when the driver is without seat belts and with alcohol**"
      ]
    },
    {
      "cell_type": "code",
      "metadata": {
        "colab": {
          "base_uri": "https://localhost:8080/"
        },
        "id": "Om7QTeWCAe0A",
        "outputId": "ac84d633-31d5-4203-9dae-29f6b8deaa1c"
      },
      "source": [
        "# selecting relevant columns\n",
        "data_task = data.select('Belts','Alcohol','Contributed to Accident')\n",
        "\n",
        "# Filter data with seat belt violations\n",
        "df_task2 = data_task.where(data_task['Belts'] == 'Yes')\n",
        "\n",
        "count1 = df_task2.agg({\"Belts\":\"count\"})\n",
        "count1 = count1.withColumnRenamed(\"count(Belts)\",\"BeltViolationsCount\")\n",
        "\n",
        "df_task2.show()\n",
        "\n",
        "#counting number of occurrence\n",
        "x1 = df_task2.count()\n",
        "print (x1)\n",
        "\n",
        "#----------------------------------------------------------------------------------\n",
        "\n",
        "# Filter accidents with seat belt violations\n",
        "df_task3 = df_task2.where(df_task2['Contributed to Accident'] == 'Yes')\n",
        "\n",
        "count2 = df_task3.agg({\"Contributed to Accident\":\"count\"})\n",
        "count2 = count2.withColumnRenamed(\"count(Contributed to Accident)\",\"BeltViolationsAccidentsCount\")\n",
        "\n",
        "df_task3.show()\n",
        "\n",
        "#counting number of occurrence\n",
        "y1 = df_task3.count()\n",
        "print (y1)\n",
        "\n",
        "#-----------------------------------------------------------------------------------\n",
        "\n",
        "# Filter data related to alcohol\n",
        "df_task4 = data_task.where(data_task['Alcohol'] == 'Yes')\n",
        "\n",
        "count3 = df_task4.agg({\"Alcohol\":\"count\"})\n",
        "count3 = count3.withColumnRenamed(\"count(Alcohol)\",\"WithAlcoholCount\")\n",
        "\n",
        "df_task4.show()\n",
        "\n",
        "#counting number of occurrence\n",
        "x2 = df_task4.count()\n",
        "print (x2)\n",
        "\n",
        "\n",
        "#------------------------------------------------------------------------------------\n",
        "\n",
        "# Filter accidents with alcohol\n",
        "df_task5 = df_task4.where(df_task4['Contributed to Accident'] == 'Yes')\n",
        "\n",
        "count4 = df_task5.agg({\"Contributed to Accident\":\"count\"})\n",
        "count4 = count4.withColumnRenamed(\"count(Contributed to Accident)\",\"WithAlcoholAccidentsCount\")\n",
        "\n",
        "df_task5.show()\n",
        "\n",
        "#counting number of occurrence\n",
        "y2 = df_task5.count()\n",
        "print (y2)"
      ],
      "execution_count": null,
      "outputs": [
        {
          "output_type": "stream",
          "text": [
            "+-----+-------+-----------------------+\n",
            "|Belts|Alcohol|Contributed to Accident|\n",
            "+-----+-------+-----------------------+\n",
            "|  Yes|     No|                     No|\n",
            "|  Yes|     No|                     No|\n",
            "|  Yes|     No|                     No|\n",
            "|  Yes|     No|                    Yes|\n",
            "|  Yes|     No|                     No|\n",
            "|  Yes|     No|                     No|\n",
            "|  Yes|     No|                     No|\n",
            "|  Yes|     No|                     No|\n",
            "|  Yes|     No|                     No|\n",
            "|  Yes|     No|                     No|\n",
            "|  Yes|     No|                     No|\n",
            "|  Yes|     No|                     No|\n",
            "|  Yes|     No|                     No|\n",
            "|  Yes|     No|                     No|\n",
            "|  Yes|     No|                     No|\n",
            "|  Yes|     No|                    Yes|\n",
            "|  Yes|     No|                     No|\n",
            "|  Yes|     No|                     No|\n",
            "|  Yes|     No|                     No|\n",
            "|  Yes|     No|                     No|\n",
            "+-----+-------+-----------------------+\n",
            "only showing top 20 rows\n",
            "\n",
            "34851\n",
            "+-----+-------+-----------------------+\n",
            "|Belts|Alcohol|Contributed to Accident|\n",
            "+-----+-------+-----------------------+\n",
            "|  Yes|     No|                    Yes|\n",
            "|  Yes|     No|                    Yes|\n",
            "|  Yes|     No|                    Yes|\n",
            "|  Yes|     No|                    Yes|\n",
            "|  Yes|     No|                    Yes|\n",
            "|  Yes|     No|                    Yes|\n",
            "|  Yes|     No|                    Yes|\n",
            "|  Yes|     No|                    Yes|\n",
            "|  Yes|     No|                    Yes|\n",
            "|  Yes|     No|                    Yes|\n",
            "|  Yes|     No|                    Yes|\n",
            "|  Yes|     No|                    Yes|\n",
            "|  Yes|     No|                    Yes|\n",
            "|  Yes|     No|                    Yes|\n",
            "|  Yes|     No|                    Yes|\n",
            "|  Yes|     No|                    Yes|\n",
            "|  Yes|     No|                    Yes|\n",
            "|  Yes|     No|                    Yes|\n",
            "|  Yes|     No|                    Yes|\n",
            "|  Yes|     No|                    Yes|\n",
            "+-----+-------+-----------------------+\n",
            "only showing top 20 rows\n",
            "\n",
            "3089\n",
            "+-----+-------+-----------------------+\n",
            "|Belts|Alcohol|Contributed to Accident|\n",
            "+-----+-------+-----------------------+\n",
            "|   No|    Yes|                     No|\n",
            "|   No|    Yes|                     No|\n",
            "|   No|    Yes|                     No|\n",
            "|   No|    Yes|                     No|\n",
            "|   No|    Yes|                     No|\n",
            "|   No|    Yes|                     No|\n",
            "|   No|    Yes|                     No|\n",
            "|   No|    Yes|                     No|\n",
            "|   No|    Yes|                     No|\n",
            "|   No|    Yes|                     No|\n",
            "|   No|    Yes|                     No|\n",
            "|   No|    Yes|                     No|\n",
            "|   No|    Yes|                     No|\n",
            "|   No|    Yes|                     No|\n",
            "|   No|    Yes|                     No|\n",
            "|   No|    Yes|                     No|\n",
            "|   No|    Yes|                    Yes|\n",
            "|   No|    Yes|                     No|\n",
            "|   No|    Yes|                     No|\n",
            "|   No|    Yes|                     No|\n",
            "+-----+-------+-----------------------+\n",
            "only showing top 20 rows\n",
            "\n",
            "1730\n",
            "+-----+-------+-----------------------+\n",
            "|Belts|Alcohol|Contributed to Accident|\n",
            "+-----+-------+-----------------------+\n",
            "|   No|    Yes|                    Yes|\n",
            "|   No|    Yes|                    Yes|\n",
            "|  Yes|    Yes|                    Yes|\n",
            "|  Yes|    Yes|                    Yes|\n",
            "|  Yes|    Yes|                    Yes|\n",
            "|  Yes|    Yes|                    Yes|\n",
            "|  Yes|    Yes|                    Yes|\n",
            "|   No|    Yes|                    Yes|\n",
            "|   No|    Yes|                    Yes|\n",
            "|   No|    Yes|                    Yes|\n",
            "|   No|    Yes|                    Yes|\n",
            "|   No|    Yes|                    Yes|\n",
            "|   No|    Yes|                    Yes|\n",
            "|   No|    Yes|                    Yes|\n",
            "|   No|    Yes|                    Yes|\n",
            "|   No|    Yes|                    Yes|\n",
            "|   No|    Yes|                    Yes|\n",
            "|   No|    Yes|                    Yes|\n",
            "|   No|    Yes|                    Yes|\n",
            "|   No|    Yes|                    Yes|\n",
            "+-----+-------+-----------------------+\n",
            "only showing top 20 rows\n",
            "\n",
            "163\n"
          ],
          "name": "stdout"
        }
      ]
    },
    {
      "cell_type": "code",
      "metadata": {
        "colab": {
          "base_uri": "https://localhost:8080/"
        },
        "id": "Xmhj8oe6CT55",
        "outputId": "f6c2bba4-fd07-4a61-d2b3-b76106d17d1b"
      },
      "source": [
        "#find probabilities\n",
        "\n",
        "#probability of causing accidents with seat belt violations(p1) = count2/count1\n",
        "\n",
        "p1 = (y1/x1)\n",
        "print (\"Probability of causing accidents with seat belt violations = \",p1)\n",
        "\n",
        "#probability of causing accidents with alcohol(p2) = count4/count3\n",
        "\n",
        "p2 = (y2/x2)\n",
        "print (\"Probability of causing accidents with alcohol = \",p2)"
      ],
      "execution_count": null,
      "outputs": [
        {
          "output_type": "stream",
          "text": [
            "Probability of causing accidents with seat belt violations =  0.0886344724685088\n",
            "Probability of causing accidents with alcohol =  0.09421965317919075\n"
          ],
          "name": "stdout"
        }
      ]
    },
    {
      "cell_type": "markdown",
      "metadata": {
        "id": "0DNs3Xj0Q9AO"
      },
      "source": [
        "### **2. Identify the SubAgencies which have higher number of personal injury or property damage**\n"
      ]
    },
    {
      "cell_type": "code",
      "metadata": {
        "colab": {
          "base_uri": "https://localhost:8080/",
          "height": 736
        },
        "id": "_Z8JQoDeMpcQ",
        "outputId": "7297b8bc-1ec4-4f65-c6d0-0bcfb0755cf3"
      },
      "source": [
        "# Select relevant data for the task\n",
        "df_task3 = data.select('SubAgency','Personal Injury','Property Damage')\n",
        "\n",
        "#Filter data where Personal injury or Property Damage has been occured\n",
        "df_task3 = df_task3.where((df_task3['Personal Injury']=='Yes') | (df_task3['Property Damage']=='Yes'))\n",
        "\n",
        "# Take count of each\n",
        "count_pi = 0\n",
        "count_pd = 0 \n",
        "df_task3 = df_task3.withColumn('piCount',f.when((f.col(\"Personal Injury\") == 'Yes') , count_pi+1).otherwise(count_pi)).withColumn('pdCount',f.when((f.col(\"Property Damage\") == 'Yes') , count_pd+1).otherwise(count_pd))\n",
        "\n",
        "# Grouping in to SubAgency\n",
        "group_data = df_task3.groupBy('SubAgency').agg(sum('piCount').alias('Personal Injury Count'),\n",
        "                                  sum('pdCount').alias('Property Damage Count'))\n",
        "group_data.show()\n",
        "\n",
        "# convert DataFrame into Pandas\n",
        "df_pandas = group_data.toPandas()\n",
        "\n",
        "# Chart\n",
        "table = pd.pivot_table(data=df_pandas,index=['SubAgency'])\n",
        "table.plot(kind='bar',rot=90, ylabel='Count')\n"
      ],
      "execution_count": null,
      "outputs": [
        {
          "output_type": "stream",
          "text": [
            "+--------------------+---------------------+---------------------+\n",
            "|           SubAgency|Personal Injury Count|Property Damage Count|\n",
            "+--------------------+---------------------+---------------------+\n",
            "|5th district, Ger...|                 1568|                 2223|\n",
            "|4th district, Whe...|                 3609|                 6076|\n",
            "|3rd district, Sil...|                 2537|                 5231|\n",
            "|6th district, Gai...|                 1532|                 2372|\n",
            "|2nd district, Bet...|                 2375|                 3726|\n",
            "|Headquarters and ...|                   85|                  167|\n",
            "|1st district, Roc...|                 1399|                 1884|\n",
            "+--------------------+---------------------+---------------------+\n",
            "\n"
          ],
          "name": "stdout"
        },
        {
          "output_type": "execute_result",
          "data": {
            "text/plain": [
              "<matplotlib.axes._subplots.AxesSubplot at 0x7f28fc62db50>"
            ]
          },
          "metadata": {
            "tags": []
          },
          "execution_count": 26
        },
        {
          "output_type": "display_data",
          "data": {
            "image/png": "[encoded data removed]",
            "text/plain": [
              "<Figure size 432x288 with 1 Axes>"
            ]
          },
          "metadata": {
            "tags": [],
            "needs_background": "light"
          }
        }
      ]
    },
    {
      "cell_type": "markdown",
      "metadata": {
        "id": "sZEj11x-Ulkw"
      },
      "source": [
        "### **3. Identify the locations of maximum number of traffic violations which occur due to alcohol consumption**"
      ]
    },
    {
      "cell_type": "code",
      "metadata": {
        "colab": {
          "base_uri": "https://localhost:8080/",
          "height": 927
        },
        "id": "8BeO92snUpr7",
        "outputId": "c9af3661-1ca4-4932-8ba6-00458d423fd8"
      },
      "source": [
        "# Select relevant Columns\n",
        "df_task4 = data.select('Location','Alcohol')\n",
        "\n",
        "# Filter location that Alchol violation has been happened.\n",
        "df_task4 = df_task4.where(df_task4['Alcohol']=='Yes')\n",
        "# df_task4.show()\n",
        "\n",
        "# Group by the Locations\n",
        "group_data = df_task4.groupby('Location').agg(count('Alcohol').alias('Number of Alcohol Violations'))\n",
        "group_data = group_data.sort(col(\"Number of Alcohol Violations\").desc()).limit(20)\n",
        "group_data.show()\n",
        "\n",
        "# Chart\n",
        "pd_task4 = group_data.toPandas()\n",
        "\n",
        "plt.bar(pd_task4[\"Location\"],pd_task4[\"Number of Alcohol Violations\"])\n",
        "plt.xticks(rotation=90)\n",
        "\n",
        "# visualize chart\n",
        "plt.show()\n"
      ],
      "execution_count": null,
      "outputs": [
        {
          "output_type": "stream",
          "text": [
            "+--------------------+----------------------------+\n",
            "|            Location|Number of Alcohol Violations|\n",
            "+--------------------+----------------------------+\n",
            "|RIDGE RD AND BETH...|                          77|\n",
            "|WOODFIELD ROAD AN...|                          53|\n",
            "|RIDGE ROAD AND BR...|                          42|\n",
            "|RIDGE ROAD AND BE...|                          34|\n",
            "|FATHER HURLEY BLV...|                          32|\n",
            "|VEIRS MILL RD @ N...|                          26|\n",
            "|RIDGE ROAD AND OA...|                          25|\n",
            "|WHITES FERRY RD/W...|                          25|\n",
            "|RIDGE RD AND APPL...|                          23|\n",
            "|NEW HAMPSHIRE AVE...|                          22|\n",
            "|10904 BETHESDA CH...|                          19|\n",
            "|GEORGIA AVE / ROS...|                          18|\n",
            "|SHADY GROVE RD / ...|                          17|\n",
            "|CENTURY BLVD AND ...|                          17|\n",
            "|RIDGE ROAD AND SK...|                          17|\n",
            "| RIDGE RD AND OAK DR|                          16|\n",
            "|WESTLAKE DRIVE @ ...|                          16|\n",
            "|RIDGE RD AND SKYL...|                          15|\n",
            "|BETHESDA CHURCH R...|                          15|\n",
            "|FIELDS RD / COPLE...|                          15|\n",
            "+--------------------+----------------------------+\n",
            "\n"
          ],
          "name": "stdout"
        },
        {
          "output_type": "display_data",
          "data": {
            "image/png": "[encoded data removed]",
            "text/plain": [
              "<Figure size 432x288 with 1 Axes>"
            ]
          },
          "metadata": {
            "tags": [],
            "needs_background": "light"
          }
        }
      ]
    },
    {
      "cell_type": "markdown",
      "metadata": {
        "id": "7YvVv0vjXjyC"
      },
      "source": [
        "### **4. Identify whether there is a relationship between manufacturer of the vehicle and accidents**"
      ]
    },
    {
      "cell_type": "code",
      "metadata": {
        "colab": {
          "base_uri": "https://localhost:8080/",
          "height": 447
        },
        "id": "qsAs036wXvgX",
        "outputId": "6c28c6ba-e307-4b58-b309-fb7114022071"
      },
      "source": [
        "# Select relevent columns\n",
        "df_task8 = data.select('Make','Contributed To Accident')\n",
        "\n",
        "# Filter the data where accidents occur\n",
        "df_task8 = df_task8.where(df_task8['Contributed to Accident'] == 'Yes')\n",
        "\n",
        "# Group data from Vehicle type.\n",
        "group_data = df_task8.groupby([\"Make\",\"Contributed To Accident\"]).agg({\"Contributed To Accident\":\"count\"})\n",
        "group_data = group_data.withColumnRenamed(\"count(Contributed To Accident)\",\"Number of Accidents\")\n",
        "\n",
        "group_data = group_data.sort(col(\"Number of Accidents\").desc()).limit(5)\n",
        "\n",
        "# Dipaly Data\n",
        "group_data.show()\n",
        "group_data.count()\n",
        "\n",
        "# Chart\n",
        "group_data = group_data.toPandas()\n",
        "group_data.plot.bar(title=\"Contributed To Accident\",x='Make',y='Number of Accidents',figsize=(6,3),xlabel='Manufacturer',ylabel='Accident Count');"
      ],
      "execution_count": null,
      "outputs": [
        {
          "output_type": "stream",
          "text": [
            "+------+-----------------------+-------------------+\n",
            "|  Make|Contributed To Accident|Number of Accidents|\n",
            "+------+-----------------------+-------------------+\n",
            "|TOYOTA|                    Yes|               3548|\n",
            "| HONDA|                    Yes|               3306|\n",
            "|  FORD|                    Yes|               2824|\n",
            "|NISSAN|                    Yes|               1519|\n",
            "|  TOYT|                    Yes|               1365|\n",
            "+------+-----------------------+-------------------+\n",
            "\n"
          ],
          "name": "stdout"
        },
        {
          "output_type": "display_data",
          "data": {
            "image/png": "[encoded data removed]",
            "text/plain": [
              "<Figure size 432x216 with 1 Axes>"
            ]
          },
          "metadata": {
            "tags": [],
            "needs_background": "light"
          }
        }
      ]
    },
    {
      "cell_type": "markdown",
      "metadata": {
        "id": "UH8Jk68Wa8pC"
      },
      "source": [
        "### **5. The number of accidents which occur due to traffic violations based on vehicle type**"
      ]
    },
    {
      "cell_type": "code",
      "metadata": {
        "colab": {
          "base_uri": "https://localhost:8080/",
          "height": 537
        },
        "id": "AX4K7Or-bA9n",
        "outputId": "b0b3469f-1275-45df-e8e3-042c02bc56b8"
      },
      "source": [
        "# Select relevent columns\n",
        "df_task1 = data.select('VehicleType','Contributed To Accident')\n",
        "# df_task1.show()\n",
        "\n",
        "# Filter the data where accidents occur\n",
        "df_task1 = df_task1.where(df_task1['Contributed to Accident'] == 'Yes')\n",
        "\n",
        "# Group data from Vehicle type.\n",
        "group_data = df_task1.groupby([\"VehicleType\",\"Contributed To Accident\"]).agg(count(\"Contributed To Accident\").alias('Number of Accidents'))\n",
        "group_data = group_data.sort(col('Number of Accidents').desc()).limit(5)\n",
        "\n",
        "# Dipaly Data\n",
        "group_data.show()\n",
        "\n",
        "# convert DataFrame into Pandas\n",
        "df_pandas = group_data.toPandas()\n",
        "df_pandas\n",
        "\n",
        "# Chart\n",
        "plt.bar(df_pandas[\"VehicleType\"],df_pandas[\"Number of Accidents\"])\n",
        "plt.xticks(rotation=90)\n",
        "\n",
        "# visualize chart\n",
        "plt.show()\n"
      ],
      "execution_count": null,
      "outputs": [
        {
          "output_type": "stream",
          "text": [
            "+--------------------+-----------------------+-------------------+\n",
            "|         VehicleType|Contributed To Accident|Number of Accidents|\n",
            "+--------------------+-----------------------+-------------------+\n",
            "|     02 - Automobile|                    Yes|              23354|\n",
            "|05 - Light Duty T...|                    Yes|               1319|\n",
            "|          28 - Other|                    Yes|                529|\n",
            "|     01 - Motorcycle|                    Yes|                348|\n",
            "|  03 - Station Wagon|                    Yes|                338|\n",
            "+--------------------+-----------------------+-------------------+\n",
            "\n"
          ],
          "name": "stdout"
        },
        {
          "output_type": "display_data",
          "data": {
            "image/png": "[encoded data removed]",
            "text/plain": [
              "<Figure size 432x288 with 1 Axes>"
            ]
          },
          "metadata": {
            "tags": [],
            "needs_background": "light"
          }
        }
      ]
    },
    {
      "cell_type": "markdown",
      "metadata": {
        "id": "jyLWnGI4eMKh"
      },
      "source": [
        "### **6. Identify the correlation between accidents and time of the day**"
      ]
    },
    {
      "cell_type": "code",
      "metadata": {
        "colab": {
          "base_uri": "https://localhost:8080/",
          "height": 962
        },
        "id": "Oj9bkcuIeUVW",
        "outputId": "898f948c-9cbe-4aab-9992-8cc22f1cdb8b"
      },
      "source": [
        "# Select relevent columns\n",
        "df_task15 = data.select('Time Of Stop','Contributed To Accident')\n",
        "\n",
        "# Filter the data where accidents occur\n",
        "df_task15 = df_task15.where(df_task15['Contributed to Accident'] == 'Yes')\n",
        "\n",
        "#Sort above based on time\n",
        "#sorted=group_data.orderBy('Time Of Stop')\n",
        "#sorted.show()\n",
        "\n",
        "# Here contain 24hr clock. To get more simple consider only the hour that accident is happened. \n",
        "#Take the hour for each timestamp\n",
        "sorted = (df_task15.select(\"Time Of Stop\").withColumn(\"hour\", hour(\"Time Of Stop\")))\n",
        "\n",
        "\n",
        "#Join above datafrmaes by outter join.\n",
        "df = df_task15.join(sorted, on=['Time Of Stop'], how='outer')\n",
        "\n",
        "\n",
        "\n",
        "# Group data from Vehicle type.\n",
        "group_data = df.groupby([\"hour\",\"Contributed To Accident\"]).agg(count(\"Contributed To Accident\").alias('Number of Accidents'))\n",
        "group_data=group_data.sort('hour')\n",
        "\n",
        "# Dipaly Data\n",
        "group_data.show()\n",
        "\n",
        "\n",
        "# Chart\n",
        "# convert DataFrame into Pandas\n",
        "df_pandas = group_data.toPandas()\n",
        "df_pandas\n",
        "\n",
        "# Creating dimensions(VehicleType,Contributed To Accident,count)\n",
        "df_pivot = pd.pivot_table(\n",
        "\tdf_pandas,\n",
        "\tvalues=\"Number of Accidents\",\n",
        "\tindex=\"hour\",\n",
        "\tcolumns=\"Contributed To Accident\",\n",
        "\taggfunc=np.sum\n",
        ")\n",
        "\n",
        "# Plot a bar chart using the DF\n",
        "ax=df_pivot.plot(kind=\"bar\")\n",
        "\n",
        "# Get a Matplotlib figure from the axes object for formatting purposes\n",
        "fig = ax.get_figure()\n",
        "\n",
        "# Change the plot dimensions (width, height)\n",
        "fig.set_size_inches(10, 8)\n",
        "\n",
        "# Change the axes labels\n",
        "ax.set_xlabel(\"Hour of Day\")\n",
        "ax.set_ylabel(\"Number of Accidents\")\n",
        "\n",
        "\n",
        "# Visualize the data\n",
        "plt.show()\n",
        "\n"
      ],
      "execution_count": null,
      "outputs": [
        {
          "output_type": "stream",
          "text": [
            "+----+-----------------------+-------------------+\n",
            "|hour|Contributed To Accident|Number of Accidents|\n",
            "+----+-----------------------+-------------------+\n",
            "|   0|                    Yes|              25569|\n",
            "|   1|                    Yes|              20469|\n",
            "|   2|                    Yes|              17916|\n",
            "|   3|                    Yes|              21800|\n",
            "|   4|                    Yes|              11633|\n",
            "|   5|                    Yes|               8236|\n",
            "|   6|                    Yes|              11085|\n",
            "|   7|                    Yes|              21691|\n",
            "|   8|                    Yes|              32125|\n",
            "|   9|                    Yes|              25794|\n",
            "|  10|                    Yes|              18292|\n",
            "|  11|                    Yes|              21732|\n",
            "|  12|                    Yes|              20813|\n",
            "|  13|                    Yes|              20124|\n",
            "|  14|                    Yes|              25619|\n",
            "|  15|                    Yes|              33790|\n",
            "|  16|                    Yes|              53687|\n",
            "|  17|                    Yes|              62465|\n",
            "|  18|                    Yes|              43339|\n",
            "|  19|                    Yes|              37992|\n",
            "+----+-----------------------+-------------------+\n",
            "only showing top 20 rows\n",
            "\n"
          ],
          "name": "stdout"
        },
        {
          "output_type": "display_data",
          "data": {
            "image/png": "[encoded data removed]",
            "text/plain": [
              "<Figure size 720x576 with 1 Axes>"
            ]
          },
          "metadata": {
            "tags": [],
            "needs_background": "light"
          }
        }
      ]
    },
    {
      "cell_type": "markdown",
      "metadata": {
        "id": "MWmYt8sTgPRo"
      },
      "source": [
        "### **7. Identify the sub agencies which occur the least number of accidents**"
      ]
    },
    {
      "cell_type": "code",
      "metadata": {
        "colab": {
          "base_uri": "https://localhost:8080/",
          "height": 704
        },
        "id": "8QzjWq0SgRTO",
        "outputId": "82e01f6e-7d0d-4c9d-fd5a-5d5ed4a90486"
      },
      "source": [
        "# Select relevent columns\n",
        "df_task1 = data.select('SubAgency','Contributed to Accident')\n",
        "\n",
        "# Filter the data where Accidents occured\n",
        "df_task1 = df_task1.where(df_task1['Contributed to Accident'] == 'Yes')\n",
        "\n",
        "# Remove null values\n",
        "df_task1.dropna(subset=[\"Contributed to Accident\"])\n",
        "\n",
        "# Group data into SubAgencies and Renaming aggregated column\n",
        "group_data = df_task1.groupby(\"SubAgency\").agg(count(\"Contributed to Accident\").alias('Number of Accidents'))\n",
        "\n",
        "# Sort data by count\n",
        "group_data = group_data.sort('Number of Accidents')\n",
        "\n",
        "# Display data\n",
        "group_data.show()\n",
        "\n",
        "# Convert Dataframe to pandas\n",
        "df_pandas = group_data.toPandas()\n",
        "\n",
        "# Plot the chart using matplotlib\n",
        "plt.bar(df_pandas[\"SubAgency\"],df_pandas[\"Number of Accidents\"])\n",
        "plt.xticks(rotation=90)\n",
        "\n",
        "# visualize chart\n",
        "plt.show()"
      ],
      "execution_count": null,
      "outputs": [
        {
          "output_type": "stream",
          "text": [
            "+--------------------+-------------------+\n",
            "|           SubAgency|Number of Accidents|\n",
            "+--------------------+-------------------+\n",
            "|Headquarters and ...|                250|\n",
            "|5th district, Ger...|               2501|\n",
            "|1st district, Roc...|               2645|\n",
            "|6th district, Gai...|               3103|\n",
            "|3rd district, Sil...|               5140|\n",
            "|2nd district, Bet...|               5152|\n",
            "|4th district, Whe...|               7849|\n",
            "+--------------------+-------------------+\n",
            "\n"
          ],
          "name": "stdout"
        },
        {
          "output_type": "display_data",
          "data": {
            "image/png": "[encoded data removed]",
            "text/plain": [
              "<Figure size 432x288 with 1 Axes>"
            ]
          },
          "metadata": {
            "tags": [],
            "needs_background": "light"
          }
        }
      ]
    },
    {
      "cell_type": "markdown",
      "metadata": {
        "id": "gwDBLpzUhT6a"
      },
      "source": [
        "### **8. Identify the most commonly occurring violation type which causes an accident traffic violation(Warning, Citation, SERO) from 2012 to 2018**"
      ]
    },
    {
      "cell_type": "code",
      "metadata": {
        "colab": {
          "base_uri": "https://localhost:8080/",
          "height": 881
        },
        "id": "lkl8OMgxhXU2",
        "outputId": "b1eeb387-166c-4814-ffee-4bbdefeb46f1"
      },
      "source": [
        "# Select relevent columns \n",
        "df_task2 = data.select(f.year(f.to_timestamp(data['Date Of Stop'],'MM/dd/yyyy')).alias('Year'),data['Violation Type'])\n",
        "\n",
        "# Remove null values in Year\n",
        "df_task2.dropna(subset=[\"Year\"])\n",
        "\n",
        "# Filter data between 2012 and 2018\n",
        "df_task2 = df_task2.where((df_task2['Year']>='2012') & (df_task2['Year']<='2018'))\n",
        "\n",
        "# Group data from Violation type and Year. Rename the aggregated column\n",
        "group_data = df_task2.groupby([\"Violation Type\",\"Year\"]).agg({\"Year\":\"count\"})\n",
        "group_data = group_data.withColumnRenamed(\"count(Year)\",\"Number of Violations\")\n",
        "\n",
        "# Dipaly Data\n",
        "group_data.show()\n",
        "\n",
        "# convert DataFrame into Pandas\n",
        "df_pandas = group_data.toPandas()\n",
        "\n",
        "# Creating Pviot using 3 dimensions(Violation Type, Year,Count)\n",
        "df_pivot = pd.pivot_table(\n",
        "\tdf_pandas,\n",
        "\tvalues=\"Number of Violations\",\n",
        "\tindex=\"Violation Type\",\n",
        "\tcolumns=\"Year\",\n",
        "\taggfunc=np.sum\n",
        ")\n",
        "\n",
        "# Plot a bar chart using the DF\n",
        "ax = df_pivot.plot(kind=\"bar\")\n",
        "\n",
        "# Get a Matplotlib figure from the axes object for formatting purposes\n",
        "fig = ax.get_figure()\n",
        "\n",
        "# Change the plot dimensions (width, height)\n",
        "fig.set_size_inches(7, 6)\n",
        "\n",
        "# Change the axes labels\n",
        "ax.set_xlabel(\"Violation Type\")\n",
        "ax.set_ylabel(\"Number of Violations\")\n",
        "\n",
        "# Visualize the data\n",
        "plt.show()"
      ],
      "execution_count": null,
      "outputs": [
        {
          "output_type": "stream",
          "text": [
            "+--------------+----+--------------------+\n",
            "|Violation Type|Year|Number of Violations|\n",
            "+--------------+----+--------------------+\n",
            "|         ESERO|2014|                8212|\n",
            "|      Citation|2012|               55999|\n",
            "|       Warning|2015|              115926|\n",
            "|      Citation|2018|               28109|\n",
            "|       Warning|2018|               42665|\n",
            "|         ESERO|2017|                8850|\n",
            "|         ESERO|2015|               13828|\n",
            "|       Warning|2012|                4692|\n",
            "|      Citation|2014|               66311|\n",
            "|         ESERO|2018|                3719|\n",
            "|         ESERO|2013|                7254|\n",
            "|      Citation|2013|               85065|\n",
            "|       Warning|2017|              102487|\n",
            "|       Warning|2013|               40715|\n",
            "|          SERO|2013|                   2|\n",
            "|      Citation|2015|              105595|\n",
            "|      Citation|2017|               77436|\n",
            "|       Warning|2016|              108036|\n",
            "|         ESERO|2016|               10827|\n",
            "|      Citation|2016|              100790|\n",
            "+--------------+----+--------------------+\n",
            "only showing top 20 rows\n",
            "\n"
          ],
          "name": "stdout"
        },
        {
          "output_type": "display_data",
          "data": {
            "image/png": "[encoded data removed]",
            "text/plain": [
              "<Figure size 504x432 with 1 Axes>"
            ]
          },
          "metadata": {
            "tags": [],
            "needs_background": "light"
          }
        }
      ]
    }
  ]
}